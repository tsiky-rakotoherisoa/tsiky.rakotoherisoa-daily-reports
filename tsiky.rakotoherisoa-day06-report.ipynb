{
 "cells": [
  {
   "cell_type": "markdown",
   "id": "4c33937f",
   "metadata": {},
   "source": [
    "1. Summations and products"
   ]
  },
  {
   "cell_type": "code",
   "execution_count": 32,
   "id": "bcb5e8fd",
   "metadata": {},
   "outputs": [
    {
     "name": "stdout",
     "output_type": "stream",
     "text": [
      "Choose one number: 5\n",
      "4\n",
      "6\n",
      "Sum = 10\n"
     ]
    }
   ],
   "source": [
    "n = int(input(\"Choose one number: \"))\n",
    "i = 1\n",
    "S = 0\n",
    "\n",
    "while (i < n):\n",
    "    s = i+3\n",
    "    i = i+2\n",
    "    print(s)\n",
    "    S += s\n",
    "print(f\"Sum = {S}\")"
   ]
  },
  {
   "cell_type": "code",
   "execution_count": 33,
   "id": "4e9e0d19",
   "metadata": {},
   "outputs": [
    {
     "name": "stdout",
     "output_type": "stream",
     "text": [
      "Choose a number5\n",
      "3\n",
      "5\n",
      "7\n",
      "Product = 105\n"
     ]
    }
   ],
   "source": [
    "n = int(input(\"Choose a number\"))\n",
    "i = 0\n",
    "P = 1\n",
    "\n",
    "while (i < n):\n",
    "    p = i + 3\n",
    "    i = i + 2\n",
    "    print(p)\n",
    "    P *= p\n",
    "print(f\"Product = {P}\")"
   ]
  },
  {
   "cell_type": "markdown",
   "id": "0c831675",
   "metadata": {},
   "source": [
    "2. Write a program that reads the number of the day of the week (from 0 to 6). If it is a\n",
    "working day, then the program will write the name of the corresponding day. Otherwise,\n",
    "it will write the word \"Weekend\"."
   ]
  },
  {
   "cell_type": "code",
   "execution_count": 34,
   "id": "c4b71821",
   "metadata": {},
   "outputs": [
    {
     "name": "stdout",
     "output_type": "stream",
     "text": [
      "Choose a number of the day of the week (from 0 to 6): 5\n",
      "Friday\n"
     ]
    }
   ],
   "source": [
    "day = input(\"Choose a number of the day of the week (from 0 to 6): \")\n",
    "if (day == \"0\"):\n",
    "    print(\"Sunday - Weekend\")\n",
    "elif (day == \"1\"):\n",
    "    print(\"Monday\")\n",
    "elif (day == \"2\"):\n",
    "    print(\"Tuesday\")\n",
    "elif (day == \"3\"):\n",
    "    print(\"Wednesday\")\n",
    "elif (day == \"4\"):\n",
    "    print(\"Thursday\")\n",
    "elif (day == \"5\"):\n",
    "    print(\"Friday\")\n",
    "elif (day == \"6\"):\n",
    "    print(\"Saturday - Weekend\")\n",
    "else:\n",
    "    print(\"Invalid number\")"
   ]
  },
  {
   "cell_type": "markdown",
   "id": "ff6693e2",
   "metadata": {},
   "source": [
    "3. Make a program that, given a month number (from 0 to 11), indicates how many days it\n",
    "has (28, 30 or 31), ignoring the leap years."
   ]
  },
  {
   "cell_type": "code",
   "execution_count": 38,
   "id": "d91f86b8",
   "metadata": {},
   "outputs": [
    {
     "name": "stdout",
     "output_type": "stream",
     "text": [
      "Choose a number of the month (from 0 to 11): 7\n",
      "This month has 30 days.\n"
     ]
    }
   ],
   "source": [
    "month = input(\"Choose a number of the month (from 0 to 11): \")\n",
    "\n",
    "if (month == \"0\"):\n",
    "    print(\"This month has 31 days.\")\n",
    "elif (month == \"1\"):\n",
    "    print(\"This month has 28 days.\")\n",
    "elif (month == \"2\"):\n",
    "    print(\"This month has 31 days.\")\n",
    "elif (month == \"3\"):\n",
    "    print(\"This month has 30 days.\")\n",
    "elif (month == \"4\"):\n",
    "    print(\"This month has 31 days.\")\n",
    "elif (month == \"5\"):\n",
    "    print(\"This month has 30 days.\")\n",
    "elif (month == \"6\"):\n",
    "    print(\"This month has 31 days.\")\n",
    "elif (month == \"7\"):\n",
    "    print(\"This month has 30 days.\")\n",
    "elif (month == \"8\"):\n",
    "    print(\"This month has 31 days.\")\n",
    "elif (month == \"9\"):\n",
    "    print(\"This month has 30 days.\")\n",
    "elif (month == \"10\"):\n",
    "    print(\"This month has 31 days.\")\n",
    "elif (month == \"11\"):\n",
    "    print(\"This month has 30 days.\")"
   ]
  },
  {
   "cell_type": "markdown",
   "id": "42f76e40",
   "metadata": {},
   "source": [
    "4. Write two versions of python code that displays your name 3 times. One version with a\n",
    "\"for loop\" and another version with a \"while loop\"."
   ]
  },
  {
   "cell_type": "markdown",
   "id": "071c6dc2",
   "metadata": {},
   "source": [
    "Using while loop"
   ]
  },
  {
   "cell_type": "code",
   "execution_count": 40,
   "id": "15e3affa",
   "metadata": {},
   "outputs": [
    {
     "name": "stdout",
     "output_type": "stream",
     "text": [
      "Write your name here: Tsiky\n",
      "My name is Tsiky\n",
      "My name is Tsiky\n",
      "My name is Tsiky\n"
     ]
    }
   ],
   "source": [
    "my_name = input(\"Write your name here: \")\n",
    "i = 1\n",
    "\n",
    "while (i < 4):\n",
    "    print(f\"My name is {my_name}\")\n",
    "    i += 1"
   ]
  },
  {
   "cell_type": "markdown",
   "id": "301b80a3",
   "metadata": {},
   "source": [
    "Using for loop"
   ]
  },
  {
   "cell_type": "code",
   "execution_count": 54,
   "id": "f6565bf0",
   "metadata": {},
   "outputs": [
    {
     "name": "stdout",
     "output_type": "stream",
     "text": [
      "Write your name here: Tsiky Tafita\n",
      "My name is Tsiky Tafita\n",
      "My name is Tsiky Tafita\n",
      "My name is Tsiky Tafita\n"
     ]
    }
   ],
   "source": [
    "my_name = input(\"Write your name here: \")\n",
    "\n",
    "for i in range(3):\n",
    "    print(f\"My name is {my_name}\")\n",
    "\n",
    "    "
   ]
  },
  {
   "cell_type": "markdown",
   "id": "458fd52e",
   "metadata": {},
   "source": [
    "5. Given two numbers a0 and a1, the Fibonacci sequence they generate is constructed from the recursion formula an+1 = an + an−1. Calculate the first 15 terms of a Fibonacci sequence, asking the user the initial values."
   ]
  },
  {
   "cell_type": "code",
   "execution_count": 63,
   "id": "cf96aaf5",
   "metadata": {},
   "outputs": [
    {
     "name": "stdout",
     "output_type": "stream",
     "text": [
      "Give a0: 1\n",
      "Give a1: 2\n",
      "a0 = 1 \n",
      "a1 = 2\n",
      "3\n",
      "5\n",
      "8\n",
      "13\n",
      "21\n",
      "34\n",
      "55\n",
      "89\n",
      "144\n",
      "233\n",
      "377\n",
      "610\n",
      "987\n",
      "1597\n"
     ]
    }
   ],
   "source": [
    "a0 = int(input(\"Give a0: \"))\n",
    "a1 = int(input(\"Give a1: \"))\n",
    "\n",
    "print(f\"a0 = {a0} \\na1 = {a1}\")\n",
    "\n",
    "i = 2\n",
    "n = 16\n",
    "\n",
    "while (i < n):\n",
    "    a_n = a1 + a0\n",
    "    print(a_n)\n",
    "    a0 = a1\n",
    "    a1 = a_n\n",
    "    i += 1\n"
   ]
  },
  {
   "cell_type": "markdown",
   "id": "dda5b0ff",
   "metadata": {},
   "source": [
    "6. Compute the first 30 terms of the sequence defined by 2xn+2 − xn+1 − 6xn = 0 sequence, given any two initial values x0 and x1"
   ]
  },
  {
   "cell_type": "code",
   "execution_count": 65,
   "id": "6fcbde7a",
   "metadata": {},
   "outputs": [
    {
     "name": "stdout",
     "output_type": "stream",
     "text": [
      "Give x0: 0\n",
      "Give x1: 1\n",
      "x0 = 0 \n",
      "x1 = 1\n",
      "0.5\n",
      "3.25\n",
      "3.125\n",
      "11.3125\n",
      "15.03125\n",
      "41.453125\n",
      "65.8203125\n",
      "157.26953125\n",
      "276.095703125\n",
      "609.8564453125\n",
      "1133.21533203125\n",
      "2396.177001953125\n",
      "4597.7344970703125\n",
      "9487.398254394531\n",
      "18536.902618408203\n",
      "37730.646072387695\n",
      "74476.03089141846\n",
      "150429.9536628723\n",
      "298643.0695056915\n",
      "600611.3957414627\n",
      "1196234.906387806\n",
      "2399951.640418291\n",
      "4788680.539372563\n",
      "9594195.190941155\n",
      "19163139.213588268\n",
      "38364155.1796176\n",
      "76671495.2305736\n",
      "153428213.15413958\n",
      "306728592.2687906\n"
     ]
    }
   ],
   "source": [
    "x0 = int(input(\"Give x0: \"))\n",
    "x1 = int(input(\"Give x1: \"))\n",
    "\n",
    "print(f\"x0 = {x0} \\nx1 = {x1}\")\n",
    "\n",
    "i = 2\n",
    "n = 31\n",
    "\n",
    "while (i < n):\n",
    "    x_n = (x1 + 6*x0) / 2\n",
    "    print(x_n)\n",
    "    x0 = x1\n",
    "    x1 = x_n\n",
    "    i += 1"
   ]
  },
  {
   "cell_type": "markdown",
   "id": "ef432d33",
   "metadata": {},
   "source": [
    "7. a) Write python code to determine whether or not a year is a leap year. Be sure you know what a leap year is.\n",
    "b) Write the code using only logical operators, i.e. no conditional branching."
   ]
  },
  {
   "cell_type": "markdown",
   "id": "4c71820c",
   "metadata": {},
   "source": [
    "7.a."
   ]
  },
  {
   "cell_type": "code",
   "execution_count": 72,
   "id": "0591fd40",
   "metadata": {},
   "outputs": [
    {
     "name": "stdout",
     "output_type": "stream",
     "text": [
      "Give a year: 2024\n",
      "2024 is a leap year.\n"
     ]
    }
   ],
   "source": [
    "year = int(input(\"Give a year: \"))\n",
    "if (year % 4 == 0 & year % 400 == 0):\n",
    "    print(f\"{year} is a leap year.\")\n",
    "else:\n",
    "    print(f\"{year} is not a leap year.\")"
   ]
  },
  {
   "cell_type": "markdown",
   "id": "176fe0b9",
   "metadata": {},
   "source": [
    "7.b"
   ]
  },
  {
   "cell_type": "code",
   "execution_count": 154,
   "id": "e5d91cf4",
   "metadata": {},
   "outputs": [
    {
     "name": "stdout",
     "output_type": "stream",
     "text": [
      "enter an year:2004\n",
      "True\n"
     ]
    }
   ],
   "source": [
    "years = int(input(\"enter an year:\"))\n",
    "print((years % 4 == 0 and years % 100 != 0) or (years % 400 == 0) )"
   ]
  },
  {
   "cell_type": "markdown",
   "id": "b4d2c9c2",
   "metadata": {},
   "source": [
    "8. a) Write python code that computes the sum of the square of the first n natural numbers.\n",
    "One version with a \"for loop\" and another version with a \"while loop\".\n",
    "b) Write python code that prints, for a natural number M , the smallest natural number n such that 12 + 22 + · · · + n2 ≥ M. One version with a \"for loop\" and another version with a \"while loop\"."
   ]
  },
  {
   "cell_type": "markdown",
   "id": "5196ed83",
   "metadata": {},
   "source": [
    "8.a"
   ]
  },
  {
   "cell_type": "markdown",
   "id": "cc4b815d",
   "metadata": {},
   "source": [
    "Using while loop"
   ]
  },
  {
   "cell_type": "code",
   "execution_count": 83,
   "id": "46bf09c3",
   "metadata": {},
   "outputs": [
    {
     "name": "stdout",
     "output_type": "stream",
     "text": [
      "Choose a n: 5\n",
      "1\n",
      "4\n",
      "9\n",
      "16\n",
      "25\n",
      "The sum square of 5 = 55\n"
     ]
    }
   ],
   "source": [
    "n = int(input(\"Choose a n: \"))\n",
    "\n",
    "i = 1\n",
    "S = 0\n",
    "\n",
    "while (i < n+1):\n",
    "    s = i**2\n",
    "    print(s)\n",
    "    i += 1\n",
    "    \n",
    "    S += s\n",
    "print(f\"The sum square of {n} = {S}\")"
   ]
  },
  {
   "cell_type": "markdown",
   "id": "9c1532a8",
   "metadata": {},
   "source": [
    "Using for loop"
   ]
  },
  {
   "cell_type": "code",
   "execution_count": 93,
   "id": "d0ba7b5d",
   "metadata": {},
   "outputs": [
    {
     "name": "stdout",
     "output_type": "stream",
     "text": [
      "Enter a n: 5\n",
      "0\n",
      "1\n",
      "4\n",
      "9\n",
      "16\n",
      "25\n",
      "Sum = 55\n"
     ]
    }
   ],
   "source": [
    "n = int(input(\"Enter a n: \"))\n",
    "S = 0\n",
    "for i in range(n+1):\n",
    "    s = i**2\n",
    "    print(s)\n",
    "    S += s\n",
    "print(f\"Sum = {S}\")"
   ]
  },
  {
   "cell_type": "markdown",
   "id": "3202a8eb",
   "metadata": {},
   "source": [
    "8.b"
   ]
  },
  {
   "cell_type": "markdown",
   "id": "6f1882f0",
   "metadata": {},
   "source": [
    "Using while loop"
   ]
  },
  {
   "cell_type": "code",
   "execution_count": 152,
   "id": "8c101547",
   "metadata": {},
   "outputs": [
    {
     "name": "stdout",
     "output_type": "stream",
     "text": [
      "Choose a number that you want to end: 5\n",
      "n = 2\n"
     ]
    }
   ],
   "source": [
    "M = int(input(\"Choose a number that you want to end: \"))\n",
    "S = 0\n",
    "\n",
    "i = 0\n",
    "while (i < (M+1)):\n",
    "    i = i + 1\n",
    "    S += i**2\n",
    "    if(S >= M):\n",
    "        break\n",
    "print(f\"n = {i}\")\n"
   ]
  },
  {
   "cell_type": "markdown",
   "id": "702266f3",
   "metadata": {},
   "source": [
    "Using for loop"
   ]
  },
  {
   "cell_type": "code",
   "execution_count": 153,
   "id": "f1dba87e",
   "metadata": {},
   "outputs": [
    {
     "name": "stdout",
     "output_type": "stream",
     "text": [
      "Choose a number that you want to end: 5\n",
      "2\n"
     ]
    }
   ],
   "source": [
    "M = int(input(\"Choose a number that you want to end: \"))\n",
    "\n",
    "S = 0\n",
    "for i in range(M+1):\n",
    "    S = S + i**2\n",
    "    if (S >= M):\n",
    "        break\n",
    "print(i)"
   ]
  },
  {
   "cell_type": "markdown",
   "id": "048ecf07",
   "metadata": {},
   "source": [
    "9. a) Write python code that prints all the divisors of a given natural number.\n",
    "b) Read an integer number input by the user and calculate its prime factors. This will just be some of its divisors."
   ]
  },
  {
   "cell_type": "markdown",
   "id": "c04a0bdc",
   "metadata": {},
   "source": [
    "9.a"
   ]
  },
  {
   "cell_type": "code",
   "execution_count": 134,
   "id": "b50f06bb",
   "metadata": {},
   "outputs": [
    {
     "name": "stdout",
     "output_type": "stream",
     "text": [
      "Enter a natural number: 6\n",
      "1\n",
      "2\n",
      "3\n",
      "6\n"
     ]
    }
   ],
   "source": [
    "n = int(input(\"Enter a natural number: \"))\n",
    "\n",
    "for i in range(1,n+1):\n",
    "    if (n % i == 0):\n",
    "        print(i)  "
   ]
  },
  {
   "cell_type": "markdown",
   "id": "d1b869ea",
   "metadata": {},
   "source": [
    "9.b"
   ]
  },
  {
   "cell_type": "code",
   "execution_count": 146,
   "id": "d945d113",
   "metadata": {},
   "outputs": [
    {
     "name": "stdout",
     "output_type": "stream",
     "text": [
      "Enter a natural number: 50\n",
      "1\n",
      "2\n",
      "5\n",
      "10\n",
      "25\n",
      "50\n"
     ]
    }
   ],
   "source": [
    "n = int(input(\"Enter a natural number: \"))\n",
    "\n",
    "for i in range(1,n+1):\n",
    "     if (n % i == 0 and (i % 1 == 0 or i % i == 0)):\n",
    "        print(i)  "
   ]
  },
  {
   "cell_type": "markdown",
   "id": "99f8ab6a",
   "metadata": {},
   "source": [
    "10.  Read an integer number between n 0 and 9 and print its multiplication table up to N. where N is another another natural number read by the program."
   ]
  },
  {
   "cell_type": "code",
   "execution_count": 115,
   "id": "4052d5d3",
   "metadata": {},
   "outputs": [
    {
     "name": "stdout",
     "output_type": "stream",
     "text": [
      "Enter N: 10\n",
      "Enter n(between 0 and 9): 5\n",
      "5 * 0 = 0\n",
      "5 * 1 = 5\n",
      "5 * 2 = 10\n",
      "5 * 3 = 15\n",
      "5 * 4 = 20\n",
      "5 * 5 = 25\n",
      "5 * 6 = 30\n",
      "5 * 7 = 35\n",
      "5 * 8 = 40\n",
      "5 * 9 = 45\n",
      "5 * 10 = 50\n"
     ]
    }
   ],
   "source": [
    "N = int(input(\"Enter N: \"))\n",
    "n = int(input(\"Enter n(between 0 and 9): \"))\n",
    "i = 0\n",
    "while(i<=N):\n",
    "    print(f\"{n} * {i} = {n*i}\")\n",
    "    i += 1"
   ]
  },
  {
   "cell_type": "markdown",
   "id": "f1c8cb10",
   "metadata": {},
   "source": [
    "11. Write a program that prints all the numbers between 0 and 40 that are multiples of 3, 7 or 11."
   ]
  },
  {
   "cell_type": "code",
   "execution_count": 119,
   "id": "88f935db",
   "metadata": {},
   "outputs": [
    {
     "name": "stdout",
     "output_type": "stream",
     "text": [
      "The multiple of 3 or 7 or 11 between 0 and 40 are: \n",
      "\n",
      "0\n",
      "3\n",
      "6\n",
      "7\n",
      "9\n",
      "11\n",
      "12\n",
      "14\n",
      "15\n",
      "18\n",
      "21\n",
      "22\n",
      "24\n",
      "27\n",
      "28\n",
      "30\n",
      "33\n",
      "35\n",
      "36\n",
      "39\n"
     ]
    }
   ],
   "source": [
    "n = 40\n",
    "i = 0\n",
    "print(f\"The multiple of 3 or 7 or 11 between 0 and 40 are: \\n\")\n",
    "while (i <= 40):\n",
    "    if (i % 3 == 0 or i % 7 == 0 or i % 11 == 0):\n",
    "        print(i)\n",
    "    i = i + 1"
   ]
  },
  {
   "cell_type": "markdown",
   "id": "907b44f8",
   "metadata": {},
   "source": [
    "12. Write python code that prints the floor of a float x. Recall that the floor of a float x is the largest integer value less than or equal to x, i.e. if E[x] is the floor of x, then it satisfies,\n",
    "E[x] = 1 + E[x − 1]"
   ]
  },
  {
   "cell_type": "code",
   "execution_count": 145,
   "id": "dfef8f4c",
   "metadata": {},
   "outputs": [
    {
     "name": "stdout",
     "output_type": "stream",
     "text": [
      "Enter a float number: 5.6\n"
     ]
    },
    {
     "data": {
      "text/plain": [
       "5"
      ]
     },
     "execution_count": 145,
     "metadata": {},
     "output_type": "execute_result"
    }
   ],
   "source": [
    "import math\n",
    "x = float(input(\"Enter a float number: \"))\n",
    "floorx = math.floor(x)\n",
    "floorx"
   ]
  },
  {
   "cell_type": "markdown",
   "id": "e0906f43",
   "metadata": {},
   "source": [
    "13. Given a point in the plane by its Cartesian coordinates, determine in which quadrant it is (1st, 2nd, 3rd, 4th), if it lies on an axis, or if it is the origin. Do this for several points in the same execution of the program until the user quits."
   ]
  },
  {
   "cell_type": "code",
   "execution_count": null,
   "id": "a0831d3c",
   "metadata": {},
   "outputs": [],
   "source": []
  },
  {
   "cell_type": "markdown",
   "id": "16b7fe6e",
   "metadata": {},
   "source": [
    "14. Ask for an integer number between 0 and 9, denoted x. Once the user has entered a correct number (that is one in the range [0..10)) the program asks for a second integer number between 0 and 255, denoted max. The program continues asking for the number until it\n",
    "is correct (that it is in the range [0..256)). When this is done, show all multiples of x that\n",
    "are between 0 and max. Then, ask the user whether he/she wants to continue; if in the affirmative, ask for another couple of numbers, otherwise finish."
   ]
  },
  {
   "cell_type": "code",
   "execution_count": 143,
   "id": "a829a350",
   "metadata": {},
   "outputs": [
    {
     "name": "stdout",
     "output_type": "stream",
     "text": [
      "Enter an integer number between 0 and 9: 2\n",
      "correct!\n",
      "Enter an integer number between 0 and 255: 20\n",
      "correct!\n",
      "2\n",
      "4\n",
      "6\n",
      "8\n",
      "10\n",
      "12\n",
      "14\n",
      "16\n",
      "18\n",
      "Do you want to finish? [yes/no]: no\n",
      "Enter an integer number between 0 and 9: 5\n",
      "correct!\n",
      "Enter an integer number between 0 and 255: 60\n",
      "correct!\n",
      "5\n",
      "10\n",
      "15\n",
      "20\n",
      "25\n",
      "30\n",
      "35\n",
      "40\n",
      "45\n",
      "50\n",
      "55\n"
     ]
    }
   ],
   "source": [
    "x = int(input(\"Enter an integer number between 0 and 9: \"))\n",
    "if (x<=9 and x> 0):\n",
    "    print(\"correct!\")\n",
    "else:\n",
    "    print(\"Not correct! Retry!\")\n",
    "    x = int(input(\"Enter an integer number between 0 and 9: \"))\n",
    "\n",
    "maxx = int(input(\"Enter an integer number between 0 and 255: \"))\n",
    "if (maxx<=255 and x> 0):\n",
    "    print(\"correct!\")\n",
    "else:\n",
    "    print(\"Not correct! Retry!\")\n",
    "    maxx = int(input(\"Enter an integer number between 0 and 255: \"))\n",
    "    \n",
    "for i in range(1,maxx):\n",
    "    if (i % x == 0):\n",
    "        print(i)\n",
    "        \n",
    "answer = input(\"Do you want to finish? [yes/no]: \")\n",
    "if (answer == \"yes\"):\n",
    "    print(\" \")\n",
    "elif (answer == \"no\"):\n",
    "    x = int(input(\"Enter an integer number between 0 and 9: \"))\n",
    "    if (x<=9 and x> 0):\n",
    "        print(\"correct!\")\n",
    "    else:\n",
    "        print(\"Not correct! Retry!\")\n",
    "        x = int(input(\"Enter an integer number between 0 and 9: \"))\n",
    "\n",
    "    maxx = int(input(\"Enter an integer number between 0 and 255: \"))\n",
    "    if (maxx<=255 and x> 0):\n",
    "        print(\"correct!\")\n",
    "    else:\n",
    "        print(\"Not correct! Retry!\")\n",
    "        maxx = int(input(\"Enter an integer number between 0 and 255: \"))\n",
    "    \n",
    "    for i in range(1,maxx):\n",
    "        if (i % x == 0):\n",
    "            print(i)\n",
    "    "
   ]
  },
  {
   "cell_type": "code",
   "execution_count": null,
   "id": "48068b3d",
   "metadata": {},
   "outputs": [],
   "source": []
  }
 ],
 "metadata": {
  "kernelspec": {
   "display_name": "Python 3",
   "language": "python",
   "name": "python3"
  },
  "language_info": {
   "codemirror_mode": {
    "name": "ipython",
    "version": 3
   },
   "file_extension": ".py",
   "mimetype": "text/x-python",
   "name": "python",
   "nbconvert_exporter": "python",
   "pygments_lexer": "ipython3",
   "version": "3.9.2"
  }
 },
 "nbformat": 4,
 "nbformat_minor": 5
}
