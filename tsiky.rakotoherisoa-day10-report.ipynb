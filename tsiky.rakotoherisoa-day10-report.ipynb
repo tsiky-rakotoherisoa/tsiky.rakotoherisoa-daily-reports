{
 "cells": [
  {
   "cell_type": "markdown",
   "id": "e56e5226",
   "metadata": {},
   "source": [
    "# PyPro: Challenge 2\n",
    "\n",
    "### This challenge is due on Saturday, October 5th, 2024, at 8pm.\n",
    "\n",
    "`These exercises offer a diverse array of tasks that assess your comprehension of fundamental Python concepts such as loops, data types, string manipulations, list comprehensions, and higher-order functions.`\n",
    "\n",
    "| Levels | Level Description | Estimated Completion Time per Exercise |\n",
    "| :----- | :---------------: | -------------------------------------: |\n",
    "| L1     | Beginner. The solutions can typically be found in standard textbooks. | 5 - 10 minutes |\n",
    "| L2     | Intermediate. Requires problem-solving skills. Solutions are not directly found in textbooks. | 10 - 20 minutes |\n",
    "| L3     | Advanced. You should be capable of using Python to solve more intricate problems involving libraries, data structures, and algorithms. | 20 - 30 minutes |\n",
    "\n",
    "---"
   ]
  },
  {
   "cell_type": "markdown",
   "id": "62d8a1e3",
   "metadata": {},
   "source": [
    "#### Question 1  \n",
    "**Level 1**\n",
    "\n",
    "**Task:**  \n",
    "Develop a program to find all numbers between 2000 and 3200 (inclusive) that are divisible by 7 but not multiples of 5. Display these numbers as a single line of output, separated by commas.\n",
    "\n",
    "---"
   ]
  },
  {
   "cell_type": "code",
   "execution_count": 36,
   "id": "cdc18916",
   "metadata": {},
   "outputs": [
    {
     "name": "stdout",
     "output_type": "stream",
     "text": [
      "2002,2009,2016,2023,2037,2044,2051,2058,2072,2079,2086,2093,2107,2114,2121,2128,2142,2149,2156,2163,2177,2184,2191,2198,2212,2219,2226,2233,2247,2254,2261,2268,2282,2289,2296,2303,2317,2324,2331,2338,2352,2359,2366,2373,2387,2394,2401,2408,2422,2429,2436,2443,2457,2464,2471,2478,2492,2499,2506,2513,2527,2534,2541,2548,2562,2569,2576,2583,2597,2604,2611,2618,2632,2639,2646,2653,2667,2674,2681,2688,2702,2709,2716,2723,2737,2744,2751,2758,2772,2779,2786,2793,2807,2814,2821,2828,2842,2849,2856,2863,2877,2884,2891,2898,2912,2919,2926,2933,2947,2954,2961,2968,2982,2989,2996,3003,3017,3024,3031,3038,3052,3059,3066,3073,3087,3094,3101,3108,3122,3129,3136,3143,3157,3164,3171,3178,3192,3199,"
     ]
    }
   ],
   "source": [
    "for i in range(2000,3201):\n",
    "    if i%7==0 and i%5!=0:\n",
    "        print(i,end=\",\")"
   ]
  },
  {
   "cell_type": "code",
   "execution_count": 25,
   "id": "db5a8af4",
   "metadata": {},
   "outputs": [
    {
     "data": {
      "text/plain": [
       "'1,2'"
      ]
     },
     "execution_count": 25,
     "metadata": {},
     "output_type": "execute_result"
    }
   ],
   "source": [
    "\",\".join([\"1\", \"2\"])"
   ]
  },
  {
   "cell_type": "markdown",
   "id": "88796f2e",
   "metadata": {},
   "source": [
    "#### Question 2  \n",
    "**Level 1**"
   ]
  },
  {
   "cell_type": "markdown",
   "id": "f0fa91a0",
   "metadata": {},
   "source": [
    "**Task:**  \n",
    "Create a function that computes the factorial of a specified integer. Display the result in a single line of output. For example, if the input is:  \n",
    "`8`  \n",
    "Then, the output should be:  \n",
    "`40320`"
   ]
  },
  {
   "cell_type": "code",
   "execution_count": 14,
   "id": "665a3a17",
   "metadata": {},
   "outputs": [],
   "source": [
    "def factorial(x):\n",
    "    f = 1\n",
    "    for i in range(1,x+1):\n",
    "        f *= i\n",
    "    return f"
   ]
  },
  {
   "cell_type": "code",
   "execution_count": 15,
   "id": "60c8ebb9",
   "metadata": {},
   "outputs": [
    {
     "data": {
      "text/plain": [
       "40320"
      ]
     },
     "execution_count": 15,
     "metadata": {},
     "output_type": "execute_result"
    }
   ],
   "source": [
    "factorial(8)"
   ]
  },
  {
   "cell_type": "markdown",
   "id": "b13b7c73",
   "metadata": {},
   "source": [
    "#### Question 3  \n",
    "**Level 1**\n",
    "\n",
    "**Task:**  \n",
    "Given an integer `n`, generate a dictionary with entries (i, i*i) for all integers from 1 to `n` (inclusive). Print the resulting dictionary. For example, if the input is:  \n",
    "`8`  \n",
    "Then, the output should be:  \n",
    "`{1: 1, 2: 4, 3: 9, 4: 16, 5: 25, 6: 36, 7: 49, 8: 64}`\n",
    "\n",
    "---"
   ]
  },
  {
   "cell_type": "code",
   "execution_count": 16,
   "id": "6e10bff3",
   "metadata": {},
   "outputs": [],
   "source": [
    "def dic_result(n):\n",
    "    d = {k:k*k for k in range(1,n+1)}\n",
    "    return d"
   ]
  },
  {
   "cell_type": "code",
   "execution_count": 17,
   "id": "59d87f19",
   "metadata": {},
   "outputs": [
    {
     "data": {
      "text/plain": [
       "{1: 1, 2: 4, 3: 9, 4: 16, 5: 25, 6: 36, 7: 49, 8: 64}"
      ]
     },
     "execution_count": 17,
     "metadata": {},
     "output_type": "execute_result"
    }
   ],
   "source": [
    "dic_result(8)"
   ]
  },
  {
   "cell_type": "markdown",
   "id": "0b54c226",
   "metadata": {},
   "source": [
    "#### Question 4  \n",
    "**Level 1**\n",
    "\n",
    "**Task:**  \n",
    "Create a program that reads a series of comma-separated numbers from the console, then generates and prints both a list and a tuple containing those numbers. For example, if the input is:  \n",
    "`34,67,55,33,12,98`  \n",
    "The output should be:  \n",
    "`['34', '67', '55', '33', '12', '98']`  \n",
    "`('34', '67', '55', '33', '12', '98')`\n",
    "\n",
    "---"
   ]
  },
  {
   "cell_type": "code",
   "execution_count": 18,
   "id": "9b0fd469",
   "metadata": {},
   "outputs": [],
   "source": [
    "def list_tuple_gen(s:str):\n",
    "    liste = s.split(\",\")\n",
    "    return liste, tuple(liste)"
   ]
  },
  {
   "cell_type": "code",
   "execution_count": 22,
   "id": "212c1d42",
   "metadata": {},
   "outputs": [
    {
     "name": "stdout",
     "output_type": "stream",
     "text": [
      "['34', '67', '55', '33', '12', '98']\n",
      "('34', '67', '55', '33', '12', '98')\n"
     ]
    }
   ],
   "source": [
    "print(list_tuple_gen(\"34,67,55,33,12,98\")[0])\n",
    "print(list_tuple_gen(\"34,67,55,33,12,98\")[1])"
   ]
  },
  {
   "cell_type": "markdown",
   "id": "940d624b",
   "metadata": {},
   "source": [
    "#### Question 5  \n",
    "**Level 1**\n",
    "\n",
    "**Task:**  \n",
    "Create a class that has two methods:  \n",
    "- `getString`: To accept a string input from the console.  \n",
    "- `printString`: To display the string in uppercase.  \n",
    "Include a simple test function to demonstrate the class methods.\n",
    "\n",
    "---"
   ]
  },
  {
   "cell_type": "code",
   "execution_count": 37,
   "id": "2d845eaa",
   "metadata": {},
   "outputs": [],
   "source": [
    "class Myclass:\n",
    "    def getString(self,s:str):\n",
    "        self.s = s\n",
    "        \n",
    "    def printString(self):\n",
    "        print(self.s.upper())"
   ]
  },
  {
   "cell_type": "code",
   "execution_count": 39,
   "id": "5915ad75",
   "metadata": {},
   "outputs": [
    {
     "name": "stdout",
     "output_type": "stream",
     "text": [
      "HELLO TSIKY\n"
     ]
    }
   ],
   "source": [
    "f = Myclass()\n",
    "f.getString(\"hello tsiky\")\n",
    "f.printString()"
   ]
  },
  {
   "cell_type": "markdown",
   "id": "e4d31c08",
   "metadata": {},
   "source": [
    "#### Question 6  \n",
    "**Level 2**\n",
    "\n",
    "**Task:**  \n",
    "Write a program that calculates and prints values based on the formula:  \n",
    "$$ Q = \\sqrt{\\frac{2 \\times C \\times D}{H}} $$  \n",
    "Here, C and H are fixed constants with values 50 and 30, respectively. `D` is a variable whose values are input to the program as a comma-separated sequence. For example, if the input is:  \n",
    "`100,150,180`  \n",
    "Then, the output should be:  \n",
    "`18,22,24`\n",
    "\n",
    "---"
   ]
  },
  {
   "cell_type": "code",
   "execution_count": 44,
   "id": "5d9d25da",
   "metadata": {},
   "outputs": [],
   "source": [
    "import math\n",
    "\n",
    "def calculate_Q(seq:str):\n",
    "    Q = []\n",
    "    C, H = 50, 30\n",
    "    sequence = seq.split(\",\")\n",
    "    for i in sequence:\n",
    "        q = math.sqrt((2*C*int(i)) / H)\n",
    "        Q.append(str(int(q)))\n",
    "    return \",\".join(Q)"
   ]
  },
  {
   "cell_type": "code",
   "execution_count": 45,
   "id": "b9455bff",
   "metadata": {},
   "outputs": [
    {
     "data": {
      "text/plain": [
       "'18,22,24'"
      ]
     },
     "execution_count": 45,
     "metadata": {},
     "output_type": "execute_result"
    }
   ],
   "source": [
    "calculate_Q(\"100,150,180\")"
   ]
  },
  {
   "cell_type": "markdown",
   "id": "e30f56f4",
   "metadata": {},
   "source": [
    "#### Question 7  \n",
    "**Level 2**\n",
    "\n",
    "**Task:**  \n",
    "Write a program that accepts two numbers, X and Y, as input and generates a 2-dimensional list. The value at the i-th row and j-th column should be the product of `i` and `j`. For example, if the input is:  \n",
    "`3,5`  \n",
    "The output should be:  \n",
    "`[[0, 0, 0, 0, 0], [0, 1, 2, 3, 4], [0, 2, 4, 6, 8]]`\n",
    "\n",
    "---"
   ]
  },
  {
   "cell_type": "code",
   "execution_count": 48,
   "id": "97d84201",
   "metadata": {},
   "outputs": [],
   "source": [
    "def gen_list(X,Y):\n",
    "    G = []\n",
    "    for i in range(X):\n",
    "        l = []\n",
    "        for j in range(Y):\n",
    "            l.append(i*j)\n",
    "        G.append(l)\n",
    "    return G"
   ]
  },
  {
   "cell_type": "code",
   "execution_count": 49,
   "id": "244a462f",
   "metadata": {},
   "outputs": [
    {
     "data": {
      "text/plain": [
       "[[0, 0, 0, 0, 0], [0, 1, 2, 3, 4], [0, 2, 4, 6, 8]]"
      ]
     },
     "execution_count": 49,
     "metadata": {},
     "output_type": "execute_result"
    }
   ],
   "source": [
    "gen_list(3,5)"
   ]
  },
  {
   "cell_type": "markdown",
   "id": "08f0ae7a",
   "metadata": {},
   "source": [
    "#### Question 8  \n",
    "**Level 2**\n",
    "\n",
    "**Task:**  \n",
    "Write a program that accepts a comma-separated list of words, sorts them alphabetically, and then prints them in a single line, separated by commas. For example, if the input is:  \n",
    "`without,hello,bag,world`  \n",
    "The output should be:  \n",
    "`bag,hello,without,world`\n",
    "\n",
    "---"
   ]
  },
  {
   "cell_type": "code",
   "execution_count": 54,
   "id": "f847b318",
   "metadata": {},
   "outputs": [],
   "source": [
    "def gen_sort(s:str):\n",
    "    string = s.split(\",\")\n",
    "    return \",\".join(sorted(string))\n",
    "    "
   ]
  },
  {
   "cell_type": "code",
   "execution_count": 55,
   "id": "af0bba3d",
   "metadata": {},
   "outputs": [
    {
     "data": {
      "text/plain": [
       "'bag,hello,without,world'"
      ]
     },
     "execution_count": 55,
     "metadata": {},
     "output_type": "execute_result"
    }
   ],
   "source": [
    "gen_sort(\"without,hello,bag,world\")"
   ]
  },
  {
   "cell_type": "markdown",
   "id": "485325c5",
   "metadata": {},
   "source": [
    "#### Question 9  \n",
    "**Level 2**\n",
    "\n",
    "**Task:**  \n",
    "Create a program that reads multiple lines of input and outputs each line with all characters converted to uppercase. For example, if the input is:  \n",
    "`Hello world`  \n",
    "`Practice makes perfect`  \n",
    "The output should be:  \n",
    "`HELLO WORLD`  \n",
    "`PRACTICE MAKES PERFECT`\n",
    "\n",
    "---"
   ]
  },
  {
   "cell_type": "code",
   "execution_count": 60,
   "id": "45c44fa5",
   "metadata": {},
   "outputs": [],
   "source": [
    "def text_to_upper(s:str):\n",
    "    return print(s.upper())"
   ]
  },
  {
   "cell_type": "code",
   "execution_count": 61,
   "id": "1d52d1fc",
   "metadata": {},
   "outputs": [
    {
     "name": "stdout",
     "output_type": "stream",
     "text": [
      "HELLO WORLD \n",
      "PRACTICE MAKES PERFECT\n"
     ]
    }
   ],
   "source": [
    "text_to_upper(\"\"\"Hello world \n",
    "Practice makes perfect\"\"\")"
   ]
  },
  {
   "cell_type": "markdown",
   "id": "22b75773",
   "metadata": {},
   "source": [
    "#### Question 10  \n",
    "**Level 2**\n",
    "\n",
    "**Task:**  \n",
    "Write a program that reads a sequence of whitespace-separated words, removes all duplicate words, sorts them alphanumerically, and then prints the resulting words. For example, if the input is:  \n",
    "`hello world and practice makes perfect and hello world again`  \n",
    "The output should be:  \n",
    "`again and hello makes perfect practice world`\n",
    "\n",
    "---"
   ]
  },
  {
   "cell_type": "code",
   "execution_count": 65,
   "id": "f6041647",
   "metadata": {},
   "outputs": [],
   "source": [
    "def resulting_words(s:str):\n",
    "    string = s.split()\n",
    "    set_string = sorted(set(string))\n",
    "    \n",
    "    return \" \".join(set_string)"
   ]
  },
  {
   "cell_type": "code",
   "execution_count": 66,
   "id": "0d03941f",
   "metadata": {},
   "outputs": [
    {
     "data": {
      "text/plain": [
       "'again and hello makes perfect practice world'"
      ]
     },
     "execution_count": 66,
     "metadata": {},
     "output_type": "execute_result"
    }
   ],
   "source": [
    "resulting_words(\"hello world and practice makes perfect and hello world again\")"
   ]
  },
  {
   "cell_type": "markdown",
   "id": "a2b45a99",
   "metadata": {},
   "source": [
    "#### Question 11  \n",
    "**Level 2**\n",
    "\n",
    "**Task:**  \n",
    "Create a program that takes a sequence of 4-digit binary numbers, checks which ones are divisible by 5, and prints them as a comma-separated sequence. For example, if the input is:  \n",
    "`0100,0011,1010,1001`  \n",
    "The output should be:  \n",
    "`1010`  \n",
    "Note: Assume the input is provided through the console.\n",
    "\n",
    "---"
   ]
  },
  {
   "cell_type": "code",
   "execution_count": 69,
   "id": "2674666c",
   "metadata": {},
   "outputs": [],
   "source": [
    "def check_binary(s:str):\n",
    "    string = s.split(\",\")\n",
    "    value = []\n",
    "    for i in string:\n",
    "        if int(i, base=2)%5==0:\n",
    "            value.append(i)\n",
    "    return value"
   ]
  },
  {
   "cell_type": "code",
   "execution_count": 70,
   "id": "f5c746ca",
   "metadata": {},
   "outputs": [
    {
     "data": {
      "text/plain": [
       "['1010']"
      ]
     },
     "execution_count": 70,
     "metadata": {},
     "output_type": "execute_result"
    }
   ],
   "source": [
    "check_binary(\"0100,0011,1010,1001\")"
   ]
  },
  {
   "cell_type": "markdown",
   "id": "593138d4",
   "metadata": {},
   "source": [
    "#### Question 12  \n",
    "**Level 2**\n",
    "\n",
    "**Task:**  \n",
    "Develop a program that finds all numbers between 1000 and 3000 (inclusive) where each digit is an even number. Print the results as a comma-separated sequence in a single line.\n",
    "\n",
    "---"
   ]
  },
  {
   "cell_type": "code",
   "execution_count": 95,
   "id": "59e7c0a6",
   "metadata": {},
   "outputs": [
    {
     "name": "stdout",
     "output_type": "stream",
     "text": [
      "2000,2002,2004,2006,2008,2020,2022,2024,2026,2028,2040,2042,2044,2046,2048,2060,2062,2064,2066,2068,2080,2082,2084,2086,2088,2200,2202,2204,2206,2208,2220,2222,2224,2226,2228,2240,2242,2244,2246,2248,2260,2262,2264,2266,2268,2280,2282,2284,2286,2288,2400,2402,2404,2406,2408,2420,2422,2424,2426,2428,2440,2442,2444,2446,2448,2460,2462,2464,2466,2468,2480,2482,2484,2486,2488,2600,2602,2604,2606,2608,2620,2622,2624,2626,2628,2640,2642,2644,2646,2648,2660,2662,2664,2666,2668,2680,2682,2684,2686,2688,2800,2802,2804,2806,2808,2820,2822,2824,2826,2828,2840,2842,2844,2846,2848,2860,2862,2864,2866,2868,2880,2882,2884,2886,2888,"
     ]
    }
   ],
   "source": [
    "for i in range(1000,3001):\n",
    "    l = []\n",
    "    for j in str(i):\n",
    "        if int(j)%2==0:\n",
    "            l.append(j)\n",
    "    if len(l)==4:\n",
    "        print(\"\".join(l), end=\",\")\n",
    "    "
   ]
  },
  {
   "cell_type": "markdown",
   "id": "fa62749b",
   "metadata": {},
   "source": [
    "#### Question 13  \n",
    "**Level 2**\n",
    "\n",
    "**Task:**  \n",
    "Write a program that counts the number of letters and digits in a given sentence. For example, if the input is:  \n",
    "`hello world! 123`  \n",
    "The output should be:  \n",
    "`LETTERS 10`  \n",
    "`DIGITS 3`\n",
    "\n",
    "---"
   ]
  },
  {
   "cell_type": "code",
   "execution_count": 103,
   "id": "5231ab47",
   "metadata": {},
   "outputs": [
    {
     "name": "stdout",
     "output_type": "stream",
     "text": [
      "letters 10 \n",
      "digits 3\n"
     ]
    }
   ],
   "source": [
    "x = \"hello world! 123\"\n",
    "letters = 0\n",
    "digits = 0\n",
    "\n",
    "for i in x:\n",
    "    if i.isdigit():\n",
    "        digits += 1\n",
    "    if i.isalpha():\n",
    "        letters += 1\n",
    "print(f\"letters {letters} \\ndigits {digits}\")\n"
   ]
  },
  {
   "cell_type": "markdown",
   "id": "17ef14b5",
   "metadata": {},
   "source": [
    "#### Question 14  \n",
    "**Level 2**\n",
    "\n",
    "**Task:**  \n",
    "Create a program that counts and prints the number of uppercase and lowercase letters in a given sentence. For example, if the input is:  \n",
    "`Hello world!`  \n",
    "The output should be:  \n",
    "`UPPER CASE 1`  \n",
    "`LOWER CASE 9`\n",
    "\n",
    "---"
   ]
  },
  {
   "cell_type": "code",
   "execution_count": 104,
   "id": "bd779b45",
   "metadata": {},
   "outputs": [
    {
     "name": "stdout",
     "output_type": "stream",
     "text": [
      "lower case 9 \n",
      "upper case 1\n"
     ]
    }
   ],
   "source": [
    "x = \"Hello world! 123\"\n",
    "upper = 0\n",
    "lower = 0\n",
    "\n",
    "for i in x:\n",
    "    if i.isupper():\n",
    "        upper += 1\n",
    "    if i.islower():\n",
    "        lower += 1\n",
    "print(f\"lower case {lower} \\nupper case {upper}\")\n"
   ]
  },
  {
   "cell_type": "markdown",
   "id": "d530a1c6",
   "metadata": {},
   "source": [
    "# Question 15  \n",
    "**Level 2**\n",
    "\n",
    "**Task:**  \n",
    "Write a program that calculates the value of `a + aa + aaa + aaaa` given a digit as the value of `a`. For example, if the input is:  \n",
    "`9`  \n",
    "The output should be:  \n",
    "`11106`\n",
    "\n",
    "---"
   ]
  },
  {
   "cell_type": "code",
   "execution_count": 120,
   "id": "10fdf3df",
   "metadata": {},
   "outputs": [
    {
     "name": "stdout",
     "output_type": "stream",
     "text": [
      "11106\n"
     ]
    }
   ],
   "source": [
    "x = 9\n",
    "s = \"a + aa + aaa + aaaa\"\n",
    "t = s.replace('a','9')\n",
    "t.split(\"+\")\n",
    "total = 0\n",
    "for i in t.split(\"+\"):\n",
    "        total += int(i)\n",
    "print(total)"
   ]
  },
  {
   "cell_type": "markdown",
   "id": "c8c2597d",
   "metadata": {},
   "source": [
    "#### Question 16  \n",
    "**Level 2**\n",
    "\n",
    "**Task:**  \n",
    "Use a list comprehension to generate a list of squares for each odd number in a given sequence of comma-separated values. For example, if the input is:  \n",
    "`1,2,3,4,5,6,7,8,9`  \n",
    "The output should be:  \n",
    "`1,3,5,7,9`\n",
    "\n",
    "---"
   ]
  },
  {
   "cell_type": "code",
   "execution_count": 146,
   "id": "376ef1fa",
   "metadata": {},
   "outputs": [
    {
     "name": "stdout",
     "output_type": "stream",
     "text": [
      "1,3,5,7,9\n"
     ]
    }
   ],
   "source": [
    "sequence = \"1,2,3,4,5,6,7,8,9\"\n",
    "s = sequence.split(\",\")\n",
    "    \n",
    "L = [i for i in s if int(i)%2!=0]\n",
    "print(\",\".join(L))"
   ]
  },
  {
   "cell_type": "markdown",
   "id": "d33de5b4",
   "metadata": {},
   "source": [
    "#### Question 17  \n",
    "**Level 2**\n",
    "\n",
    "**Task:**  \n",
    "Create a program that calculates the net amount in a bank account based on a transaction log input. The log format is:  \n",
    "`D 100` (Deposit 100)  \n",
    "`W 200` (Withdraw 200)  \n",
    "Suppose the following input is provided:  \n",
    "`D 300`  \n",
    "`D 300`  \n",
    "`W 200`  \n",
    "`D 100`  \n",
    "The output should be:  \n",
    "`500`\n",
    "\n",
    "---"
   ]
  },
  {
   "cell_type": "code",
   "execution_count": 170,
   "id": "bd45c4ef",
   "metadata": {},
   "outputs": [
    {
     "name": "stdout",
     "output_type": "stream",
     "text": [
      "['D 300', ' D 300', ' W 200', ' D 100']\n",
      "500\n"
     ]
    }
   ],
   "source": [
    "total_amount = 0\n",
    "\n",
    "history = \"D 300, D 300, W 200, D 100\"\n",
    "\n",
    "h = history.split(\",\")\n",
    "print(h)\n",
    "for i in h:\n",
    "    if \"D\" in i:\n",
    "        i = i.replace(\"D\", \"\")\n",
    "        total_amount += int(i)\n",
    "    if \"W\" in i:\n",
    "        i = i.replace(\"W\", \"\")\n",
    "        total_amount -= int(i)\n",
    "print(total_amount)"
   ]
  },
  {
   "cell_type": "markdown",
   "id": "a410d3a0",
   "metadata": {},
   "source": [
    "#### Question 18  \n",
    "**Level 3**\n",
    "\n",
    "**Task:**  \n",
    "Write a program that checks the validity of passwords based on the following criteria:  \n",
    "1. At least one lowercase letter [a-z]  \n",
    "2. At least one digit [0-9]  \n",
    "3. At least one uppercase letter [A-Z]  \n",
    "4. At least one character from [$#@]  \n",
    "5. Minimum length of 6 characters  \n",
    "6. Maximum length of 12 characters  \n",
    "Input is provided as a sequence of comma-separated passwords. Valid passwords should be printed, separated by commas. For example, if the input is:  \n",
    "`ABd1234@1,a F1#,2w3E*,2We3345`  \n",
    "The output should be:  \n",
    "`ABd1234@1`\n",
    "\n",
    "---"
   ]
  },
  {
   "cell_type": "code",
   "execution_count": 172,
   "id": "a1a0bbec",
   "metadata": {},
   "outputs": [
    {
     "name": "stdout",
     "output_type": "stream",
     "text": [
      "ABd1234@1\n"
     ]
    }
   ],
   "source": [
    "password = \"ABd1234@1,a F1#,2w3E*,2We3345\"\n",
    "passwd = password.split(\",\")\n",
    "for i in passwd:\n",
    "    if not i.isupper() and not i.islower() and not i.isdigit() and len(i)<=12 and len(i)>=6 and i:\n",
    "        for ch in \"[$#@]\":\n",
    "            if ch in i:\n",
    "                print(i)"
   ]
  },
  {
   "cell_type": "markdown",
   "id": "9c1578e0",
   "metadata": {},
   "source": [
    "#### Question 19  \n",
    "**Level 3**\n",
    "\n",
    "**Task:**  \n",
    "Create a program that sorts a list of (name, age, height) tuples based on the following priority:  \n",
    "1. Name (alphabetically)  \n",
    "2. Age (numerically)  \n",
    "3. Height (numerically)  \n",
    "For example, if the input is:  \n",
    "`Tom,19,80`  \n",
    "`John,20,90`  \n",
    "`Jony,17,91`  \n",
    "`Jony,17,93`  \n",
    "`Json,21,85`  \n",
    "The output should be:  \n",
    "`[('John', '20', '90'), ('Jony', '17', '91'), ('Jony', '17', '93'), ('Json', '21', '85'), ('Tom', '19', '80')]`\n",
    "\n",
    "---"
   ]
  },
  {
   "cell_type": "markdown",
   "id": "10780101",
   "metadata": {},
   "source": [
    "#### Question 20  \n",
    "**Level 3**\n",
    "\n",
    "**Task:**  \n",
    "Define a class that includes a generator to yield numbers divisible by 7 within a given range from 0 to n.\n",
    "\n",
    "---\n",
    "\n",
    "#### Question 21  \n",
    "**Level 3**\n",
    "\n",
    "**Task:**  \n",
    "A robot moves on a grid starting from the origin\n",
    "\n",
    " point (0,0). It can move UP, DOWN, LEFT, or RIGHT by a specified number of steps. Write a program to calculate the distance from the current position to the origin after a series of movements. If the distance is a float, print the nearest integer. For example, if the input is:  \n",
    "`UP 5`  \n",
    "`DOWN 3`  \n",
    "`LEFT 3`  \n",
    "`RIGHT 2`  \n",
    "The output should be:  \n",
    "`2`\n",
    "\n",
    "---\n",
    "\n",
    "#### Question 22  \n",
    "**Level 3**\n",
    "\n",
    "**Task:**  \n",
    "Create a program to calculate the frequency of words from the input. Display the output with the keys sorted alphabetically. For example, if the input is:  \n",
    "`New to Python or choosing between Python 2 and Python 3? Read Python 2 or Python 3.`  \n",
    "The output should be:  \n",
    "`2:2`  \n",
    "`3.:1`  \n",
    "`3?:1`  \n",
    "`New:1`  \n",
    "`Python:5`  \n",
    "`Read:1`  \n",
    "`and:1`  \n",
    "`between:1`  \n",
    "`choosing:1`  \n",
    "`or:2`  \n",
    "`to:1`\n",
    "\n",
    "---\n",
    "\n",
    "#### Question 23  \n",
    "**Level 1**\n",
    "\n",
    "**Task:**  \n",
    "Create a function that calculates and returns the square of a given number.\n",
    "\n",
    "---\n",
    "\n",
    "#### Question 24  \n",
    "**Level 1**\n",
    "\n",
    "**Task:**  \n",
    "Python provides built-in documentation for each built-in function. Create a program that displays the documentation for `abs()`, `int()`, and `raw_input()`. Also, add documentation for a user-defined function.\n",
    "\n",
    "---\n",
    "\n",
    "#### Question 25  \n",
    "**Level 1**\n",
    "\n",
    "**Task:**  \n",
    "Define a class with both a class attribute and an instance attribute of the same name. Show the difference between the two by printing the class attribute and the instance attribute separately.\n",
    "\n",
    "---"
   ]
  }
 ],
 "metadata": {
  "kernelspec": {
   "display_name": "Python 3 (ipykernel)",
   "language": "python",
   "name": "python3"
  },
  "language_info": {
   "codemirror_mode": {
    "name": "ipython",
    "version": 3
   },
   "file_extension": ".py",
   "mimetype": "text/x-python",
   "name": "python",
   "nbconvert_exporter": "python",
   "pygments_lexer": "ipython3",
   "version": "3.11.2"
  }
 },
 "nbformat": 4,
 "nbformat_minor": 5
}
