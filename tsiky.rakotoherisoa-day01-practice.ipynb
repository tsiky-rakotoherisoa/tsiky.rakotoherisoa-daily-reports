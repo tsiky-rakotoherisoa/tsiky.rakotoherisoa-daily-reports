{
  "cells": [
    {
      "cell_type": "markdown",
      "id": "426486dd",
      "metadata": {
        "id": "426486dd"
      },
      "source": [
        "# Practical_1: Variables and Assignments"
      ]
    },
    {
      "cell_type": "markdown",
      "id": "9fb19f0d",
      "metadata": {
        "id": "9fb19f0d"
      },
      "source": [
        "----\n",
        "\n",
        "### Exercise 1:\n",
        "Declare a variable `x` and assign it the value `10`.\n",
        "\n",
        "\n",
        "```python\n",
        "# Exercise 1\n",
        "```\n",
        "\n",
        "---\n",
        "\n",
        "### Exercise 2:\n",
        "Assign the value `True` to a variable called `is_valid`.\n",
        "\n",
        "```python\n",
        "# Exercise 2\n",
        "```\n",
        "\n",
        "---\n",
        "\n",
        "### Exercise 3:\n",
        "Create a string variable `name` with the value \"Python Programming\".\n",
        "\n",
        "```python\n",
        "# Exercise 3\n",
        "```\n",
        "\n",
        "---\n",
        "\n",
        "### Exercise 4:\n",
        "Assign the result of `5 + 3` to a variable `sum_result`.\n",
        "\n",
        "```python\n",
        "# Exercise 4\n",
        "```\n",
        "\n",
        "---\n",
        "\n",
        "### Exercise 5:\n",
        "Assign multiple variables in one line: `a = 5`, `b = 10`, `c = 15`.\n",
        "\n",
        "```python\n",
        "# Exercise 5\n",
        "```\n",
        "\n",
        "---\n",
        "\n",
        "### Exercise 6:\n",
        "Assign the value of one variable `x` to another variable `y`.\n",
        "\n",
        "```python\n",
        "# Exercise 6\n",
        "```\n",
        "\n",
        "---\n",
        "\n",
        "### Exercise 7:\n",
        "Assign a floating-point number `9.8` to a variable `gravity`.\n",
        "\n",
        "```python\n",
        "# Exercise 7\n",
        "```\n",
        "\n",
        "---\n",
        "\n",
        "### Exercise 8:\n",
        "Create a variable `country` and assign it the string value of your favorite country.\n",
        "\n",
        "```python\n",
        "# Exercise 8\n",
        "```\n",
        "\n",
        "---\n",
        "\n",
        "### Exercise 9:\n",
        "Change the value of variable `age` from `25` to `26` in two separate steps.\n",
        "\n",
        "```python\n",
        "# Exercise 9\n",
        "```\n",
        "\n",
        "---\n",
        "\n",
        "### Exercise 10:\n",
        "Use one variable to store the result of subtracting two numbers `20 - 7`.\n",
        "\n",
        "```python\n",
        "# Exercise 10\n",
        "```\n",
        "\n",
        "---\n",
        "\n",
        "### Exercise 11:\n",
        "Assign an integer value and a floating-point value to two different variables.\n",
        "\n",
        "```python\n",
        "# Exercise 11\n",
        "```\n",
        "\n",
        "---\n",
        "\n",
        "### Exercise 12:\n",
        "Assign a boolean value `False` to a variable `is_completed`.\n",
        "\n",
        "```python\n",
        "# Exercise 12\n",
        "```\n",
        "\n",
        "---\n",
        "\n",
        "### Exercise 13:\n",
        "Swap the values of two variables `x` and `y`.\n",
        "\n",
        "```python\n",
        "# Exercise 13\n",
        "```\n",
        "\n",
        "---\n",
        "\n",
        "### Exercise 14:\n",
        "Assign a complex number `3 + 4j` to a variable `complex_num`.\n",
        "\n",
        "```python\n",
        "# Exercise 14\n",
        "```\n",
        "\n",
        "---\n",
        "\n",
        "### Exercise 15:\n",
        "Reassign a variable from an integer to a string.\n",
        "\n",
        "```python\n",
        "# Exercise 15\n",
        "```\n",
        "\n",
        "---\n",
        "\n",
        "### Exercise 16:\n",
        "Create two variables `first_name` and `last_name`, and assign them your first and last names.\n",
        "\n",
        "```python\n",
        "# Exercise 16\n",
        "```\n",
        "\n",
        "---\n",
        "\n",
        "### Exercise 17:\n",
        "Create a variable `temperature` and assign it the value of `35.5`.\n",
        "\n",
        "```python\n",
        "# Exercise 17\n",
        "```\n",
        "\n",
        "---\n",
        "\n",
        "### Exercise 18:\n",
        "Assign the result of the multiplication of two numbers `8 * 6` to a variable `product`.\n",
        "\n",
        "```python\n",
        "# Exercise 18\n",
        "```\n",
        "\n",
        "---\n",
        "\n",
        "### Exercise 19:\n",
        "Assign a sentence of your choice to a variable `sentence`.\n",
        "\n",
        "```python\n",
        "# Exercise 19\n",
        "```\n",
        "\n",
        "---\n",
        "\n",
        "### Exercise 20:\n",
        "Use an assignment to convert a string `'50'` into an integer variable `int_value`.\n",
        "\n",
        "```python\n",
        "# Exercise 20\n",
        "```\n",
        "\n",
        "---\n",
        "\n",
        "### Exercise 21:\n",
        "Assign the result of dividing `144` by `12` to a variable `quotient`.\n",
        "\n",
        "```python\n",
        "# Exercise 21\n",
        "```\n",
        "\n",
        "---\n",
        "\n",
        "### Exercise 22:\n",
        "Assign the remainder of `47 divided by 5` to a variable `remainder`.\n",
        "\n",
        "```python\n",
        "# Exercise 22\n",
        "```\n",
        "\n",
        "---\n",
        "\n",
        "### Exercise 23:\n",
        "Create a variable `is_student` and assign it the value `True`.\n",
        "\n",
        "```python\n",
        "# Exercise 23\n",
        "```\n",
        "\n",
        "---\n",
        "\n",
        "### Exercise 24:\n",
        "Use a variable to store the result of a modulo operation: `45 % 4`.\n",
        "\n",
        "```python\n",
        "# Exercise 24\n",
        "```\n",
        "\n",
        "---\n",
        "\n",
        "### Exercise 25:\n",
        "Create a variable `pi` and assign it the value `3.14159`.\n",
        "\n",
        "```python\n",
        "# Exercise 25\n",
        "```\n",
        "\n",
        "---\n",
        "\n",
        "### Exercise 26:\n",
        "Create two variables `length` and `width`, assign them values, and calculate the area of a rectangle.\n",
        "\n",
        "```python\n",
        "# Exercise 26\n",
        "```\n",
        "\n",
        "---\n",
        "\n",
        "### Exercise 27:\n",
        "Assign a negative number to a variable `negative_value`.\n",
        "\n",
        "```python\n",
        "# Exercise 27\n",
        "```\n",
        "\n",
        "---\n",
        "\n",
        "### Exercise 28:\n",
        "Assign a string containing a special character (e.g., \"Hello, World!\") to a variable `greeting`.\n",
        "\n",
        "```python\n",
        "# Exercise 28\n",
        "```\n",
        "\n",
        "---\n",
        "\n",
        "### Exercise 29:\n",
        "Create a variable `population` and assign it a large integer value (in billions).\n",
        "\n",
        "```python\n",
        "# Exercise 29\n",
        "```\n",
        "\n",
        "---\n",
        "\n",
        "### Exercise 30:\n",
        "Use a variable to store the result of raising `2` to the power of `8`.\n",
        "\n",
        "```python\n",
        "# Exercise 30\n",
        "```\n",
        "\n",
        "---\n",
        "\n",
        "### Exercise 31:\n",
        "Assign a list of your favorite fruits to a variable `fruits`.\n",
        "\n",
        "```python\n",
        "# Exercise 31\n",
        "```\n",
        "\n",
        "---\n",
        "\n",
        "### Exercise 32:\n",
        "Assign a tuple of three numbers to a variable `coordinates`.\n",
        "\n",
        "```python\n",
        "# Exercise 32\n",
        "```\n",
        "\n",
        "---\n",
        "\n",
        "### Exercise 33:\n",
        "Assign a dictionary with keys `name` and `age` to a variable `person`.\n",
        "\n",
        "```python\n",
        "# Exercise 33\n",
        "```\n",
        "\n",
        "---\n",
        "\n",
        "### Exercise 34:\n",
        "Use variables to store the sum of two floating-point numbers.\n",
        "\n",
        "```python\n",
        "# Exercise 34\n",
        "```\n",
        "\n",
        "---\n",
        "\n",
        "### Exercise 35:\n",
        "Create a variable `is_sunny` and assign it the result of a comparison `10 > 5`.\n",
        "\n",
        "```python\n",
        "# Exercise 35\n",
        "```\n",
        "\n",
        "---\n",
        "\n",
        "### Exercise 36:\n",
        "Assign a string and an integer to two different variables, then print both on one line.\n",
        "\n",
        "```python\n",
        "# Exercise 36\n",
        "```\n",
        "\n",
        "---\n",
        "\n",
        "### Exercise 37:\n",
        "Reassign a variable that originally held a number to a boolean value.\n",
        "\n",
        "```python\n",
        "# Exercise 37\n",
        "```\n",
        "\n",
        "---\n",
        "\n",
        "### Exercise 38:\n",
        "Create a variable `is_weekend` and assign it the result of `False`.\n",
        "\n",
        "```python\n",
        "# Exercise 38\n",
        "```\n",
        "\n",
        "---\n",
        "\n",
        "### Exercise 39:\n",
        "Assign a multi-line string to a variable `description`.\n",
        "\n",
        "```python\n",
        "# Exercise 39\n",
        "```\n",
        "\n",
        "---\n",
        "\n",
        "### Exercise 40:\n",
        "Use variables to store the result of the absolute value of `-25`.\n",
        "\n",
        "```python\n",
        "# Exercise 40\n",
        "```\n",
        "\n",
        "---\n",
        "\n",
        "### Exercise 41:\n",
        "Assign the result of a floor division `100 // 6` to a variable `floor_div_result`.\n",
        "\n",
        "```python\n",
        "# Exercise 41\n",
        "```\n",
        "\n",
        "---\n",
        "\n",
        "### Exercise 42:\n",
        "Assign the result of adding a floating-point number to an integer to a variable `mixed_sum`.\n",
        "\n",
        "```python\n",
        "# Exercise 42\n",
        "```\n",
        "\n",
        "---\n",
        "\n",
        "### Exercise 43:\n",
        "Use variables to store a combination of string concatenation.\n",
        "\n",
        "```python\n",
        "# Exercise 43\n",
        "```\n",
        "\n",
        "---\n",
        "\n",
        "### Exercise 44:\n",
        "Assign an empty list to a variable `empty_list`.\n",
        "\n",
        "```python\n",
        "# Exercise 44\n",
        "```\n",
        "\n",
        "---\n",
        "\n",
        "### Exercise 45:\n",
        "Assign a boolean value based on the comparison of two variables `a = 10` and `b = 15`.\n",
        "\n",
        "```python\n",
        "# Exercise 45\n",
        "```\n",
        "\n",
        "---\n",
        "\n",
        "### Exercise 46:\n",
        "Assign a long sentence to a variable and count its characters using `len()`.\n",
        "\n",
        "```python\n",
        "# Exercise 46\n",
        "```\n",
        "\n",
        "---\n",
        "\n",
        "### Exercise 47:\n",
        "Assign a fractional result `7 / 3` to a variable `division_result`.\n",
        "\n",
        "```python\n",
        "# Exercise 47\n",
        "```\n",
        "\n",
        "---\n",
        "\n",
        "### Exercise 48:\n",
        "Create a variable `speed` and assign it the value of 100 kilometers per hour.\n",
        "\n",
        "```python\n",
        "# Exercise 48\n",
        "```\n",
        "\n",
        "---\n",
        "\n",
        "### Exercise 49:\n",
        "Assign a multi-variable equation like `y = 3x + 5` where `x = 4` to a variable `y`.\n",
        "\n",
        "```python\n",
        "# Exercise 49\n",
        "```\n",
        "\n",
        "---\n",
        "\n",
        "### Exercise 50:\n",
        "Use variables to calculate and store the average of three numbers.\n",
        "\n",
        "```python\n",
        "# Exercise 50\n",
        "```\n",
        "\n",
        "****"
      ]
    },
    {
      "cell_type": "code",
      "source": [
        "# exercise 1\n",
        "x = 10"
      ],
      "metadata": {
        "id": "vwWX23gmd3Dn"
      },
      "id": "vwWX23gmd3Dn",
      "execution_count": null,
      "outputs": []
    },
    {
      "cell_type": "code",
      "source": [
        "# exercise 2\n",
        "is_valid = True"
      ],
      "metadata": {
        "id": "EU2pkIY2eqRx"
      },
      "id": "EU2pkIY2eqRx",
      "execution_count": null,
      "outputs": []
    },
    {
      "cell_type": "code",
      "source": [
        "# exercise 3\n",
        "name = \"Python programming\""
      ],
      "metadata": {
        "id": "E6-Plwudeybr"
      },
      "id": "E6-Plwudeybr",
      "execution_count": null,
      "outputs": []
    },
    {
      "cell_type": "code",
      "source": [
        "# exercise 4\n",
        "x = 5\n",
        "y = 3\n",
        "sum_result = x + y\n",
        "sum_result"
      ],
      "metadata": {
        "colab": {
          "base_uri": "https://localhost:8080/"
        },
        "id": "HNnrxDZ9e8fG",
        "outputId": "577f01fe-27e7-459e-ea25-20a37bad5979"
      },
      "id": "HNnrxDZ9e8fG",
      "execution_count": null,
      "outputs": [
        {
          "output_type": "execute_result",
          "data": {
            "text/plain": [
              "8"
            ]
          },
          "metadata": {},
          "execution_count": 4
        }
      ]
    },
    {
      "cell_type": "code",
      "source": [
        "# exercise 5\n",
        "(a,b,c) = (5,10,15)"
      ],
      "metadata": {
        "id": "Ke5J1V2PfHvP"
      },
      "id": "Ke5J1V2PfHvP",
      "execution_count": null,
      "outputs": []
    },
    {
      "cell_type": "code",
      "source": [
        "# exercise 6\n",
        "gravity = 9.8"
      ],
      "metadata": {
        "id": "FSbKSgUpfS_g"
      },
      "id": "FSbKSgUpfS_g",
      "execution_count": null,
      "outputs": []
    },
    {
      "cell_type": "code",
      "source": [
        "# exercise 7\n",
        "country = \"Madagascar\""
      ],
      "metadata": {
        "id": "LpLR8GhzfeWZ"
      },
      "id": "LpLR8GhzfeWZ",
      "execution_count": null,
      "outputs": []
    },
    {
      "cell_type": "code",
      "source": [
        "# exercice 9\n",
        "age = 25\n",
        "age = 26\n",
        "age"
      ],
      "metadata": {
        "colab": {
          "base_uri": "https://localhost:8080/"
        },
        "id": "QTXIz1hify4x",
        "outputId": "2708c8b0-1512-47e0-ae2b-5f4913c6e377"
      },
      "id": "QTXIz1hify4x",
      "execution_count": null,
      "outputs": [
        {
          "output_type": "execute_result",
          "data": {
            "text/plain": [
              "26"
            ]
          },
          "metadata": {},
          "execution_count": 8
        }
      ]
    },
    {
      "cell_type": "code",
      "source": [
        "result = 20 - 7"
      ],
      "metadata": {
        "id": "pKsLRlVEgJX_"
      },
      "id": "pKsLRlVEgJX_",
      "execution_count": null,
      "outputs": []
    },
    {
      "cell_type": "code",
      "source": [
        "integer = 9\n",
        "floating = 9.0"
      ],
      "metadata": {
        "id": "eUyzC2HMgb8a"
      },
      "id": "eUyzC2HMgb8a",
      "execution_count": null,
      "outputs": []
    },
    {
      "cell_type": "code",
      "source": [
        "is_completed = False"
      ],
      "metadata": {
        "id": "I_uZXEExgj6K"
      },
      "id": "I_uZXEExgj6K",
      "execution_count": null,
      "outputs": []
    },
    {
      "cell_type": "code",
      "source": [
        "x = 3\n",
        "y = 4\n",
        "tmp = x\n",
        "x = y\n",
        "y = tmp\n",
        "print(x,y)"
      ],
      "metadata": {
        "colab": {
          "base_uri": "https://localhost:8080/"
        },
        "id": "NJYvwyOTgo8i",
        "outputId": "c5b52db5-aa0c-4046-afbb-31978f41b73d"
      },
      "id": "NJYvwyOTgo8i",
      "execution_count": null,
      "outputs": [
        {
          "output_type": "stream",
          "name": "stdout",
          "text": [
            "4 3\n"
          ]
        }
      ]
    },
    {
      "cell_type": "code",
      "source": [
        "complex_num = complex(3,4)\n",
        "complex_num"
      ],
      "metadata": {
        "colab": {
          "base_uri": "https://localhost:8080/"
        },
        "id": "uEUs4anTg-FS",
        "outputId": "6116f1b5-3a45-4022-bf2e-b7a5a6f893ab"
      },
      "id": "uEUs4anTg-FS",
      "execution_count": null,
      "outputs": [
        {
          "output_type": "execute_result",
          "data": {
            "text/plain": [
              "(3+4j)"
            ]
          },
          "metadata": {},
          "execution_count": 15
        }
      ]
    },
    {
      "cell_type": "code",
      "source": [
        "x = str(5)"
      ],
      "metadata": {
        "id": "URbgFzvciGve"
      },
      "id": "URbgFzvciGve",
      "execution_count": null,
      "outputs": []
    },
    {
      "cell_type": "code",
      "source": [
        "first_name = \"Tsiky Tafita\"\n",
        "last_name = \"RAKOTOHERISOA\""
      ],
      "metadata": {
        "id": "9MsftHaXiRhi"
      },
      "id": "9MsftHaXiRhi",
      "execution_count": null,
      "outputs": []
    },
    {
      "cell_type": "code",
      "source": [
        "temperature = 35.5"
      ],
      "metadata": {
        "id": "66NHVEf8iapY"
      },
      "id": "66NHVEf8iapY",
      "execution_count": null,
      "outputs": []
    },
    {
      "cell_type": "code",
      "source": [
        "product = 8*6"
      ],
      "metadata": {
        "id": "Iom2V34jieaU"
      },
      "id": "Iom2V34jieaU",
      "execution_count": null,
      "outputs": []
    },
    {
      "cell_type": "code",
      "source": [
        "sentence = \"I am Tsiky Tafita.\""
      ],
      "metadata": {
        "id": "D7hZ59X4ih34"
      },
      "id": "D7hZ59X4ih34",
      "execution_count": null,
      "outputs": []
    },
    {
      "cell_type": "code",
      "source": [
        "int_value = int(str(50))\n",
        "type(int_value)"
      ],
      "metadata": {
        "colab": {
          "base_uri": "https://localhost:8080/"
        },
        "id": "wz_-TVt_im3E",
        "outputId": "afbe595a-370d-48fb-d323-f48f3524cbfd"
      },
      "id": "wz_-TVt_im3E",
      "execution_count": null,
      "outputs": [
        {
          "output_type": "execute_result",
          "data": {
            "text/plain": [
              "int"
            ]
          },
          "metadata": {},
          "execution_count": 21
        }
      ]
    },
    {
      "cell_type": "code",
      "source": [
        "quotient = 114/12"
      ],
      "metadata": {
        "id": "q3QeWTa_ixHr"
      },
      "id": "q3QeWTa_ixHr",
      "execution_count": null,
      "outputs": []
    },
    {
      "cell_type": "code",
      "source": [
        "remainder = 47%5\n",
        "remainder"
      ],
      "metadata": {
        "colab": {
          "base_uri": "https://localhost:8080/"
        },
        "id": "gtBj9MJWi1jM",
        "outputId": "ef690472-7b14-470b-fc53-81a9c8c54b6b"
      },
      "id": "gtBj9MJWi1jM",
      "execution_count": null,
      "outputs": [
        {
          "output_type": "execute_result",
          "data": {
            "text/plain": [
              "2"
            ]
          },
          "metadata": {},
          "execution_count": 24
        }
      ]
    },
    {
      "cell_type": "code",
      "source": [
        "is_student = True"
      ],
      "metadata": {
        "id": "625ZtGAHi5w2"
      },
      "id": "625ZtGAHi5w2",
      "execution_count": null,
      "outputs": []
    },
    {
      "cell_type": "code",
      "source": [
        "res = 45%4"
      ],
      "metadata": {
        "id": "sz8QvCAcjAmS"
      },
      "id": "sz8QvCAcjAmS",
      "execution_count": null,
      "outputs": []
    },
    {
      "cell_type": "code",
      "source": [
        "pi = 3.14159"
      ],
      "metadata": {
        "id": "pFrl3kzjjlYl"
      },
      "id": "pFrl3kzjjlYl",
      "execution_count": null,
      "outputs": []
    },
    {
      "cell_type": "code",
      "source": [
        "length = 34\n",
        "width = 34\n",
        "area = length*width"
      ],
      "metadata": {
        "id": "it00Rq1tjoPy"
      },
      "id": "it00Rq1tjoPy",
      "execution_count": null,
      "outputs": []
    },
    {
      "cell_type": "code",
      "source": [
        "negative_value = -6"
      ],
      "metadata": {
        "id": "a-KpvjOtjxbA"
      },
      "id": "a-KpvjOtjxbA",
      "execution_count": null,
      "outputs": []
    },
    {
      "cell_type": "code",
      "source": [
        "greeting = \"Hello, World!\""
      ],
      "metadata": {
        "id": "5Knecrzkj3yd"
      },
      "id": "5Knecrzkj3yd",
      "execution_count": null,
      "outputs": []
    },
    {
      "cell_type": "code",
      "source": [
        "population = 1234567890"
      ],
      "metadata": {
        "id": "7t3IuCPvj_c6"
      },
      "id": "7t3IuCPvj_c6",
      "execution_count": null,
      "outputs": []
    },
    {
      "cell_type": "code",
      "source": [
        "store = 2**8\n",
        "store"
      ],
      "metadata": {
        "colab": {
          "base_uri": "https://localhost:8080/"
        },
        "id": "K2Yp2s8_kCyB",
        "outputId": "77567d15-d927-4b06-d70c-3885e426ff17"
      },
      "id": "K2Yp2s8_kCyB",
      "execution_count": null,
      "outputs": [
        {
          "output_type": "execute_result",
          "data": {
            "text/plain": [
              "256"
            ]
          },
          "metadata": {},
          "execution_count": 34
        }
      ]
    },
    {
      "cell_type": "code",
      "source": [
        "fruits = ['banana', 'water-melon', 'strawberry']\n",
        "fruits"
      ],
      "metadata": {
        "colab": {
          "base_uri": "https://localhost:8080/"
        },
        "id": "5pByb6FEkL_E",
        "outputId": "427b38c4-5877-4b55-b14d-babec447f76e"
      },
      "id": "5pByb6FEkL_E",
      "execution_count": null,
      "outputs": [
        {
          "output_type": "execute_result",
          "data": {
            "text/plain": [
              "['banana', 'water-melon', 'strawberry']"
            ]
          },
          "metadata": {},
          "execution_count": 35
        }
      ]
    },
    {
      "cell_type": "code",
      "source": [
        "coordinates = ('3', '5', '7')\n",
        "type(coordinates)"
      ],
      "metadata": {
        "colab": {
          "base_uri": "https://localhost:8080/"
        },
        "id": "iHcL0QzZkbdA",
        "outputId": "c9f533e9-dae2-4686-8e27-ee59027db6e6"
      },
      "id": "iHcL0QzZkbdA",
      "execution_count": null,
      "outputs": [
        {
          "output_type": "execute_result",
          "data": {
            "text/plain": [
              "tuple"
            ]
          },
          "metadata": {},
          "execution_count": 36
        }
      ]
    },
    {
      "cell_type": "code",
      "source": [
        "person = {'Tsiky': 23, 'Sariaka': 22}\n",
        "type(person)"
      ],
      "metadata": {
        "colab": {
          "base_uri": "https://localhost:8080/"
        },
        "id": "QwvhurWZkpSH",
        "outputId": "fac4fcad-410a-4d82-c2d0-894e2fa536d8"
      },
      "id": "QwvhurWZkpSH",
      "execution_count": null,
      "outputs": [
        {
          "output_type": "execute_result",
          "data": {
            "text/plain": [
              "dict"
            ]
          },
          "metadata": {},
          "execution_count": 37
        }
      ]
    },
    {
      "cell_type": "code",
      "source": [
        "sum = 3.45 + 4.44"
      ],
      "metadata": {
        "id": "GnNvG7h0k3-b"
      },
      "id": "GnNvG7h0k3-b",
      "execution_count": null,
      "outputs": []
    },
    {
      "cell_type": "code",
      "source": [
        "is_sunny = 10 > 5\n",
        "is_sunny"
      ],
      "metadata": {
        "colab": {
          "base_uri": "https://localhost:8080/"
        },
        "id": "EvrAQBUlk9fy",
        "outputId": "f5a9e6dd-e06a-4d95-e9f8-95c8c7ee0b43"
      },
      "id": "EvrAQBUlk9fy",
      "execution_count": null,
      "outputs": [
        {
          "output_type": "execute_result",
          "data": {
            "text/plain": [
              "True"
            ]
          },
          "metadata": {},
          "execution_count": 40
        }
      ]
    },
    {
      "cell_type": "code",
      "source": [
        "name = \"Tsiky\"\n",
        "age = 20\n",
        "print(name, age)"
      ],
      "metadata": {
        "colab": {
          "base_uri": "https://localhost:8080/"
        },
        "id": "slw3kiLZlJKM",
        "outputId": "d361cee7-d15f-4586-e9be-edf4ee5361b6"
      },
      "id": "slw3kiLZlJKM",
      "execution_count": null,
      "outputs": [
        {
          "output_type": "stream",
          "name": "stdout",
          "text": [
            "Tsiky 20\n"
          ]
        }
      ]
    },
    {
      "cell_type": "code",
      "source": [
        "z = 4\n",
        "k = 5\n",
        "z == k"
      ],
      "metadata": {
        "colab": {
          "base_uri": "https://localhost:8080/"
        },
        "id": "hnkts8rTlYUo",
        "outputId": "067aaa4f-c05e-46d7-cce1-d714b79e8c3f"
      },
      "id": "hnkts8rTlYUo",
      "execution_count": null,
      "outputs": [
        {
          "output_type": "execute_result",
          "data": {
            "text/plain": [
              "False"
            ]
          },
          "metadata": {},
          "execution_count": 42
        }
      ]
    },
    {
      "cell_type": "code",
      "source": [
        "is_weekend = 6 == 2\n",
        "is_weekend"
      ],
      "metadata": {
        "colab": {
          "base_uri": "https://localhost:8080/"
        },
        "id": "fuUKptnnmDax",
        "outputId": "2a92c5c8-75f4-42d1-81ba-0df2b11b5e4b"
      },
      "id": "fuUKptnnmDax",
      "execution_count": null,
      "outputs": [
        {
          "output_type": "execute_result",
          "data": {
            "text/plain": [
              "False"
            ]
          },
          "metadata": {},
          "execution_count": 43
        }
      ]
    },
    {
      "cell_type": "code",
      "source": [
        "description = \"I am \" +str(20)+ \" years old\"\n",
        "description"
      ],
      "metadata": {
        "colab": {
          "base_uri": "https://localhost:8080/",
          "height": 35
        },
        "id": "ZJbrTjZam3qz",
        "outputId": "2cf77815-1851-4a4f-92d1-3527d11c8b92"
      },
      "id": "ZJbrTjZam3qz",
      "execution_count": null,
      "outputs": [
        {
          "output_type": "execute_result",
          "data": {
            "text/plain": [
              "'I am 20 years old'"
            ],
            "application/vnd.google.colaboratory.intrinsic+json": {
              "type": "string"
            }
          },
          "metadata": {},
          "execution_count": 44
        }
      ]
    },
    {
      "cell_type": "code",
      "source": [
        "abs(-25)"
      ],
      "metadata": {
        "colab": {
          "base_uri": "https://localhost:8080/"
        },
        "id": "CaGrlLnZnEW_",
        "outputId": "f6ab73f5-bcc9-4ca9-ec37-6e5dc3f6dd30"
      },
      "id": "CaGrlLnZnEW_",
      "execution_count": null,
      "outputs": [
        {
          "output_type": "execute_result",
          "data": {
            "text/plain": [
              "25"
            ]
          },
          "metadata": {},
          "execution_count": 45
        }
      ]
    },
    {
      "cell_type": "code",
      "source": [
        "floor_div_result = 100 // 6\n",
        "floor_div_result"
      ],
      "metadata": {
        "colab": {
          "base_uri": "https://localhost:8080/"
        },
        "id": "TNc3BR0tnK7W",
        "outputId": "93ba8b92-27d3-41d3-c5a4-b40330f1ddda"
      },
      "id": "TNc3BR0tnK7W",
      "execution_count": null,
      "outputs": [
        {
          "output_type": "execute_result",
          "data": {
            "text/plain": [
              "16"
            ]
          },
          "metadata": {},
          "execution_count": 46
        }
      ]
    },
    {
      "cell_type": "code",
      "source": [
        "mixed_sum = 1.0 + 1"
      ],
      "metadata": {
        "id": "89PuufqsnSTJ"
      },
      "id": "89PuufqsnSTJ",
      "execution_count": null,
      "outputs": []
    },
    {
      "cell_type": "code",
      "source": [
        "description = \"She is \" +str(2)+ \" years old\"\n",
        "description"
      ],
      "metadata": {
        "colab": {
          "base_uri": "https://localhost:8080/",
          "height": 35
        },
        "id": "HpKF8PKGnkyF",
        "outputId": "ed257abe-2e84-4ef8-ff12-93b3e705a3c6"
      },
      "id": "HpKF8PKGnkyF",
      "execution_count": null,
      "outputs": [
        {
          "output_type": "execute_result",
          "data": {
            "text/plain": [
              "'She is 2 years old'"
            ],
            "application/vnd.google.colaboratory.intrinsic+json": {
              "type": "string"
            }
          },
          "metadata": {},
          "execution_count": 48
        }
      ]
    },
    {
      "cell_type": "code",
      "source": [
        "empty_list = []"
      ],
      "metadata": {
        "id": "V5QQywjGnuWF"
      },
      "id": "V5QQywjGnuWF",
      "execution_count": null,
      "outputs": []
    },
    {
      "cell_type": "code",
      "source": [
        "a = 10\n",
        "b = 15\n",
        "c = a < b\n",
        "d = a > b\n",
        "e = a == b\n",
        "print(c,d,e)"
      ],
      "metadata": {
        "colab": {
          "base_uri": "https://localhost:8080/"
        },
        "id": "sD7TG2zXoEas",
        "outputId": "f6c56e13-ea4b-47f6-93c2-2540e7bbb6ed"
      },
      "id": "sD7TG2zXoEas",
      "execution_count": null,
      "outputs": [
        {
          "output_type": "stream",
          "name": "stdout",
          "text": [
            "True False False\n"
          ]
        }
      ]
    },
    {
      "cell_type": "code",
      "source": [
        "message = \"I can count on you\"\n",
        "len(message)"
      ],
      "metadata": {
        "colab": {
          "base_uri": "https://localhost:8080/"
        },
        "id": "_uuRrUOAoeAH",
        "outputId": "970f75ad-3773-4de3-813d-889a6707914d"
      },
      "id": "_uuRrUOAoeAH",
      "execution_count": null,
      "outputs": [
        {
          "output_type": "execute_result",
          "data": {
            "text/plain": [
              "18"
            ]
          },
          "metadata": {},
          "execution_count": 52
        }
      ]
    },
    {
      "cell_type": "code",
      "source": [
        "division_result = 7/3"
      ],
      "metadata": {
        "id": "P9szqq38pJlb"
      },
      "id": "P9szqq38pJlb",
      "execution_count": null,
      "outputs": []
    },
    {
      "cell_type": "code",
      "source": [
        "speed = str(100) + \"km per hour\""
      ],
      "metadata": {
        "id": "b_5rrSRQpPVn"
      },
      "id": "b_5rrSRQpPVn",
      "execution_count": null,
      "outputs": []
    },
    {
      "cell_type": "code",
      "source": [
        "x = 4\n",
        "y = 3*x + 5\n",
        "y"
      ],
      "metadata": {
        "colab": {
          "base_uri": "https://localhost:8080/"
        },
        "id": "9TNUHs0pqOBw",
        "outputId": "6f135e99-fe61-4146-c75a-d8534ab0e2fa"
      },
      "id": "9TNUHs0pqOBw",
      "execution_count": null,
      "outputs": [
        {
          "output_type": "execute_result",
          "data": {
            "text/plain": [
              "17"
            ]
          },
          "metadata": {},
          "execution_count": 55
        }
      ]
    },
    {
      "cell_type": "code",
      "source": [
        "x = 3\n",
        "y = 6\n",
        "z = 7\n",
        "mean = (x + y + z) / 3"
      ],
      "metadata": {
        "id": "HIhVTdH8qUcW"
      },
      "id": "HIhVTdH8qUcW",
      "execution_count": null,
      "outputs": []
    },
    {
      "cell_type": "code",
      "source": [],
      "metadata": {
        "id": "znXiFdWrr6Md"
      },
      "id": "znXiFdWrr6Md",
      "execution_count": null,
      "outputs": []
    }
  ],
  "metadata": {
    "kernelspec": {
      "display_name": "Python 3 (ipykernel)",
      "language": "python",
      "name": "python3"
    },
    "language_info": {
      "codemirror_mode": {
        "name": "ipython",
        "version": 3
      },
      "file_extension": ".py",
      "mimetype": "text/x-python",
      "name": "python",
      "nbconvert_exporter": "python",
      "pygments_lexer": "ipython3",
      "version": "3.11.2"
    },
    "colab": {
      "provenance": []
    }
  },
  "nbformat": 4,
  "nbformat_minor": 5
}