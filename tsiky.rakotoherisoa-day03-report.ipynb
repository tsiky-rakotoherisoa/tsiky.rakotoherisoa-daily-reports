{
 "cells": [
  {
   "cell_type": "markdown",
   "metadata": {
    "id": "vuZYRaBzbIcs"
   },
   "source": [
    "## Practical 1: Version Control with Git: `local` "
   ]
  },
  {
   "cell_type": "markdown",
   "metadata": {},
   "source": [
    "<left> <b> <span style=\"color:red;\"> \n",
    "This notebook is focused on version control with a local repository. You are expected to go through it line by line, step by step. Execute each code cell and follow the instructions to understand how to manage version control locally. Experiment with commands, make changes, and observe how they affect your repository. Your hands-on interaction with the examples will enhance your comprehension of local version control practices.\n",
    "</span> </b></left>\n",
    "\n",
    "\n",
    "## You might find [this reference](https://ndpsoftware.com/git-cheatsheet.html#loc=index;) ,   [this command list](https://git-scm.com/docs) as well as  this [resource](https://git-scm.com/docs/gittutorial) very useful for this practical."
   ]
  },
  {
   "cell_type": "markdown",
   "metadata": {
    "id": "be02507b"
   },
   "source": [
    "### What is Version Control ?\n",
    "\n",
    "\n",
    "In software development, revision control systems (RCS) are essential tools. They are widely used across all development environments and by developers everywhere.\n",
    "\n",
    "RCS are versatile and not limited to just software projects; they are also invaluable for managing various types of digital content, including manuscripts, figures, data, and notebooks.\n",
    "\n",
    "Revision control systems (RCS) serve two primary purposes:\n",
    "\n",
    "1. **Track Changes in Source Code:**\n",
    "   - Enable tracking and managing changes to the source code.\n",
    "   - Allow reverting to previous versions if issues arise.\n",
    "   - Support working on multiple \"branches\" of the software at the same time.\n",
    "   - Use tags to identify and manage different versions, such as \"release-1.0\" or \"paper-A-final.\"\n",
    "\n",
    "2. **Facilitate Collaborative Development:**\n",
    "   - Allow multiple contributors to work on the same codebase simultaneously.\n",
    "   - Enable numerous authors to make and integrate changes.\n",
    "   - Provide clear communication and visualization of changes to all team members.\n",
    "\n",
    "\n",
    "\n",
    "\n",
    "### Basic Principles and Terminology of Revision Control Systems (RCS)\n",
    "\n",
    "In an RCS, source code or digital content is managed within a repository.\n",
    "\n",
    "- **Repository:** Stores not only the latest version of files but also the complete history of all changes made to these files since their initial addition to the repository.\n",
    "\n",
    "- **Checkout:** Users obtain a local working copy of the files from the repository. Changes are made to these local files, allowing for additions, deletions, and updates.\n",
    "\n",
    "- **Commit:** After completing a task, changes made to the local files are saved back to the repository.\n",
    "\n",
    "- **Conflict Resolution:** If changes have been made by others to the same files, conflicts may arise. The system often resolves conflicts automatically, but manual intervention may be necessary to merge conflicting changes.\n",
    "\n",
    "- **Branches and Forks:** For larger experimental developments, it’s common to create a new branch, fork, or clone of the repository. The primary branch is usually called `master` or `trunk`. Once work on a branch or fork is finished, it can be merged back into the main branch or repository.\n",
    "\n",
    "- **Distributed RCS:** Systems like Git or Mercurial allow for pulling and pushing changesets between different repositories. For instance, changes can be pushed from a local repository to a central online repository, such as those hosted on platforms like GitHub.\n",
    "\n",
    "\n",
    "In a few words, **version control** is a way to keep a backup of the changes in your\n",
    "files and to store a history of those changes.  The key charateristic of VC is that and it\n",
    "allows many people in a collaboration to make changes to the same files\n",
    "concurrently. VC is done via a VC system and there are a lot of them. [Wikipedia](https://en.wikipedia.org/wiki/Version_control)\n",
    "provides both a nice vocabulary list and a fairly complete table of some\n",
    "popular version control systems and their equivalent commands.\n",
    "\n",
    "\n",
    "\n",
    "### Popular Revision Control Systems\n",
    "\n",
    "- **Git (git):** [http://git-scm.com/](http://git-scm.com/)\n",
    "- **Mercurial (hg):** [http://mercurial.selenic.com/](http://mercurial.selenic.com/)\n",
    "\n",
    "In the remainder of this lecture, we will focus on Git. However, Mercurial is equally effective and operates in a very similar manner.\n",
    "\n",
    "We'll be using git. `Git` is an example of a distributed version control system, distinct from centralized versing control systems. I'll not discuss the distinction, but for now, the table below will\n",
    "suffice.\n",
    "\n",
    "Version Control System Tool Options\n",
    "\n",
    "- **Distributed** \n",
    "  - Decentralized CVS (dcvs)  \n",
    "  - mercurial (hg)\n",
    "  - git (git) \n",
    "  - bazaar (bzr)\n",
    "  \n",
    "- **Centralized**\n",
    "  - concurrent versions system (cvs)\n",
    "  - subversion (svn)"
   ]
  },
  {
   "cell_type": "markdown",
   "metadata": {},
   "source": [
    "## git --help : Getting Help\n",
    "\n",
    "The first thing you should know about any **tool** is how to get **help**. From the command line type\n",
    "\n",
    "```bash\n",
    "$ man git\n",
    "```\n",
    "\n",
    "If you remember from the **shell class**, **man** tells you more about a command and how to use it. The manual entry for the git version control system will appear before you. You may scroll through it using arrows, or you can search for\n",
    "keywords by typing **/** followed by the search term. I'm interested in help, so I type **/help** and then hit enter. It looks like the syntax for getting help with git is **git --help**."
   ]
  },
  {
   "cell_type": "code",
   "execution_count": 1,
   "metadata": {},
   "outputs": [
    {
     "name": "stdout",
     "output_type": "stream",
     "text": [
      "\n",
      "Welcome to Python 3.9's help utility!\n",
      "\n",
      "If this is your first time using Python, you should definitely check out\n",
      "the tutorial on the Internet at https://docs.python.org/3.9/tutorial/.\n",
      "\n",
      "Enter the name of any module, keyword, or topic to get help on writing\n",
      "Python programs and using Python modules.  To quit this help utility and\n",
      "return to the interpreter, just type \"quit\".\n",
      "\n",
      "To get a list of available modules, keywords, symbols, or topics, type\n",
      "\"modules\", \"keywords\", \"symbols\", or \"topics\".  Each module also comes\n",
      "with a one-line summary of what it does; to list the modules whose name\n",
      "or summary contain a given string such as \"spam\", type \"modules spam\".\n",
      "\n",
      "help> git\n",
      "No Python documentation found for 'git'.\n",
      "Use help() to get the interactive help utility.\n",
      "Use help(str) for help on the str class.\n",
      "\n",
      "help> q\n",
      "\n",
      "You are now leaving help and returning to the Python interpreter.\n",
      "If you want to ask for help on a particular object directly from the\n",
      "interpreter, you can type \"help(object)\".  Executing \"help('string')\"\n",
      "has the same effect as typing a particular string at the help> prompt.\n"
     ]
    }
   ],
   "source": [
    "/help"
   ]
  },
  {
   "cell_type": "markdown",
   "metadata": {
    "id": "fee39700"
   },
   "source": [
    "To exit the manual page, type `q`.\n",
    "\n",
    "Let's see what happens when we type :\n",
    "\n",
    "```bash\n",
    "$ git --help\n",
    "```\n",
    "\n",
    "Excellent, it gives a list of commands it is able to help with, as well as their descriptions.\n",
    "\n",
    "```bash\n",
    "$  git help <command>' for more information on a specific command.\n",
    "```"
   ]
  },
  {
   "cell_type": "code",
   "execution_count": 2,
   "metadata": {},
   "outputs": [
    {
     "name": "stdout",
     "output_type": "stream",
     "text": [
      "GIT-CLONE(1)                      Git Manual                      GIT-CLONE(1)\r\n",
      "\r\n",
      "N\bNA\bAM\bME\bE\r\n",
      "       git-clone - Clone a repository into a new directory\r\n",
      "\r\n",
      "S\bSY\bYN\bNO\bOP\bPS\bSI\bIS\bS\r\n",
      "       _\bg_\bi_\bt _\bc_\bl_\bo_\bn_\be [--template=<template_directory>]\r\n",
      "                 [-l] [-s] [--no-hardlinks] [-q] [-n] [--bare] [--mirror]\r\n",
      "                 [-o <name>] [-b <name>] [-u <upload-pack>] [--reference <repository>]\r\n",
      "                 [--dissociate] [--separate-git-dir <git dir>]\r\n",
      "                 [--depth <depth>] [--[no-]single-branch] [--no-tags]\r\n",
      "                 [--recurse-submodules[=<pathspec>]] [--[no-]shallow-submodules]\r\n",
      "                 [--[no-]remote-submodules] [--jobs <n>] [--sparse]\r\n",
      "                 [--filter=<filter>] [--] <repository>\r\n",
      "                 [<directory>]\r\n",
      "\r\n",
      "D\bDE\bES\bSC\bCR\bRI\bIP\bPT\bTI\bIO\bON\bN\r\n",
      "       Clones a repository into a newly created directory, creates\r\n",
      "       remote-tracking branches for each branch in the cloned repository\r\n",
      "       (visible using g\bgi\bit\bt b\bbr\bra\ban\bnc\bch\bh -\b--\b-r\bre\bem\bmo\bot\bte\bes\bs), and creates and checks out an\r\n",
      "       initial branch that is forked from the cloned repository’s currently\r\n",
      "       active branch.\r\n",
      "\r\n",
      "       After the clone, a plain g\bgi\bit\bt f\bfe\bet\btc\bch\bh without arguments will update all\r\n",
      "       the remote-tracking branches, and a g\bgi\bit\bt p\bpu\bul\bll\bl without arguments will in\r\n",
      "       addition merge the remote master branch into the current master branch,\r\n",
      "       if any (this is untrue when \"--single-branch\" is given; see below).\r\n",
      "\r\n",
      "       This default configuration is achieved by creating references to the\r\n",
      "       remote branch heads under r\bre\bef\bfs\bs/\b/r\bre\bem\bmo\bot\bte\bes\bs/\b/o\bor\bri\big\bgi\bin\bn and by initializing\r\n",
      "       r\bre\bem\bmo\bot\bte\be.\b.o\bor\bri\big\bgi\bin\bn.\b.u\bur\brl\bl and r\bre\bem\bmo\bot\bte\be.\b.o\bor\bri\big\bgi\bin\bn.\b.f\bfe\bet\btc\bch\bh configuration variables.\r\n",
      "\r\n",
      "O\bOP\bPT\bTI\bIO\bON\bNS\bS\r\n",
      "       -l, --local\r\n",
      "           When the repository to clone from is on a local machine, this flag\r\n",
      "           bypasses the normal \"Git aware\" transport mechanism and clones the\r\n",
      "           repository by making a copy of HEAD and everything under objects\r\n",
      "           and refs directories. The files under .\b.g\bgi\bit\bt/\b/o\bob\bbj\bje\bec\bct\bts\bs/\b/ directory are\r\n",
      "           hardlinked to save space when possible.\r\n",
      "\r\n",
      "           If the repository is specified as a local path (e.g.,\r\n",
      "           /\b/p\bpa\bat\bth\bh/\b/t\bto\bo/\b/r\bre\bep\bpo\bo), this is the default, and --local is essentially a\r\n",
      "           no-op. If the repository is specified as a URL, then this flag is\r\n",
      "           ignored (and we never use the local optimizations). Specifying\r\n",
      "           -\b--\b-n\bno\bo-\b-l\blo\boc\bca\bal\bl will override the default when /\b/p\bpa\bat\bth\bh/\b/t\bto\bo/\b/r\bre\bep\bpo\bo is given,\r\n",
      "           using the regular Git transport instead.\r\n",
      "\r\n",
      "           N\bNO\bOT\bTE\bE: this operation can race with concurrent modification to the\r\n",
      "           source repository, similar to running c\bcp\bp -\b-r\br s\bsr\brc\bc d\bds\bst\bt while modifying\r\n",
      "           s\bsr\brc\bc.\r\n",
      "\r\n",
      "       --no-hardlinks\r\n",
      "           Force the cloning process from a repository on a local filesystem\r\n",
      "           to copy the files under the .\b.g\bgi\bit\bt/\b/o\bob\bbj\bje\bec\bct\bts\bs directory instead of using\r\n",
      "           hardlinks. This may be desirable if you are trying to make a\r\n",
      "           back-up of your repository.\r\n",
      "\r\n",
      "       -s, --shared\r\n",
      "           When the repository to clone is on the local machine, instead of\r\n",
      "           using hard links, automatically setup .\b.g\bgi\bit\bt/\b/o\bob\bbj\bje\bec\bct\bts\bs/\b/i\bin\bnf\bfo\bo/\b/a\bal\blt\bte\ber\brn\bna\bat\bte\bes\bs\r\n",
      "           to share the objects with the source repository. The resulting\r\n",
      "           repository starts out without any object of its own.\r\n",
      "\r\n",
      "           N\bNO\bOT\bTE\bE: this is a possibly dangerous operation; do n\bno\bot\bt use it unless\r\n",
      "           you understand what it does. If you clone your repository using\r\n",
      "           this option and then delete branches (or use any other Git command\r\n",
      "           that makes any existing commit unreferenced) in the source\r\n",
      "           repository, some objects may become unreferenced (or dangling).\r\n",
      "           These objects may be removed by normal Git operations (such as g\bgi\bit\bt\r\n",
      "           c\bco\bom\bmm\bmi\bit\bt) which automatically call g\bgi\bit\bt m\bma\bai\bin\bnt\bte\ben\bna\ban\bnc\bce\be r\bru\bun\bn -\b--\b-a\bau\but\bto\bo. (See\r\n",
      "           g\bgi\bit\bt-\b-m\bma\bai\bin\bnt\bte\ben\bna\ban\bnc\bce\be(1).) If these objects are removed and were\r\n",
      "           referenced by the cloned repository, then the cloned repository\r\n",
      "           will become corrupt.\r\n",
      "\r\n",
      "           Note that running g\bgi\bit\bt r\bre\bep\bpa\bac\bck\bk without the -\b--\b-l\blo\boc\bca\bal\bl option in a\r\n",
      "           repository cloned with -\b--\b-s\bsh\bha\bar\bre\bed\bd will copy objects from the source\r\n",
      "           repository into a pack in the cloned repository, removing the disk\r\n",
      "           space savings of c\bcl\blo\bon\bne\be -\b--\b-s\bsh\bha\bar\bre\bed\bd. It is safe, however, to run g\bgi\bit\bt\r\n",
      "           g\bgc\bc, which uses the -\b--\b-l\blo\boc\bca\bal\bl option by default.\r\n",
      "\r\n",
      "           If you want to break the dependency of a repository cloned with\r\n",
      "           -\b--\b-s\bsh\bha\bar\bre\bed\bd on its source repository, you can simply run g\bgi\bit\bt r\bre\bep\bpa\bac\bck\bk -\b-a\ba\r\n",
      "           to copy all objects from the source repository into a pack in the\r\n",
      "           cloned repository.\r\n",
      "\r\n",
      "       --reference[-if-able] <repository>\r\n",
      "           If the reference repository is on the local machine, automatically\r\n",
      "           setup .\b.g\bgi\bit\bt/\b/o\bob\bbj\bje\bec\bct\bts\bs/\b/i\bin\bnf\bfo\bo/\b/a\bal\blt\bte\ber\brn\bna\bat\bte\bes\bs to obtain objects from the\r\n",
      "           reference repository. Using an already existing repository as an\r\n",
      "           alternate will require fewer objects to be copied from the\r\n",
      "           repository being cloned, reducing network and local storage costs.\r\n",
      "           When using the -\b--\b-r\bre\bef\bfe\ber\bre\ben\bnc\bce\be-\b-i\bif\bf-\b-a\bab\bbl\ble\be, a non existing directory is\r\n",
      "           skipped with a warning instead of aborting the clone.\r\n",
      "\r\n",
      "           N\bNO\bOT\bTE\bE: see the NOTE for the -\b--\b-s\bsh\bha\bar\bre\bed\bd option, and also the\r\n",
      "           -\b--\b-d\bdi\bis\bss\bso\boc\bci\bia\bat\bte\be option.\r\n",
      "\r\n",
      "       --dissociate\r\n",
      "           Borrow the objects from reference repositories specified with the\r\n",
      "           -\b--\b-r\bre\bef\bfe\ber\bre\ben\bnc\bce\be options only to reduce network transfer, and stop\r\n",
      "           borrowing from them after a clone is made by making necessary local\r\n",
      "           copies of borrowed objects. This option can also be used when\r\n",
      "           cloning locally from a repository that already borrows objects from\r\n",
      "           another repository—the new repository will borrow objects from the\r\n",
      "           same repository, and this option can be used to stop the borrowing.\r\n",
      "\r\n",
      "       -q, --quiet\r\n",
      "           Operate quietly. Progress is not reported to the standard error\r\n",
      "           stream.\r\n",
      "\r\n",
      "       -v, --verbose\r\n",
      "           Run verbosely. Does not affect the reporting of progress status to\r\n",
      "           the standard error stream.\r\n",
      "\r\n",
      "       --progress\r\n",
      "           Progress status is reported on the standard error stream by default\r\n",
      "           when it is attached to a terminal, unless -\b--\b-q\bqu\bui\bie\bet\bt is specified.\r\n",
      "           This flag forces progress status even if the standard error stream\r\n",
      "           is not directed to a terminal.\r\n",
      "\r\n",
      "       --server-option=<option>\r\n",
      "           Transmit the given string to the server when communicating using\r\n",
      "           protocol version 2. The given string must not contain a NUL or LF\r\n",
      "           character. The server’s handling of server options, including\r\n",
      "           unknown ones, is server-specific. When multiple\r\n",
      "           -\b--\b-s\bse\ber\brv\bve\ber\br-\b-o\bop\bpt\bti\bio\bon\bn=\b=<\b<o\bop\bpt\bti\bio\bon\bn>\b> are given, they are all sent to the other\r\n",
      "           side in the order listed on the command line.\r\n",
      "\r\n",
      "       -n, --no-checkout\r\n",
      "           No checkout of HEAD is performed after the clone is complete.\r\n",
      "\r\n",
      "       --bare\r\n",
      "           Make a _\bb_\ba_\br_\be Git repository. That is, instead of creating\r\n",
      "           <\b<d\bdi\bir\bre\bec\bct\bto\bor\bry\by>\b> and placing the administrative files in\r\n",
      "           <\b<d\bdi\bir\bre\bec\bct\bto\bor\bry\by>\b>/\b/.\b.g\bgi\bit\bt, make the <\b<d\bdi\bir\bre\bec\bct\bto\bor\bry\by>\b> itself the $\b$G\bGI\bIT\bT_\b_D\bDI\bIR\bR. This\r\n",
      "           obviously implies the -\b--\b-n\bno\bo-\b-c\bch\bhe\bec\bck\bko\bou\but\bt because there is nowhere to\r\n",
      "           check out the working tree. Also the branch heads at the remote are\r\n",
      "           copied directly to corresponding local branch heads, without\r\n",
      "           mapping them to r\bre\bef\bfs\bs/\b/r\bre\bem\bmo\bot\bte\bes\bs/\b/o\bor\bri\big\bgi\bin\bn/\b/. When this option is used,\r\n",
      "           neither remote-tracking branches nor the related configuration\r\n",
      "           variables are created.\r\n",
      "\r\n",
      "       --sparse\r\n",
      "           Initialize the sparse-checkout file so the working directory starts\r\n",
      "           with only the files in the root of the repository. The\r\n",
      "           sparse-checkout file can be modified to grow the working directory\r\n",
      "           as needed.\r\n",
      "\r\n",
      "       --filter=<filter-spec>\r\n",
      "           Use the partial clone feature and request that the server sends a\r\n",
      "           subset of reachable objects according to a given object filter.\r\n",
      "           When using -\b--\b-f\bfi\bil\blt\bte\ber\br, the supplied <\b<f\bfi\bil\blt\bte\ber\br-\b-s\bsp\bpe\bec\bc>\b> is used for the\r\n",
      "           partial clone filter. For example, -\b--\b-f\bfi\bil\blt\bte\ber\br=\b=b\bbl\blo\bob\bb:\b:n\bno\bon\bne\be will filter\r\n",
      "           out all blobs (file contents) until needed by Git. Also,\r\n",
      "           -\b--\b-f\bfi\bil\blt\bte\ber\br=\b=b\bbl\blo\bob\bb:\b:l\bli\bim\bmi\bit\bt=\b=<\b<s\bsi\biz\bze\be>\b> will filter out all blobs of size at\r\n",
      "           least <\b<s\bsi\biz\bze\be>\b>. For more details on filter specifications, see the\r\n",
      "           -\b--\b-f\bfi\bil\blt\bte\ber\br option in g\bgi\bit\bt-\b-r\bre\bev\bv-\b-l\bli\bis\bst\bt(1).\r\n",
      "\r\n",
      "       --mirror\r\n",
      "           Set up a mirror of the source repository. This implies -\b--\b-b\bba\bar\bre\be.\r\n",
      "           Compared to -\b--\b-b\bba\bar\bre\be, -\b--\b-m\bmi\bir\brr\bro\bor\br not only maps local branches of the\r\n",
      "           source to local branches of the target, it maps all refs (including\r\n",
      "           remote-tracking branches, notes etc.) and sets up a refspec\r\n",
      "           configuration such that all these refs are overwritten by a g\bgi\bit\bt\r\n",
      "           r\bre\bem\bmo\bot\bte\be u\bup\bpd\bda\bat\bte\be in the target repository.\r\n",
      "\r\n",
      "       -o <name>, --origin <name>\r\n",
      "           Instead of using the remote name o\bor\bri\big\bgi\bin\bn to keep track of the\r\n",
      "           upstream repository, use <\b<n\bna\bam\bme\be>\b>. Overrides c\bcl\blo\bon\bne\be.\b.d\bde\bef\bfa\bau\bul\blt\btR\bRe\bem\bmo\bot\bte\beN\bNa\bam\bme\be\r\n",
      "           from the config.\r\n",
      "\r\n",
      "       -b <name>, --branch <name>\r\n",
      "           Instead of pointing the newly created HEAD to the branch pointed to\r\n",
      "           by the cloned repository’s HEAD, point to <\b<n\bna\bam\bme\be>\b> branch instead. In\r\n",
      "           a non-bare repository, this is the branch that will be checked out.\r\n",
      "           -\b--\b-b\bbr\bra\ban\bnc\bch\bh can also take tags and detaches the HEAD at that commit in\r\n",
      "           the resulting repository.\r\n",
      "\r\n",
      "       -u <upload-pack>, --upload-pack <upload-pack>\r\n",
      "           When given, and the repository to clone from is accessed via ssh,\r\n",
      "           this specifies a non-default path for the command run on the other\r\n",
      "           end.\r\n",
      "\r\n",
      "       --template=<template_directory>\r\n",
      "           Specify the directory from which templates will be used; (See the\r\n",
      "           \"TEMPLATE DIRECTORY\" section of g\bgi\bit\bt-\b-i\bin\bni\bit\bt(1).)\r\n",
      "\r\n",
      "       -c <key>=<value>, --config <key>=<value>\r\n",
      "           Set a configuration variable in the newly-created repository; this\r\n",
      "           takes effect immediately after the repository is initialized, but\r\n",
      "           before the remote history is fetched or any files checked out. The\r\n",
      "           key is in the same format as expected by g\bgi\bit\bt-\b-c\bco\bon\bnf\bfi\big\bg(1) (e.g.,\r\n",
      "           c\bco\bor\bre\be.\b.e\beo\bol\bl=\b=t\btr\bru\bue\be). If multiple values are given for the same key, each\r\n",
      "           value will be written to the config file. This makes it safe, for\r\n",
      "           example, to add additional fetch refspecs to the origin remote.\r\n",
      "\r\n",
      "           Due to limitations of the current implementation, some\r\n",
      "           configuration variables do not take effect until after the initial\r\n",
      "           fetch and checkout. Configuration variables known to not take\r\n",
      "           effect are: r\bre\bem\bmo\bot\bte\be.\b.<\b<n\bna\bam\bme\be>\b>.\b.m\bmi\bir\brr\bro\bor\br and r\bre\bem\bmo\bot\bte\be.\b.<\b<n\bna\bam\bme\be>\b>.\b.t\bta\bag\bgO\bOp\bpt\bt. Use the\r\n",
      "           corresponding -\b--\b-m\bmi\bir\brr\bro\bor\br and -\b--\b-n\bno\bo-\b-t\bta\bag\bgs\bs options instead.\r\n",
      "\r\n",
      "       --depth <depth>\r\n",
      "           Create a _\bs_\bh_\ba_\bl_\bl_\bo_\bw clone with a history truncated to the specified\r\n",
      "           number of commits. Implies -\b--\b-s\bsi\bin\bng\bgl\ble\be-\b-b\bbr\bra\ban\bnc\bch\bh unless\r\n",
      "           -\b--\b-n\bno\bo-\b-s\bsi\bin\bng\bgl\ble\be-\b-b\bbr\bra\ban\bnc\bch\bh is given to fetch the histories near the tips of\r\n",
      "           all branches. If you want to clone submodules shallowly, also pass\r\n",
      "           -\b--\b-s\bsh\bha\bal\bll\blo\bow\bw-\b-s\bsu\bub\bbm\bmo\bod\bdu\bul\ble\bes\bs.\r\n",
      "\r\n",
      "       --shallow-since=<date>\r\n",
      "           Create a shallow clone with a history after the specified time.\r\n",
      "\r\n",
      "       --shallow-exclude=<revision>\r\n",
      "           Create a shallow clone with a history, excluding commits reachable\r\n",
      "           from a specified remote branch or tag. This option can be specified\r\n",
      "           multiple times.\r\n",
      "\r\n",
      "       --[no-]single-branch\r\n",
      "           Clone only the history leading to the tip of a single branch,\r\n",
      "           either specified by the -\b--\b-b\bbr\bra\ban\bnc\bch\bh option or the primary branch\r\n",
      "           remote’s H\bHE\bEA\bAD\bD points at. Further fetches into the resulting\r\n",
      "           repository will only update the remote-tracking branch for the\r\n",
      "           branch this option was used for the initial cloning. If the HEAD at\r\n",
      "           the remote did not point at any branch when -\b--\b-s\bsi\bin\bng\bgl\ble\be-\b-b\bbr\bra\ban\bnc\bch\bh clone\r\n",
      "           was made, no remote-tracking branch is created.\r\n",
      "\r\n",
      "       --no-tags\r\n",
      "           Don’t clone any tags, and set r\bre\bem\bmo\bot\bte\be.\b.<\b<r\bre\bem\bmo\bot\bte\be>\b>.\b.t\bta\bag\bgO\bOp\bpt\bt=\b=-\b--\b-n\bno\bo-\b-t\bta\bag\bgs\bs in\r\n",
      "           the config, ensuring that future g\bgi\bit\bt p\bpu\bul\bll\bl and g\bgi\bit\bt f\bfe\bet\btc\bch\bh operations\r\n",
      "           won’t follow any tags. Subsequent explicit tag fetches will still\r\n",
      "           work, (see g\bgi\bit\bt-\b-f\bfe\bet\btc\bch\bh(1)).\r\n",
      "\r\n",
      "           Can be used in conjunction with -\b--\b-s\bsi\bin\bng\bgl\ble\be-\b-b\bbr\bra\ban\bnc\bch\bh to clone and\r\n",
      "           maintain a branch with no references other than a single cloned\r\n",
      "           branch. This is useful e.g. to maintain minimal clones of the\r\n",
      "           default branch of some repository for search indexing.\r\n",
      "\r\n",
      "       --recurse-submodules[=<pathspec>]\r\n",
      "           After the clone is created, initialize and clone submodules within\r\n",
      "           based on the provided pathspec. If no pathspec is provided, all\r\n",
      "           submodules are initialized and cloned. This option can be given\r\n",
      "           multiple times for pathspecs consisting of multiple entries. The\r\n",
      "           resulting clone has s\bsu\bub\bbm\bmo\bod\bdu\bul\ble\be.\b.a\bac\bct\bti\biv\bve\be set to the provided pathspec,\r\n",
      "           or \".\" (meaning all submodules) if no pathspec is provided.\r\n",
      "\r\n",
      "           Submodules are initialized and cloned using their default settings.\r\n",
      "           This is equivalent to running g\bgi\bit\bt s\bsu\bub\bbm\bmo\bod\bdu\bul\ble\be u\bup\bpd\bda\bat\bte\be -\b--\b-i\bin\bni\bit\bt\r\n",
      "           -\b--\b-r\bre\bec\bcu\bur\brs\bsi\biv\bve\be <\b<p\bpa\bat\bth\bhs\bsp\bpe\bec\bc>\b> immediately after the clone is finished.\r\n",
      "           This option is ignored if the cloned repository does not have a\r\n",
      "           worktree/checkout (i.e. if any of -\b--\b-n\bno\bo-\b-c\bch\bhe\bec\bck\bko\bou\but\bt/-\b-n\bn, -\b--\b-b\bba\bar\bre\be, or\r\n",
      "           -\b--\b-m\bmi\bir\brr\bro\bor\br is given)\r\n",
      "\r\n",
      "       --[no-]shallow-submodules\r\n",
      "           All submodules which are cloned will be shallow with a depth of 1.\r\n",
      "\r\n",
      "       --[no-]remote-submodules\r\n",
      "           All submodules which are cloned will use the status of the\r\n",
      "           submodule’s remote-tracking branch to update the submodule, rather\r\n",
      "           than the superproject’s recorded SHA-1. Equivalent to passing\r\n",
      "           -\b--\b-r\bre\bem\bmo\bot\bte\be to g\bgi\bit\bt s\bsu\bub\bbm\bmo\bod\bdu\bul\ble\be u\bup\bpd\bda\bat\bte\be.\r\n",
      "\r\n",
      "       --separate-git-dir=<git dir>\r\n",
      "           Instead of placing the cloned repository where it is supposed to\r\n",
      "           be, place the cloned repository at the specified directory, then\r\n",
      "           make a filesystem-agnostic Git symbolic link to there. The result\r\n",
      "           is Git repository can be separated from working tree.\r\n",
      "\r\n",
      "       -j <n>, --jobs <n>\r\n",
      "           The number of submodules fetched at the same time. Defaults to the\r\n",
      "           s\bsu\bub\bbm\bmo\bod\bdu\bul\ble\be.\b.f\bfe\bet\btc\bch\bhJ\bJo\bob\bbs\bs option.\r\n",
      "\r\n",
      "       <repository>\r\n",
      "           The (possibly remote) repository to clone from. See the GIT URLS\r\n",
      "           section below for more information on specifying repositories.\r\n",
      "\r\n",
      "       <directory>\r\n",
      "           The name of a new directory to clone into. The \"humanish\" part of\r\n",
      "           the source repository is used if no directory is explicitly given\r\n",
      "           (r\bre\bep\bpo\bo for /\b/p\bpa\bat\bth\bh/\b/t\bto\bo/\b/r\bre\bep\bpo\bo.\b.g\bgi\bit\bt and f\bfo\boo\bo for h\bho\bos\bst\bt.\b.x\bxz\bz:\b:f\bfo\boo\bo/\b/.\b.g\bgi\bit\bt). Cloning\r\n",
      "           into an existing directory is only allowed if the directory is\r\n",
      "           empty.\r\n",
      "\r\n",
      "G\bGI\bIT\bT U\bUR\bRL\bLS\bS\r\n",
      "       In general, URLs contain information about the transport protocol, the\r\n",
      "       address of the remote server, and the path to the repository. Depending\r\n",
      "       on the transport protocol, some of this information may be absent.\r\n",
      "\r\n",
      "       Git supports ssh, git, http, and https protocols (in addition, ftp, and\r\n",
      "       ftps can be used for fetching, but this is inefficient and deprecated;\r\n",
      "       do not use it).\r\n",
      "\r\n",
      "       The native transport (i.e. git:// URL) does no authentication and\r\n",
      "       should be used with caution on unsecured networks.\r\n",
      "\r\n",
      "       The following syntaxes may be used with them:\r\n",
      "\r\n",
      "       •   ssh://[user@]host.xz[:port]/path/to/repo.git/\r\n",
      "\r\n",
      "       •   git://host.xz[:port]/path/to/repo.git/\r\n",
      "\r\n",
      "       •   http[s]://host.xz[:port]/path/to/repo.git/\r\n",
      "\r\n",
      "       •   ftp[s]://host.xz[:port]/path/to/repo.git/\r\n",
      "\r\n",
      "       An alternative scp-like syntax may also be used with the ssh protocol:\r\n",
      "\r\n",
      "       •   [user@]host.xz:path/to/repo.git/\r\n",
      "\r\n",
      "       This syntax is only recognized if there are no slashes before the first\r\n",
      "       colon. This helps differentiate a local path that contains a colon. For\r\n",
      "       example the local path f\bfo\boo\bo:\b:b\bba\bar\br could be specified as an absolute path\r\n",
      "       or .\b./\b/f\bfo\boo\bo:\b:b\bba\bar\br to avoid being misinterpreted as an ssh url.\r\n",
      "\r\n",
      "       The ssh and git protocols additionally support ~username expansion:\r\n",
      "\r\n",
      "       •   ssh://[user@]host.xz[:port]/~[user]/path/to/repo.git/\r\n",
      "\r\n",
      "       •   git://host.xz[:port]/~[user]/path/to/repo.git/\r\n",
      "\r\n",
      "       •   [user@]host.xz:/~[user]/path/to/repo.git/\r\n",
      "\r\n",
      "       For local repositories, also supported by Git natively, the following\r\n",
      "       syntaxes may be used:\r\n",
      "\r\n",
      "       •   /path/to/repo.git/\r\n",
      "\r\n",
      "       •   file:///path/to/repo.git/\r\n",
      "\r\n",
      "       These two syntaxes are mostly equivalent, except the former implies\r\n",
      "       --local option.\r\n",
      "\r\n",
      "       _\bg_\bi_\bt _\bc_\bl_\bo_\bn_\be, _\bg_\bi_\bt _\bf_\be_\bt_\bc_\bh and _\bg_\bi_\bt _\bp_\bu_\bl_\bl, but not _\bg_\bi_\bt _\bp_\bu_\bs_\bh, will also accept a\r\n",
      "       suitable bundle file. See g\bgi\bit\bt-\b-b\bbu\bun\bnd\bdl\ble\be(1).\r\n",
      "\r\n",
      "       When Git doesn’t know how to handle a certain transport protocol, it\r\n",
      "       attempts to use the _\br_\be_\bm_\bo_\bt_\be_\b-_\b<_\bt_\br_\ba_\bn_\bs_\bp_\bo_\br_\bt_\b> remote helper, if one exists. To\r\n",
      "       explicitly request a remote helper, the following syntax may be used:\r\n",
      "\r\n",
      "       •   <transport>::<address>\r\n",
      "\r\n",
      "       where <address> may be a path, a server and path, or an arbitrary\r\n",
      "       URL-like string recognized by the specific remote helper being invoked.\r\n",
      "       See g\bgi\bit\btr\bre\bem\bmo\bot\bte\be-\b-h\bhe\bel\blp\bpe\ber\brs\bs(7) for details.\r\n",
      "\r\n",
      "       If there are a large number of similarly-named remote repositories and\r\n",
      "       you want to use a different format for them (such that the URLs you use\r\n",
      "       will be rewritten into URLs that work), you can create a configuration\r\n",
      "       section of the form:\r\n",
      "\r\n",
      "                   [url \"<actual url base>\"]\r\n",
      "                           insteadOf = <other url base>\r\n",
      "\r\n",
      "       For example, with this:\r\n",
      "\r\n",
      "                   [url \"git://git.host.xz/\"]\r\n",
      "                           insteadOf = host.xz:/path/to/\r\n",
      "                           insteadOf = work:\r\n",
      "\r\n",
      "       a URL like \"work:repo.git\" or like \"host.xz:/path/to/repo.git\" will be\r\n",
      "       rewritten in any context that takes a URL to be\r\n",
      "       \"git://git.host.xz/repo.git\".\r\n",
      "\r\n",
      "       If you want to rewrite URLs for push only, you can create a\r\n",
      "       configuration section of the form:\r\n",
      "\r\n",
      "                   [url \"<actual url base>\"]\r\n",
      "                           pushInsteadOf = <other url base>\r\n",
      "\r\n",
      "       For example, with this:\r\n",
      "\r\n",
      "                   [url \"ssh://example.org/\"]\r\n",
      "                           pushInsteadOf = git://example.org/\r\n",
      "\r\n",
      "       a URL like \"git://example.org/path/to/repo.git\" will be rewritten to\r\n",
      "       \"ssh://example.org/path/to/repo.git\" for pushes, but pulls will still\r\n",
      "       use the original URL.\r\n",
      "\r\n",
      "E\bEX\bXA\bAM\bMP\bPL\bLE\bES\bS\r\n",
      "       •   Clone from upstream:\r\n",
      "\r\n",
      "               $ git clone git://git.kernel.org/pub/scm/.../linux.git my-linux\r\n",
      "               $ cd my-linux\r\n",
      "               $ make\r\n",
      "\r\n",
      "       •   Make a local clone that borrows from the current directory, without\r\n",
      "           checking things out:\r\n",
      "\r\n",
      "               $ git clone -l -s -n . ../copy\r\n",
      "               $ cd ../copy\r\n",
      "               $ git show-branch\r\n",
      "\r\n",
      "       •   Clone from upstream while borrowing from an existing local\r\n",
      "           directory:\r\n",
      "\r\n",
      "               $ git clone --reference /git/linux.git \\\r\n",
      "                       git://git.kernel.org/pub/scm/.../linux.git \\\r\n",
      "                       my-linux\r\n",
      "               $ cd my-linux\r\n",
      "\r\n",
      "       •   Create a bare repository to publish your changes to the public:\r\n",
      "\r\n",
      "               $ git clone --bare -l /home/proj/.git /pub/scm/proj.git\r\n",
      "\r\n",
      "G\bGI\bIT\bT\r\n",
      "       Part of the g\bgi\bit\bt(1) suite\r\n",
      "\r\n",
      "Git 2.30.2                        02/22/2023                      GIT-CLONE(1)\r\n"
     ]
    }
   ],
   "source": [
    "!git help clone"
   ]
  },
  {
   "cell_type": "markdown",
   "metadata": {
    "id": "da6e3f66"
   },
   "source": [
    "## git config : Controls the behavior of git\n",
    "A few settings are in order. You don't have to do it now but it is recommanded.\n",
    "\n",
    "```bash\n",
    "$ git config --global user.name \"YOUR NAME\"\n",
    "$ git config --global user.email \"YOUR EMAIL\"\n",
    "```     "
   ]
  },
  {
   "cell_type": "code",
   "execution_count": 60,
   "metadata": {},
   "outputs": [],
   "source": [
    "!git config --global user.name \"tsiky.rakotoherisoa\""
   ]
  },
  {
   "cell_type": "code",
   "execution_count": 61,
   "metadata": {},
   "outputs": [],
   "source": [
    "!git config --global user.email \"tsiky.rakotoherisoa@aims.ac.rw\""
   ]
  },
  {
   "cell_type": "markdown",
   "metadata": {
    "id": "1b56ee4f"
   },
   "source": [
    "## git init : Creating a Local Repository\n",
    "\n",
    "To keep track of numerous versions of your work without saving numerous\n",
    "copies, you can make a local repository for it on your computer. What git\n",
    "does is to save the first version, then for each subsequent version it\n",
    "saves only the changes. This is the trick, git only records the difference between\n",
    "the new version and the one before it. With this compact information,\n",
    "git is able to recreate any version on demand by adding the changes to\n",
    "the original in order up to the version of interest.\n",
    "\n",
    "To create your own local (on your own machine) repository, you must\n",
    "initialize the repository with the infrastructure git needs in order to\n",
    "keep a record of things within the repository that you're concerned\n",
    "about. The command to do this is **git init** ."
   ]
  },
  {
   "cell_type": "code",
   "execution_count": 3,
   "metadata": {},
   "outputs": [
    {
     "name": "stdout",
     "output_type": "stream",
     "text": [
      "Reinitialized existing Git repository in /home/tsiky/Desktop/python/python_course_colab_notebooks/.git/\r\n"
     ]
    }
   ],
   "source": [
    "!git init"
   ]
  },
  {
   "cell_type": "markdown",
   "metadata": {
    "id": "884dc97c"
   },
   "source": [
    "* * * * \n",
    "### Practical : Create a Local Repository\n",
    "\n",
    "Step 1 : Initialize your repository. Navigate to `/home`\n",
    "\n",
    "```bash\n",
    "$ cd\n",
    "$ mkdir simplestats\n",
    "$ cd simplestats\n",
    "$ git init\n",
    "Initialized empty Git repository in /home/me/simplestats/.git/\n",
    "```\n"
   ]
  },
  {
   "cell_type": "code",
   "execution_count": 4,
   "metadata": {},
   "outputs": [
    {
     "name": "stdout",
     "output_type": "stream",
     "text": [
      "/home/tsiky/Desktop/python/python_course_colab_notebooks\r\n"
     ]
    }
   ],
   "source": [
    "!pwd"
   ]
  },
  {
   "cell_type": "code",
   "execution_count": 10,
   "metadata": {},
   "outputs": [
    {
     "name": "stdout",
     "output_type": "stream",
     "text": [
      "/home/tsiky\n"
     ]
    }
   ],
   "source": [
    "cd ~"
   ]
  },
  {
   "cell_type": "code",
   "execution_count": 11,
   "metadata": {},
   "outputs": [],
   "source": [
    "!mkdir simplestats"
   ]
  },
  {
   "cell_type": "code",
   "execution_count": 12,
   "metadata": {},
   "outputs": [
    {
     "name": "stdout",
     "output_type": "stream",
     "text": [
      "/home/tsiky/simplestats\n"
     ]
    }
   ],
   "source": [
    "cd simplestats"
   ]
  },
  {
   "cell_type": "code",
   "execution_count": 13,
   "metadata": {},
   "outputs": [
    {
     "name": "stdout",
     "output_type": "stream",
     "text": [
      "\u001b[33mhint: Using 'master' as the name for the initial branch. This default branch name\u001b[m\r\n",
      "\u001b[33mhint: is subject to change. To configure the initial branch name to use in all\u001b[m\r\n",
      "\u001b[33mhint: of your new repositories, which will suppress this warning, call:\u001b[m\r\n",
      "\u001b[33mhint: \u001b[m\r\n",
      "\u001b[33mhint: \tgit config --global init.defaultBranch <name>\u001b[m\r\n",
      "\u001b[33mhint: \u001b[m\r\n",
      "\u001b[33mhint: Names commonly chosen instead of 'master' are 'main', 'trunk' and\u001b[m\r\n",
      "\u001b[33mhint: 'development'. The just-created branch can be renamed via this command:\u001b[m\r\n",
      "\u001b[33mhint: \u001b[m\r\n",
      "\u001b[33mhint: \tgit branch -m <name>\u001b[m\r\n",
      "Initialized empty Git repository in /home/tsiky/simplestats/.git/\r\n"
     ]
    }
   ],
   "source": [
    "!git init"
   ]
  },
  {
   "cell_type": "markdown",
   "metadata": {},
   "source": [
    "Step 2 : Browse the directory's hidden files to see what happened here.\n",
    "Open directories, browse file contents. Learn what you can in a minute.\n",
    "\n",
    "```bash\n",
    "$ ls -A .git\n",
    "$ cd .git\n",
    "$ ls -A\n",
    "HEAD        config      description hooks       info        objects     refs      branches\n",
    "```\n",
    "\n"
   ]
  },
  {
   "cell_type": "code",
   "execution_count": 14,
   "metadata": {},
   "outputs": [
    {
     "name": "stdout",
     "output_type": "stream",
     "text": [
      "branches  config  description  HEAD  hooks  info  objects  refs\r\n"
     ]
    }
   ],
   "source": [
    "!ls -A .git"
   ]
  },
  {
   "cell_type": "code",
   "execution_count": 30,
   "metadata": {},
   "outputs": [
    {
     "name": "stdout",
     "output_type": "stream",
     "text": [
      "/home/tsiky/simplestats/.git\n"
     ]
    }
   ],
   "source": [
    "cd .git"
   ]
  },
  {
   "cell_type": "code",
   "execution_count": 31,
   "metadata": {},
   "outputs": [
    {
     "name": "stdout",
     "output_type": "stream",
     "text": [
      "\u001b[0m\u001b[01;34mbranches\u001b[0m/  config  description  HEAD  \u001b[01;34mhooks\u001b[0m/  \u001b[01;34minfo\u001b[0m/  \u001b[01;34mobjects\u001b[0m/  \u001b[01;34mrefs\u001b[0m/\r\n"
     ]
    }
   ],
   "source": [
    "ls -A"
   ]
  },
  {
   "cell_type": "markdown",
   "metadata": {},
   "source": [
    "Step 3 : Use what you've learned. You may have noticed the file called description. You can describe your repository by opening the description file and replacing the text with a name for the repository.  We will be creating a module with some simple statistical methods, so mine will be called \"Some simple methods for statistical analysis\". You may call yours  anything you like.\n",
    "\n",
    "```bash\n",
    "$ nano description\n",
    "```"
   ]
  },
  {
   "cell_type": "code",
   "execution_count": 35,
   "metadata": {},
   "outputs": [],
   "source": [
    "!gedit description"
   ]
  },
  {
   "cell_type": "markdown",
   "metadata": {},
   "source": [
    "You can use `!tree` or `tree` to display the directory structure in a tree-like format"
   ]
  },
  {
   "cell_type": "code",
   "execution_count": 36,
   "metadata": {},
   "outputs": [
    {
     "name": "stdout",
     "output_type": "stream",
     "text": [
      "\u001b[01;34m.\u001b[00m\r\n",
      "├── \u001b[01;34mbranches\u001b[00m\r\n",
      "├── config\r\n",
      "├── description\r\n",
      "├── description.save\r\n",
      "├── HEAD\r\n",
      "├── \u001b[01;34mhooks\u001b[00m\r\n",
      "│   ├── \u001b[01;32mapplypatch-msg.sample\u001b[00m\r\n",
      "│   ├── \u001b[01;32mcommit-msg.sample\u001b[00m\r\n",
      "│   ├── \u001b[01;32mfsmonitor-watchman.sample\u001b[00m\r\n",
      "│   ├── \u001b[01;32mpost-update.sample\u001b[00m\r\n",
      "│   ├── \u001b[01;32mpre-applypatch.sample\u001b[00m\r\n",
      "│   ├── \u001b[01;32mpre-commit.sample\u001b[00m\r\n",
      "│   ├── \u001b[01;32mpre-merge-commit.sample\u001b[00m\r\n",
      "│   ├── \u001b[01;32mprepare-commit-msg.sample\u001b[00m\r\n",
      "│   ├── \u001b[01;32mpre-push.sample\u001b[00m\r\n",
      "│   ├── \u001b[01;32mpre-rebase.sample\u001b[00m\r\n",
      "│   ├── \u001b[01;32mpre-receive.sample\u001b[00m\r\n",
      "│   ├── \u001b[01;32mpush-to-checkout.sample\u001b[00m\r\n",
      "│   └── \u001b[01;32mupdate.sample\u001b[00m\r\n",
      "├── \u001b[01;34minfo\u001b[00m\r\n",
      "│   └── exclude\r\n",
      "├── \u001b[01;34mobjects\u001b[00m\r\n",
      "│   ├── \u001b[01;34minfo\u001b[00m\r\n",
      "│   └── \u001b[01;34mpack\u001b[00m\r\n",
      "└── \u001b[01;34mrefs\u001b[00m\r\n",
      "    ├── \u001b[01;34mheads\u001b[00m\r\n",
      "    └── \u001b[01;34mtags\u001b[00m\r\n",
      "\r\n",
      "9 directories, 18 files\r\n"
     ]
    }
   ],
   "source": [
    "!tree"
   ]
  },
  {
   "cell_type": "markdown",
   "metadata": {
    "id": "8-rwgD5HbIdj"
   },
   "source": [
    "* * *  *\n",
    "An interesting command I would like you to test is `git status`, I will describe it later but let's see what it displays now.\n",
    "```bash\n",
    "$ git status\n",
    "On branch master\n",
    "\n",
    "No commits yet\n",
    "\n",
    "nothing to commit (create/copy files and use \"git add\" to track)\n",
    "```\n",
    "\n",
    "* * *  *\n"
   ]
  },
  {
   "cell_type": "code",
   "execution_count": 55,
   "metadata": {},
   "outputs": [
    {
     "name": "stdout",
     "output_type": "stream",
     "text": [
      "/home/tsiky/simplestats\n"
     ]
    }
   ],
   "source": [
    "cd simplestats"
   ]
  },
  {
   "cell_type": "code",
   "execution_count": 56,
   "metadata": {},
   "outputs": [
    {
     "name": "stdout",
     "output_type": "stream",
     "text": [
      "On branch master\r\n",
      "\r\n",
      "No commits yet\r\n",
      "\r\n",
      "Untracked files:\r\n",
      "  (use \"git add <file>...\" to include in what will be committed)\r\n",
      "\t\u001b[31mREADME.md\u001b[m\r\n",
      "\t\u001b[31mdescription\u001b[m\r\n",
      "\r\n",
      "nothing added to commit but untracked files present (use \"git add\" to track)\r\n"
     ]
    }
   ],
   "source": [
    "!git status"
   ]
  },
  {
   "cell_type": "markdown",
   "metadata": {
    "id": "bdcfca76"
   },
   "source": [
    "## git add : Adding a File To Version Control\n",
    "\n",
    "For the git repository to know which files within this directory you\n",
    "would like to keep track of, you must add them. First, you'll need to\n",
    "create one, then we'll learn the **git add** command."
   ]
  },
  {
   "cell_type": "markdown",
   "metadata": {
    "id": "a6f520a2"
   },
   "source": [
    "* * * * \n",
    "### Practical : Add a File to Your Local Repository\n",
    "\n",
    "Step 1 : Create a file to add to your repository.\n",
    "\n",
    "```bash\n",
    "$ touch README.md\n",
    "```\n",
    "\n"
   ]
  },
  {
   "cell_type": "code",
   "execution_count": 42,
   "metadata": {},
   "outputs": [],
   "source": [
    "! touch README.md"
   ]
  },
  {
   "cell_type": "code",
   "execution_count": 45,
   "metadata": {},
   "outputs": [
    {
     "name": "stdout",
     "output_type": "stream",
     "text": [
      "/home/tsiky/simplestats/.git\r\n"
     ]
    }
   ],
   "source": [
    "!pwd"
   ]
  },
  {
   "cell_type": "code",
   "execution_count": 48,
   "metadata": {},
   "outputs": [
    {
     "name": "stdout",
     "output_type": "stream",
     "text": [
      "/home/tsiky/simplestats\n"
     ]
    }
   ],
   "source": [
    "cd .."
   ]
  },
  {
   "cell_type": "code",
   "execution_count": 49,
   "metadata": {},
   "outputs": [
    {
     "name": "stdout",
     "output_type": "stream",
     "text": [
      "description  README.md\r\n"
     ]
    }
   ],
   "source": [
    "!ls"
   ]
  },
  {
   "cell_type": "markdown",
   "metadata": {},
   "source": [
    "Step 2: Verify that git has seen the file.\n",
    "\n",
    "```bash\n",
    "$ git status\n",
    "# On branch master\n",
    "\n",
    "# No commits yet\n",
    "\n",
    "# Untracked files:\n",
    "#(use \"git add <file>...\" to include in what will be committed) README.md\n",
    "\n",
    "# nothing added to commit but untracked files present (use \"git add\" to track)\n",
    "```\n"
   ]
  },
  {
   "cell_type": "code",
   "execution_count": 50,
   "metadata": {},
   "outputs": [
    {
     "name": "stdout",
     "output_type": "stream",
     "text": [
      "On branch master\r\n",
      "\r\n",
      "No commits yet\r\n",
      "\r\n",
      "Untracked files:\r\n",
      "  (use \"git add <file>...\" to include in what will be committed)\r\n",
      "\t\u001b[31mREADME.md\u001b[m\r\n",
      "\t\u001b[31mdescription\u001b[m\r\n",
      "\r\n",
      "nothing added to commit but untracked files present (use \"git add\" to track)\r\n"
     ]
    }
   ],
   "source": [
    "!git status"
   ]
  },
  {
   "cell_type": "markdown",
   "metadata": {},
   "source": [
    "\n",
    "Step 3 : Inform git that you would like to keep track of future changes\n",
    "in this file.\n",
    "\n",
    "```bash\n",
    "$ git add README.md\n",
    "```"
   ]
  },
  {
   "cell_type": "code",
   "execution_count": 57,
   "metadata": {},
   "outputs": [],
   "source": [
    "!git add README.md"
   ]
  },
  {
   "cell_type": "markdown",
   "metadata": {
    "id": "31901d46"
   },
   "source": [
    "## git status : Checking the status of your local copy\n",
    "\n",
    "The files you've created on your machine are your local \"working\" copy.\n",
    "The changes your make in this local copy aren't backed up online\n",
    "automatically. Until you commit them, the changes you make are local\n",
    "changes. When you change anything, your set of files becomes different\n",
    "from the files in the official repository copy. To find out what's\n",
    "different about them in the terminal, try:\n",
    "\n",
    "```bash\n",
    "$ git status\n",
    "# On branch master\n",
    "#\n",
    "# No commits yet\n",
    "#\n",
    "# Changes to be committed:\n",
    "#   (use \"git rm --cached <file>...\" to unstage)\n",
    "#\n",
    "#       new file:   README.md\n",
    "#\n",
    "```\n",
    "\n",
    "The null result means that you're up to date with the current version of\n",
    "the repository online. This result indicates that the current difference\n",
    "between the repository HEAD (which, so far, is empty) and your\n",
    "`simplestats` directory is this new README.md file."
   ]
  },
  {
   "cell_type": "code",
   "execution_count": 58,
   "metadata": {},
   "outputs": [
    {
     "name": "stdout",
     "output_type": "stream",
     "text": [
      "On branch master\r\n",
      "\r\n",
      "No commits yet\r\n",
      "\r\n",
      "Changes to be committed:\r\n",
      "  (use \"git rm --cached <file>...\" to unstage)\r\n",
      "\t\u001b[32mnew file:   README.md\u001b[m\r\n",
      "\r\n",
      "Untracked files:\r\n",
      "  (use \"git add <file>...\" to include in what will be committed)\r\n",
      "\t\u001b[31mdescription\u001b[m\r\n",
      "\r\n"
     ]
    }
   ],
   "source": [
    "!git status"
   ]
  },
  {
   "cell_type": "markdown",
   "metadata": {
    "id": "5c0466af"
   },
   "source": [
    "## git commit : Saving a snapshot\n",
    "\n",
    "In order to save a snapshot of the current state (revision) of the\n",
    "repository, we use the commit command. This command is always associated\n",
    "with a message describing the changes since the last commit and\n",
    "indicating their purpose. Informative commit messages will serve you\n",
    "well someday, so make a habit of never committing changes without at\n",
    "least a full sentence description.\n",
    "\n",
    "**ADVICE: Commit often**\n",
    "\n",
    "In the same way that it is wise to often save a document that you are\n",
    "working on, so too is it wise to save numerous revisions of your code.\n",
    "More frequent commits increase the granularity of your **undo** button.\n",
    "\n",
    "**ADVICE: Good commit messages**\n",
    "\n",
    "There are no hard and fast rules, but good commits are atomic: they are the smallest change that remain meaningful. A good commit message usually contains a one-line description followed by a longer explanation if necessary.\n"
   ]
  },
  {
   "cell_type": "markdown",
   "metadata": {
    "id": "ad25127c"
   },
   "source": [
    "* * * \n",
    "### Practical : Commit Your Changes\n",
    "\n",
    "Step 1 : Commit the file you've added to your repository.\n",
    "\n",
    "```bash\n",
    "$ git commit -am \"This is the first commit. It adds a readme file.\"\n",
    "  [master (root-commit) 664867c] This is the first commit. It adds a readme file.\n",
    "  1 file changed, 0 insertions(+), 0 deletions(-)\n",
    "  create mode 100644 readme.md\n",
    "```  "
   ]
  },
  {
   "cell_type": "code",
   "execution_count": 62,
   "metadata": {},
   "outputs": [
    {
     "name": "stdout",
     "output_type": "stream",
     "text": [
      "[master (root-commit) a6f554b] This is the first commit. It adds a readme file.\r\n",
      " 1 file changed, 0 insertions(+), 0 deletions(-)\r\n",
      " create mode 100644 README.md\r\n"
     ]
    }
   ],
   "source": [
    "! git commit -am \"This is the first commit. It adds a readme file.\""
   ]
  },
  {
   "cell_type": "markdown",
   "metadata": {},
   "source": [
    "Step 2 : Admire your work.\n",
    "\n",
    "```bash\n",
    "$ git status\n",
    "# On branch master\n",
    "nothing to commit, working tree clean\n",
    "```"
   ]
  },
  {
   "cell_type": "code",
   "execution_count": 63,
   "metadata": {},
   "outputs": [
    {
     "name": "stdout",
     "output_type": "stream",
     "text": [
      "On branch master\r\n",
      "Untracked files:\r\n",
      "  (use \"git add <file>...\" to include in what will be committed)\r\n",
      "\t\u001b[31mdescription\u001b[m\r\n",
      "\r\n",
      "nothing added to commit but untracked files present (use \"git add\" to track)\r\n"
     ]
    }
   ],
   "source": [
    "!git status"
   ]
  },
  {
   "cell_type": "markdown",
   "metadata": {
    "id": "46cbed6f"
   },
   "source": [
    "## git diff : Viewing the Differences\n",
    "\n",
    "There are many diff tools.\n",
    "\n",
    "If you have a favorite you can set your default git diff tool to execute that one. Git, however, comes with its own diff system.\n",
    "\n",
    "Let's recall the behavior of the linux [`diff`](https://www.geeksforgeeks.org/diff-command-linux-examples/) command on the command line. The equivalent command for windows is [fc](https://www.howtogeek.com/206123/how-to-use-fc-file-compare-from-the-windows-command-prompt/). Choosing two files that are similar, the command:\n",
    "\n",
    "```bash\n",
    "$!diff file1 file2\n",
    "```\n",
    "\n",
    "will output the lines that differ between the two files. This information can be saved as what's known as a patch, but we won't go deeply into that just now.\n"
   ]
  },
  {
   "cell_type": "markdown",
   "metadata": {},
   "source": [
    "The only difference between the command line diff tool and git's diff tool is that the git tool is aware of all of the revisions in your repository, allowing each revision of each file to be treated as a full file.\n",
    "\n",
    "\n",
    "Thus, git diff will output the changes in your working directory that are not yet staged for a commit. To see how this works, make a change in your `README.md` file, but don't yet commit it.\n",
    "\n",
    "```bash\n",
    "$ git diff\n",
    "```"
   ]
  },
  {
   "cell_type": "code",
   "execution_count": 66,
   "metadata": {},
   "outputs": [],
   "source": [
    "!gedit README.md"
   ]
  },
  {
   "cell_type": "code",
   "execution_count": 67,
   "metadata": {},
   "outputs": [
    {
     "name": "stdout",
     "output_type": "stream",
     "text": [
      "[master acbac75] Second commit\r\n",
      " 1 file changed, 1 insertion(+)\r\n"
     ]
    }
   ],
   "source": [
    "! git commit -am \"Second commit\""
   ]
  },
  {
   "cell_type": "code",
   "execution_count": 68,
   "metadata": {},
   "outputs": [
    {
     "name": "stdout",
     "output_type": "stream",
     "text": [
      "On branch master\r\n",
      "Untracked files:\r\n",
      "  (use \"git add <file>...\" to include in what will be committed)\r\n",
      "\t\u001b[31mdescription\u001b[m\r\n",
      "\r\n",
      "nothing added to commit but untracked files present (use \"git add\" to track)\r\n"
     ]
    }
   ],
   "source": [
    "!git status"
   ]
  },
  {
   "cell_type": "code",
   "execution_count": 71,
   "metadata": {},
   "outputs": [
    {
     "name": "stdout",
     "output_type": "stream",
     "text": [
      "description  README.md\r\n"
     ]
    }
   ],
   "source": [
    "!ls"
   ]
  },
  {
   "cell_type": "code",
   "execution_count": 74,
   "metadata": {},
   "outputs": [],
   "source": [
    "! touch readme.md"
   ]
  },
  {
   "cell_type": "code",
   "execution_count": 77,
   "metadata": {},
   "outputs": [],
   "source": [
    "!gedit readme.md "
   ]
  },
  {
   "cell_type": "code",
   "execution_count": 72,
   "metadata": {},
   "outputs": [
    {
     "name": "stdout",
     "output_type": "stream",
     "text": [
      "Usage: diff [OPTION]... FILES\r\n",
      "Compare FILES line by line.\r\n",
      "\r\n",
      "Mandatory arguments to long options are mandatory for short options too.\r\n",
      "      --normal                  output a normal diff (the default)\r\n",
      "  -q, --brief                   report only when files differ\r\n",
      "  -s, --report-identical-files  report when two files are the same\r\n",
      "  -c, -C NUM, --context[=NUM]   output NUM (default 3) lines of copied context\r\n",
      "  -u, -U NUM, --unified[=NUM]   output NUM (default 3) lines of unified context\r\n",
      "  -e, --ed                      output an ed script\r\n",
      "  -n, --rcs                     output an RCS format diff\r\n",
      "  -y, --side-by-side            output in two columns\r\n",
      "  -W, --width=NUM               output at most NUM (default 130) print columns\r\n",
      "      --left-column             output only the left column of common lines\r\n",
      "      --suppress-common-lines   do not output common lines\r\n",
      "\r\n",
      "  -p, --show-c-function         show which C function each change is in\r\n",
      "  -F, --show-function-line=RE   show the most recent line matching RE\r\n",
      "      --label LABEL             use LABEL instead of file name and timestamp\r\n",
      "                                  (can be repeated)\r\n",
      "\r\n",
      "  -t, --expand-tabs             expand tabs to spaces in output\r\n",
      "  -T, --initial-tab             make tabs line up by prepending a tab\r\n",
      "      --tabsize=NUM             tab stops every NUM (default 8) print columns\r\n",
      "      --suppress-blank-empty    suppress space or tab before empty output lines\r\n",
      "  -l, --paginate                pass output through 'pr' to paginate it\r\n",
      "\r\n",
      "  -r, --recursive                 recursively compare any subdirectories found\r\n",
      "      --no-dereference            don't follow symbolic links\r\n",
      "  -N, --new-file                  treat absent files as empty\r\n",
      "      --unidirectional-new-file   treat absent first files as empty\r\n",
      "      --ignore-file-name-case     ignore case when comparing file names\r\n",
      "      --no-ignore-file-name-case  consider case when comparing file names\r\n",
      "  -x, --exclude=PAT               exclude files that match PAT\r\n",
      "  -X, --exclude-from=FILE         exclude files that match any pattern in FILE\r\n",
      "  -S, --starting-file=FILE        start with FILE when comparing directories\r\n",
      "      --from-file=FILE1           compare FILE1 to all operands;\r\n",
      "                                    FILE1 can be a directory\r\n",
      "      --to-file=FILE2             compare all operands to FILE2;\r\n",
      "                                    FILE2 can be a directory\r\n",
      "\r\n",
      "  -i, --ignore-case               ignore case differences in file contents\r\n",
      "  -E, --ignore-tab-expansion      ignore changes due to tab expansion\r\n",
      "  -Z, --ignore-trailing-space     ignore white space at line end\r\n",
      "  -b, --ignore-space-change       ignore changes in the amount of white space\r\n",
      "  -w, --ignore-all-space          ignore all white space\r\n",
      "  -B, --ignore-blank-lines        ignore changes where lines are all blank\r\n",
      "  -I, --ignore-matching-lines=RE  ignore changes where all lines match RE\r\n",
      "\r\n",
      "  -a, --text                      treat all files as text\r\n",
      "      --strip-trailing-cr         strip trailing carriage return on input\r\n",
      "\r\n",
      "  -D, --ifdef=NAME                output merged file with '#ifdef NAME' diffs\r\n",
      "      --GTYPE-group-format=GFMT   format GTYPE input groups with GFMT\r\n",
      "      --line-format=LFMT          format all input lines with LFMT\r\n",
      "      --LTYPE-line-format=LFMT    format LTYPE input lines with LFMT\r\n",
      "    These format options provide fine-grained control over the output\r\n",
      "      of diff, generalizing -D/--ifdef.\r\n",
      "    LTYPE is 'old', 'new', or 'unchanged'.  GTYPE is LTYPE or 'changed'.\r\n",
      "    GFMT (only) may contain:\r\n",
      "      %<  lines from FILE1\r\n",
      "      %>  lines from FILE2\r\n",
      "      %=  lines common to FILE1 and FILE2\r\n",
      "      %[-][WIDTH][.[PREC]]{doxX}LETTER  printf-style spec for LETTER\r\n",
      "        LETTERs are as follows for new group, lower case for old group:\r\n",
      "          F  first line number\r\n",
      "          L  last line number\r\n",
      "          N  number of lines = L-F+1\r\n",
      "          E  F-1\r\n",
      "          M  L+1\r\n",
      "      %(A=B?T:E)  if A equals B then T else E\r\n",
      "    LFMT (only) may contain:\r\n",
      "      %L  contents of line\r\n",
      "      %l  contents of line, excluding any trailing newline\r\n",
      "      %[-][WIDTH][.[PREC]]{doxX}n  printf-style spec for input line number\r\n",
      "    Both GFMT and LFMT may contain:\r\n",
      "      %%  %\r\n",
      "      %c'C'  the single character C\r\n",
      "      %c'\\OOO'  the character with octal code OOO\r\n",
      "      C    the character C (other characters represent themselves)\r\n",
      "\r\n",
      "  -d, --minimal            try hard to find a smaller set of changes\r\n",
      "      --horizon-lines=NUM  keep NUM lines of the common prefix and suffix\r\n",
      "      --speed-large-files  assume large files and many scattered small changes\r\n",
      "      --color[=WHEN]       colorize the output; WHEN can be 'never', 'always',\r\n",
      "                             or 'auto' (the default)\r\n",
      "      --palette=PALETTE    the colors to use when --color is active; PALETTE is\r\n",
      "                             a colon-separated list of terminfo capabilities\r\n",
      "\r\n",
      "      --help               display this help and exit\r\n",
      "  -v, --version            output version information and exit\r\n",
      "\r\n",
      "FILES are 'FILE1 FILE2' or 'DIR1 DIR2' or 'DIR FILE' or 'FILE DIR'.\r\n",
      "If --from-file or --to-file is given, there are no restrictions on FILE(s).\r\n",
      "If a FILE is '-', read standard input.\r\n",
      "Exit status is 0 if inputs are the same, 1 if different, 2 if trouble.\r\n",
      "\r\n",
      "Report bugs to: bug-diffutils@gnu.org\r\n",
      "GNU diffutils home page: <https://www.gnu.org/software/diffutils/>\r\n",
      "General help using GNU software: <https://www.gnu.org/gethelp/>\r\n"
     ]
    }
   ],
   "source": [
    "!diff --help"
   ]
  },
  {
   "cell_type": "code",
   "execution_count": 78,
   "metadata": {},
   "outputs": [
    {
     "name": "stdout",
     "output_type": "stream",
     "text": [
      "1a2\r\n",
      "> last name\r\n"
     ]
    }
   ],
   "source": [
    "!diff README.md readme.md"
   ]
  },
  {
   "cell_type": "markdown",
   "metadata": {},
   "source": [
    "A summarized version of this output can be output with the `--stat` flag :\n",
    "\n",
    "```bash\n",
    "$ git diff --stat\n",
    "```"
   ]
  },
  {
   "cell_type": "code",
   "execution_count": 79,
   "metadata": {},
   "outputs": [],
   "source": [
    "!git diff --stat"
   ]
  },
  {
   "cell_type": "markdown",
   "metadata": {},
   "source": [
    "To see only the differences in a certain path, try:\n",
    "\n",
    "```bash\n",
    "$ git diff HEAD -- [path]\n",
    "```"
   ]
  },
  {
   "cell_type": "code",
   "execution_count": 84,
   "metadata": {},
   "outputs": [],
   "source": [
    "!git diff HEAD -- [\"/home/tsiky/Desktop/python\"]"
   ]
  },
  {
   "cell_type": "markdown",
   "metadata": {},
   "source": [
    "To see what IS staged for commit (that is, what will be committed if you\n",
    "type git commit without the -a flag), you can try :\n",
    "```bash\n",
    "$ git diff --cached\n",
    "```"
   ]
  },
  {
   "cell_type": "code",
   "execution_count": 85,
   "metadata": {},
   "outputs": [],
   "source": [
    "!git diff --cached"
   ]
  },
  {
   "cell_type": "markdown",
   "metadata": {
    "id": "181eb736"
   },
   "source": [
    "## git log : Viewing the History\n",
    "\n",
    "A log of the commit messages is kept by the repository and can be\n",
    "reviewed with the log command.\n",
    "\n",
    "```bash\n",
    "    $ git log       \n",
    "   commit 664867c42a05461702388310155b785a287d0308 (HEAD -> master)\n",
    "    Author: Techni Preneurs <ai.technipreneurs@gmail.com>\n",
    "    Date:   Wed Sep 11 20:31:07 2024 +0200\n",
    "\n",
    "        This is the first commit. It adds a readme file.    \n",
    "```\n"
   ]
  },
  {
   "cell_type": "code",
   "execution_count": 86,
   "metadata": {},
   "outputs": [
    {
     "name": "stdout",
     "output_type": "stream",
     "text": [
      "\u001b[33mcommit acbac75b10c1827218ef40772624a2ba0bc6e155\u001b[m\u001b[33m (\u001b[m\u001b[1;36mHEAD -> \u001b[m\u001b[1;32mmaster\u001b[m\u001b[33m)\u001b[m\r\n",
      "Author: tsiky.rakotoherisoa <tsiky.rakotoherisoa@aims.ac.rw>\r\n",
      "Date:   Thu Sep 26 13:34:12 2024 +0200\r\n",
      "\r\n",
      "    Second commit\r\n",
      "\r\n",
      "\u001b[33mcommit a6f554b34f7aeaa94fcd18d093e5e1940215dad1\u001b[m\r\n",
      "Author: tsiky.rakotoherisoa <tsiky.rakotoherisoa@aims.ac.rw>\r\n",
      "Date:   Thu Sep 26 13:24:02 2024 +0200\r\n",
      "\r\n",
      "    This is the first commit. It adds a readme file.\r\n"
     ]
    }
   ],
   "source": [
    "!git log"
   ]
  },
  {
   "cell_type": "markdown",
   "metadata": {},
   "source": [
    "There are some useful flags for this command, such as\n",
    "\n",
    "    -p\n",
    "    -3\n",
    "    --stat\n",
    "    --oneline\n",
    "    --graph\n",
    "    --pretty=short/full/fuller/oneline\n",
    "    --since=X.minutes/hours/days/weeks/months/years or YY-MM-DD-HH:MM\n",
    "    --until=X.minutes/hours/days/weeks/months/years or YY-MM-DD-HH:MM\n",
    "    --author=<pattern>"
   ]
  },
  {
   "cell_type": "markdown",
   "metadata": {
    "id": "8f0edce4"
   },
   "source": [
    "## git reset : Unstaging a staged file\n",
    "\n",
    "There are a number of ways that you may accidentally stage a file that\n",
    "you don't want to commit.  Create a file called `temp_notes` that\n",
    "describes what you had for breakfast, and then add that file to your\n",
    "repo.  Check with `status` to see that it is added but not committed.\n",
    "\n",
    "You can now unstage that file with:\n",
    "\n",
    "```bash\n",
    "$ git reset temp_notes\n",
    "```\n",
    "\n",
    "Check with `status`."
   ]
  },
  {
   "cell_type": "code",
   "execution_count": 87,
   "metadata": {},
   "outputs": [],
   "source": [
    "! touch temp_notes                                                              "
   ]
  },
  {
   "cell_type": "code",
   "execution_count": 89,
   "metadata": {},
   "outputs": [],
   "source": [
    "!git add temp_notes"
   ]
  },
  {
   "cell_type": "code",
   "execution_count": 90,
   "metadata": {},
   "outputs": [
    {
     "name": "stdout",
     "output_type": "stream",
     "text": [
      "On branch master\r\n",
      "Changes to be committed:\r\n",
      "  (use \"git restore --staged <file>...\" to unstage)\r\n",
      "\t\u001b[32mnew file:   temp_notes\u001b[m\r\n",
      "\r\n",
      "Untracked files:\r\n",
      "  (use \"git add <file>...\" to include in what will be committed)\r\n",
      "\t\u001b[31mdescription\u001b[m\r\n",
      "\t\u001b[31mreadme.md\u001b[m\r\n",
      "\r\n"
     ]
    }
   ],
   "source": [
    "!git status"
   ]
  },
  {
   "cell_type": "code",
   "execution_count": 91,
   "metadata": {},
   "outputs": [],
   "source": [
    "!git reset temp_notes"
   ]
  },
  {
   "cell_type": "code",
   "execution_count": 92,
   "metadata": {},
   "outputs": [
    {
     "name": "stdout",
     "output_type": "stream",
     "text": [
      "On branch master\r\n",
      "Untracked files:\r\n",
      "  (use \"git add <file>...\" to include in what will be committed)\r\n",
      "\t\u001b[31mdescription\u001b[m\r\n",
      "\t\u001b[31mreadme.md\u001b[m\r\n",
      "\t\u001b[31mtemp_notes\u001b[m\r\n",
      "\r\n",
      "nothing added to commit but untracked files present (use \"git add\" to track)\r\n"
     ]
    }
   ],
   "source": [
    "!git status"
   ]
  },
  {
   "cell_type": "code",
   "execution_count": 94,
   "metadata": {},
   "outputs": [
    {
     "name": "stdout",
     "output_type": "stream",
     "text": [
      "description  readme.md\tREADME.md  temp_notes\r\n"
     ]
    }
   ],
   "source": [
    "!ls"
   ]
  },
  {
   "cell_type": "markdown",
   "metadata": {
    "id": "f949535f"
   },
   "source": [
    "## git checkout : Discarding unstaged modifications (git checkout has other purposes)\n",
    "\n",
    "Perhaps you have made a number of changes that you realize are not\n",
    "going anywhere.  Add a line to `README.md` that describes your dinner\n",
    "last night.  Check with `status` to see that the file is changed and\n",
    "ready to be added.\n",
    "\n",
    "You can now return to previous checked in version with:\n",
    "```bash\n",
    "$ git checkout -- README.md\n",
    "```\n",
    "Check with `status` and take a look at the file."
   ]
  },
  {
   "cell_type": "code",
   "execution_count": 109,
   "metadata": {},
   "outputs": [],
   "source": [
    "!gedit README.md"
   ]
  },
  {
   "cell_type": "code",
   "execution_count": 110,
   "metadata": {},
   "outputs": [
    {
     "name": "stdout",
     "output_type": "stream",
     "text": [
      "\u001b[1mdiff --git a/README.md b/README.md\u001b[m\r\n",
      "\u001b[1mindex e93b850..e1d7fcd 100644\u001b[m\r\n",
      "\u001b[1m--- a/README.md\u001b[m\r\n",
      "\u001b[1m+++ b/README.md\u001b[m\r\n",
      "\u001b[36m@@ -1 +1,2 @@\u001b[m\r\n",
      " first comment\u001b[m\r\n",
      "\u001b[32m+\u001b[m\u001b[32msecond comment\u001b[m\r\n"
     ]
    }
   ],
   "source": [
    "!git diff README.md"
   ]
  },
  {
   "cell_type": "code",
   "execution_count": 111,
   "metadata": {},
   "outputs": [
    {
     "name": "stdout",
     "output_type": "stream",
     "text": [
      "On branch master\r\n",
      "Changes not staged for commit:\r\n",
      "  (use \"git add <file>...\" to update what will be committed)\r\n",
      "  (use \"git restore <file>...\" to discard changes in working directory)\r\n",
      "\t\u001b[31mmodified:   README.md\u001b[m\r\n",
      "\r\n",
      "Untracked files:\r\n",
      "  (use \"git add <file>...\" to include in what will be committed)\r\n",
      "\t\u001b[31mdescription\u001b[m\r\n",
      "\t\u001b[31mreadme.md\u001b[m\r\n",
      "\t\u001b[31mtemp_notes\u001b[m\r\n",
      "\r\n",
      "no changes added to commit (use \"git add\" and/or \"git commit -a\")\r\n"
     ]
    }
   ],
   "source": [
    "!git status"
   ]
  },
  {
   "cell_type": "code",
   "execution_count": 112,
   "metadata": {},
   "outputs": [],
   "source": [
    "!git checkout -- README.md"
   ]
  },
  {
   "cell_type": "code",
   "execution_count": 113,
   "metadata": {},
   "outputs": [
    {
     "name": "stdout",
     "output_type": "stream",
     "text": [
      "On branch master\r\n",
      "Untracked files:\r\n",
      "  (use \"git add <file>...\" to include in what will be committed)\r\n",
      "\t\u001b[31mdescription\u001b[m\r\n",
      "\t\u001b[31mreadme.md\u001b[m\r\n",
      "\t\u001b[31mtemp_notes\u001b[m\r\n",
      "\r\n",
      "nothing added to commit but untracked files present (use \"git add\" to track)\r\n"
     ]
    }
   ],
   "source": [
    "!git status"
   ]
  },
  {
   "cell_type": "markdown",
   "metadata": {
    "id": "7b00e29e"
   },
   "source": [
    "## git rm : Removing files\n",
    "\n",
    "There are a variety of reasons you way want to remove a file from the\n",
    "repository after it has been committed.  Create a file called `READYOU.md` with the first names of all your immediate family members, and add/commit it to the repository.\n",
    "\n",
    "You can now remove the file from the repository with:\n",
    "\n",
    "```bash\n",
    "$ git rm READYOU.md\n",
    "```\n",
    "List the directory to see that you have no file named `READYOU.md`. Use `status` to determine if you need any additional steps."
   ]
  },
  {
   "cell_type": "code",
   "execution_count": 114,
   "metadata": {},
   "outputs": [],
   "source": [
    "!touch READYOU.md"
   ]
  },
  {
   "cell_type": "code",
   "execution_count": 115,
   "metadata": {},
   "outputs": [],
   "source": [
    "!git add READYOU.md"
   ]
  },
  {
   "cell_type": "code",
   "execution_count": 116,
   "metadata": {},
   "outputs": [
    {
     "name": "stdout",
     "output_type": "stream",
     "text": [
      "[master 90a32b0] last commit\r\n",
      " 1 file changed, 0 insertions(+), 0 deletions(-)\r\n",
      " create mode 100644 READYOU.md\r\n"
     ]
    }
   ],
   "source": [
    "!git commit -am \"last commit\""
   ]
  },
  {
   "cell_type": "code",
   "execution_count": 117,
   "metadata": {},
   "outputs": [
    {
     "name": "stdout",
     "output_type": "stream",
     "text": [
      "rm 'READYOU.md'\r\n"
     ]
    }
   ],
   "source": [
    "!git rm READYOU.md"
   ]
  },
  {
   "cell_type": "code",
   "execution_count": 118,
   "metadata": {},
   "outputs": [
    {
     "name": "stdout",
     "output_type": "stream",
     "text": [
      "On branch master\r\n",
      "Changes to be committed:\r\n",
      "  (use \"git restore --staged <file>...\" to unstage)\r\n",
      "\t\u001b[32mdeleted:    READYOU.md\u001b[m\r\n",
      "\r\n",
      "Untracked files:\r\n",
      "  (use \"git add <file>...\" to include in what will be committed)\r\n",
      "\t\u001b[31mdescription\u001b[m\r\n",
      "\t\u001b[31mreadme.md\u001b[m\r\n",
      "\t\u001b[31mtemp_notes\u001b[m\r\n",
      "\r\n"
     ]
    }
   ],
   "source": [
    "!git status"
   ]
  },
  {
   "cell_type": "markdown",
   "metadata": {},
   "source": [
    "What if you delete a file in the shell without `git rm`? Try deleting `README.md`\n",
    "```bash\n",
    "$ rm README.md\n",
    "```\n",
    "\n",
    "\n"
   ]
  },
  {
   "cell_type": "code",
   "execution_count": 119,
   "metadata": {},
   "outputs": [],
   "source": [
    "!rm README.md"
   ]
  },
  {
   "cell_type": "code",
   "execution_count": 121,
   "metadata": {},
   "outputs": [
    {
     "name": "stdout",
     "output_type": "stream",
     "text": [
      "On branch master\r\n",
      "Changes to be committed:\r\n",
      "  (use \"git restore --staged <file>...\" to unstage)\r\n",
      "\t\u001b[32mdeleted:    READYOU.md\u001b[m\r\n",
      "\r\n",
      "Changes not staged for commit:\r\n",
      "  (use \"git add/rm <file>...\" to update what will be committed)\r\n",
      "  (use \"git restore <file>...\" to discard changes in working directory)\r\n",
      "\t\u001b[31mdeleted:    README.md\u001b[m\r\n",
      "\r\n",
      "Untracked files:\r\n",
      "  (use \"git add <file>...\" to include in what will be committed)\r\n",
      "\t\u001b[31mdescription\u001b[m\r\n",
      "\t\u001b[31mreadme.md\u001b[m\r\n",
      "\t\u001b[31mtemp_notes\u001b[m\r\n",
      "\r\n"
     ]
    }
   ],
   "source": [
    "!git status"
   ]
  },
  {
   "cell_type": "markdown",
   "metadata": {},
   "source": [
    "What does `git status` say?  Oops! How can you recover this important\n",
    "file?\n",
    "```bash\n",
    "$ git checkout -- README.md\n",
    "```"
   ]
  },
  {
   "cell_type": "code",
   "execution_count": 122,
   "metadata": {},
   "outputs": [],
   "source": [
    "!git checkout -- README.md"
   ]
  },
  {
   "cell_type": "code",
   "execution_count": 123,
   "metadata": {},
   "outputs": [
    {
     "name": "stdout",
     "output_type": "stream",
     "text": [
      "On branch master\r\n",
      "Changes to be committed:\r\n",
      "  (use \"git restore --staged <file>...\" to unstage)\r\n",
      "\t\u001b[32mdeleted:    READYOU.md\u001b[m\r\n",
      "\r\n",
      "Untracked files:\r\n",
      "  (use \"git add <file>...\" to include in what will be committed)\r\n",
      "\t\u001b[31mdescription\u001b[m\r\n",
      "\t\u001b[31mreadme.md\u001b[m\r\n",
      "\t\u001b[31mtemp_notes\u001b[m\r\n",
      "\r\n"
     ]
    }
   ],
   "source": [
    "!git status"
   ]
  },
  {
   "cell_type": "code",
   "execution_count": 124,
   "metadata": {},
   "outputs": [
    {
     "name": "stdout",
     "output_type": "stream",
     "text": [
      "description  readme.md\tREADME.md  temp_notes\r\n"
     ]
    }
   ],
   "source": [
    "!ls"
   ]
  },
  {
   "cell_type": "markdown",
   "metadata": {
    "id": "1d3ecc05"
   },
   "source": [
    "## git revert : the promised \"undo\" button\n",
    "\n",
    "It is possible that after many commits, you decide that you really want to **rollback** a set of commits and start over.  It is easy to revert your code to a previous version.\n",
    "\n",
    "You can use `git log` and `git diff` to explore your history and determine which version you are interested in.  Choose a version and note the *hash* for that version. (Let's assume `abc456`)\n",
    "\n",
    "```bash\n",
    "$ git revert abc456\n",
    "```\n",
    "\n",
    "**Importantly,** this will not erase the intervening commits.  This will create a new commit that is changed from the previous commit by a change that will recreate the desired version.  This retains a complete provenance of your software, and be compared to the prohibition in removing pages from a lab notebook."
   ]
  },
  {
   "cell_type": "code",
   "execution_count": 125,
   "metadata": {},
   "outputs": [
    {
     "name": "stdout",
     "output_type": "stream",
     "text": [
      "GIT-REVERT(1)                     Git Manual                     GIT-REVERT(1)\r\n",
      "\r\n",
      "N\bNA\bAM\bME\bE\r\n",
      "       git-revert - Revert some existing commits\r\n",
      "\r\n",
      "S\bSY\bYN\bNO\bOP\bPS\bSI\bIS\bS\r\n",
      "       _\bg_\bi_\bt _\br_\be_\bv_\be_\br_\bt [--[no-]edit] [-n] [-m parent-number] [-s] [-S[<keyid>]] <commit>...\r\n",
      "       _\bg_\bi_\bt _\br_\be_\bv_\be_\br_\bt (--continue | --skip | --abort | --quit)\r\n",
      "\r\n",
      "D\bDE\bES\bSC\bCR\bRI\bIP\bPT\bTI\bIO\bON\bN\r\n",
      "       Given one or more existing commits, revert the changes that the related\r\n",
      "       patches introduce, and record some new commits that record them. This\r\n",
      "       requires your working tree to be clean (no modifications from the HEAD\r\n",
      "       commit).\r\n",
      "\r\n",
      "       Note: _\bg_\bi_\bt _\br_\be_\bv_\be_\br_\bt is used to record some new commits to reverse the\r\n",
      "       effect of some earlier commits (often only a faulty one). If you want\r\n",
      "       to throw away all uncommitted changes in your working directory, you\r\n",
      "       should see g\bgi\bit\bt-\b-r\bre\bes\bse\bet\bt(1), particularly the -\b--\b-h\bha\bar\brd\bd option. If you want to\r\n",
      "       extract specific files as they were in another commit, you should see\r\n",
      "       g\bgi\bit\bt-\b-r\bre\bes\bst\bto\bor\bre\be(1), specifically the -\b--\b-s\bso\bou\bur\brc\bce\be option. Take care with these\r\n",
      "       alternatives as both will discard uncommitted changes in your working\r\n",
      "       directory.\r\n",
      "\r\n",
      "       See \"Reset, restore and revert\" in g\bgi\bit\bt(1) for the differences between\r\n",
      "       the three commands.\r\n",
      "\r\n",
      "O\bOP\bPT\bTI\bIO\bON\bNS\bS\r\n",
      "       <commit>...\r\n",
      "           Commits to revert. For a more complete list of ways to spell commit\r\n",
      "           names, see g\bgi\bit\btr\bre\bev\bvi\bis\bsi\bio\bon\bns\bs(7). Sets of commits can also be given but\r\n",
      "           no traversal is done by default, see g\bgi\bit\bt-\b-r\bre\bev\bv-\b-l\bli\bis\bst\bt(1) and its\r\n",
      "           -\b--\b-n\bno\bo-\b-w\bwa\bal\blk\bk option.\r\n",
      "\r\n",
      "       -e, --edit\r\n",
      "           With this option, _\bg_\bi_\bt _\br_\be_\bv_\be_\br_\bt will let you edit the commit message\r\n",
      "           prior to committing the revert. This is the default if you run the\r\n",
      "           command from a terminal.\r\n",
      "\r\n",
      "       -m parent-number, --mainline parent-number\r\n",
      "           Usually you cannot revert a merge because you do not know which\r\n",
      "           side of the merge should be considered the mainline. This option\r\n",
      "           specifies the parent number (starting from 1) of the mainline and\r\n",
      "           allows revert to reverse the change relative to the specified\r\n",
      "           parent.\r\n",
      "\r\n",
      "           Reverting a merge commit declares that you will never want the tree\r\n",
      "           changes brought in by the merge. As a result, later merges will\r\n",
      "           only bring in tree changes introduced by commits that are not\r\n",
      "           ancestors of the previously reverted merge. This may or may not be\r\n",
      "           what you want.\r\n",
      "\r\n",
      "           See the r\bre\bev\bve\ber\brt\bt-\b-a\ba-\b-f\bfa\bau\bul\blt\bty\by-\b-m\bme\ber\brg\bge\be H\bHo\bow\bw-\b-T\bTo\bo[1] for more details.\r\n",
      "\r\n",
      "       --no-edit\r\n",
      "           With this option, _\bg_\bi_\bt _\br_\be_\bv_\be_\br_\bt will not start the commit message\r\n",
      "           editor.\r\n",
      "\r\n",
      "       --cleanup=<mode>\r\n",
      "           This option determines how the commit message will be cleaned up\r\n",
      "           before being passed on to the commit machinery. See g\bgi\bit\bt-\b-c\bco\bom\bmm\bmi\bit\bt(1)\r\n",
      "           for more details. In particular, if the _\b<_\bm_\bo_\bd_\be_\b> is given a value of\r\n",
      "           s\bsc\bci\bis\bss\bso\bor\brs\bs, scissors will be appended to M\bME\bER\bRG\bGE\bE_\b_M\bMS\bSG\bG before being\r\n",
      "           passed on in the case of a conflict.\r\n",
      "\r\n",
      "       -n, --no-commit\r\n",
      "           Usually the command automatically creates some commits with commit\r\n",
      "           log messages stating which commits were reverted. This flag applies\r\n",
      "           the changes necessary to revert the named commits to your working\r\n",
      "           tree and the index, but does not make the commits. In addition,\r\n",
      "           when this option is used, your index does not have to match the\r\n",
      "           HEAD commit. The revert is done against the beginning state of your\r\n",
      "           index.\r\n",
      "\r\n",
      "           This is useful when reverting more than one commits' effect to your\r\n",
      "           index in a row.\r\n",
      "\r\n",
      "       -S[<keyid>], --gpg-sign[=<keyid>], --no-gpg-sign\r\n",
      "           GPG-sign commits. The k\bke\bey\byi\bid\bd argument is optional and defaults to\r\n",
      "           the committer identity; if specified, it must be stuck to the\r\n",
      "           option without a space.  -\b--\b-n\bno\bo-\b-g\bgp\bpg\bg-\b-s\bsi\big\bgn\bn is useful to countermand\r\n",
      "           both c\bco\bom\bmm\bmi\bit\bt.\b.g\bgp\bpg\bgS\bSi\big\bgn\bn configuration variable, and earlier -\b--\b-g\bgp\bpg\bg-\b-s\bsi\big\bgn\bn.\r\n",
      "\r\n",
      "       -s, --signoff\r\n",
      "           Add a S\bSi\big\bgn\bne\bed\bd-\b-o\bof\bff\bf-\b-b\bby\by trailer at the end of the commit message. See\r\n",
      "           the signoff option in g\bgi\bit\bt-\b-c\bco\bom\bmm\bmi\bit\bt(1) for more information.\r\n",
      "\r\n",
      "       --strategy=<strategy>\r\n",
      "           Use the given merge strategy. Should only be used once. See the\r\n",
      "           MERGE STRATEGIES section in g\bgi\bit\bt-\b-m\bme\ber\brg\bge\be(1) for details.\r\n",
      "\r\n",
      "       -X<option>, --strategy-option=<option>\r\n",
      "           Pass the merge strategy-specific option through to the merge\r\n",
      "           strategy. See g\bgi\bit\bt-\b-m\bme\ber\brg\bge\be(1) for details.\r\n",
      "\r\n",
      "       --rerere-autoupdate, --no-rerere-autoupdate\r\n",
      "           Allow the rerere mechanism to update the index with the result of\r\n",
      "           auto-conflict resolution if possible.\r\n",
      "\r\n",
      "S\bSE\bEQ\bQU\bUE\bEN\bNC\bCE\bER\bR S\bSU\bUB\bBC\bCO\bOM\bMM\bMA\bAN\bND\bDS\bS\r\n",
      "       --continue\r\n",
      "           Continue the operation in progress using the information in\r\n",
      "           .\b.g\bgi\bit\bt/\b/s\bse\beq\bqu\bue\ben\bnc\bce\ber\br. Can be used to continue after resolving conflicts\r\n",
      "           in a failed cherry-pick or revert.\r\n",
      "\r\n",
      "       --skip\r\n",
      "           Skip the current commit and continue with the rest of the sequence.\r\n",
      "\r\n",
      "       --quit\r\n",
      "           Forget about the current operation in progress. Can be used to\r\n",
      "           clear the sequencer state after a failed cherry-pick or revert.\r\n",
      "\r\n",
      "       --abort\r\n",
      "           Cancel the operation and return to the pre-sequence state.\r\n",
      "\r\n",
      "E\bEX\bXA\bAM\bMP\bPL\bLE\bES\bS\r\n",
      "       g\bgi\bit\bt r\bre\bev\bve\ber\brt\bt H\bHE\bEA\bAD\bD~\b~3\b3\r\n",
      "           Revert the changes specified by the fourth last commit in HEAD and\r\n",
      "           create a new commit with the reverted changes.\r\n",
      "\r\n",
      "       g\bgi\bit\bt r\bre\bev\bve\ber\brt\bt -\b-n\bn m\bma\bas\bst\bte\ber\br~\b~5\b5.\b..\b.m\bma\bas\bst\bte\ber\br~\b~2\b2\r\n",
      "           Revert the changes done by commits from the fifth last commit in\r\n",
      "           master (included) to the third last commit in master (included),\r\n",
      "           but do not create any commit with the reverted changes. The revert\r\n",
      "           only modifies the working tree and the index.\r\n",
      "\r\n",
      "S\bSE\bEE\bE A\bAL\bLS\bSO\bO\r\n",
      "       g\bgi\bit\bt-\b-c\bch\bhe\ber\brr\bry\by-\b-p\bpi\bic\bck\bk(1)\r\n",
      "\r\n",
      "G\bGI\bIT\bT\r\n",
      "       Part of the g\bgi\bit\bt(1) suite\r\n",
      "\r\n",
      "N\bNO\bOT\bTE\bES\bS\r\n",
      "        1. revert-a-faulty-merge How-To\r\n",
      "           file:///usr/share/doc/git/html/howto/revert-a-faulty-merge.html\r\n",
      "\r\n",
      "Git 2.30.2                        02/22/2023                     GIT-REVERT(1)\r\n"
     ]
    }
   ],
   "source": [
    "!git revert --help"
   ]
  },
  {
   "cell_type": "code",
   "execution_count": null,
   "metadata": {},
   "outputs": [],
   "source": [
    " "
   ]
  },
  {
   "cell_type": "markdown",
   "metadata": {},
   "source": [
    "## Visualize Git Log Tree\n",
    "For this section, you can read the necessary information [here](https://tech.serhatteker.com/post/2021-02/git-log-tree/). The idea is just to make your commits a bit fancy. To really see the beauty of it, try to play with your files and do quite a number of commits.\n",
    "\n",
    "```bash\n",
    "$ git log\n",
    "```\n",
    "\n",
    "or \n",
    "\n",
    "```bash\n",
    "$ git log --pretty=oneline\n",
    "```\n",
    "\n",
    "or\n",
    "\n",
    "```bash\n",
    "$ git log --graph --pretty='%Cred%h%Creset -%C(auto)%d%Creset %s %Cgreen(%cr) %C(bold blue)<%an>%Creset' --all\n",
    "```"
   ]
  },
  {
   "cell_type": "code",
   "execution_count": 127,
   "metadata": {},
   "outputs": [
    {
     "name": "stdout",
     "output_type": "stream",
     "text": [
      "\u001b[33mcommit 90a32b07967edf8f5dd251b7af872e05d12bcf73\u001b[m\u001b[33m (\u001b[m\u001b[1;36mHEAD -> \u001b[m\u001b[1;32mmaster\u001b[m\u001b[33m)\u001b[m\r\n",
      "Author: tsiky.rakotoherisoa <tsiky.rakotoherisoa@aims.ac.rw>\r\n",
      "Date:   Thu Sep 26 15:26:59 2024 +0200\r\n",
      "\r\n",
      "    last commit\r\n",
      "\r\n",
      "\u001b[33mcommit acbac75b10c1827218ef40772624a2ba0bc6e155\u001b[m\r\n",
      "Author: tsiky.rakotoherisoa <tsiky.rakotoherisoa@aims.ac.rw>\r\n",
      "Date:   Thu Sep 26 13:34:12 2024 +0200\r\n",
      "\r\n",
      "    Second commit\r\n",
      "\r\n",
      "\u001b[33mcommit a6f554b34f7aeaa94fcd18d093e5e1940215dad1\u001b[m\r\n",
      "Author: tsiky.rakotoherisoa <tsiky.rakotoherisoa@aims.ac.rw>\r\n",
      "Date:   Thu Sep 26 13:24:02 2024 +0200\r\n",
      "\r\n",
      "    This is the first commit. It adds a readme file.\r\n"
     ]
    }
   ],
   "source": [
    "! git log"
   ]
  },
  {
   "cell_type": "code",
   "execution_count": 128,
   "metadata": {},
   "outputs": [
    {
     "name": "stdout",
     "output_type": "stream",
     "text": [
      "\u001b[33m90a32b07967edf8f5dd251b7af872e05d12bcf73\u001b[m\u001b[33m (\u001b[m\u001b[1;36mHEAD -> \u001b[m\u001b[1;32mmaster\u001b[m\u001b[33m)\u001b[m last commit\r\n",
      "\u001b[33macbac75b10c1827218ef40772624a2ba0bc6e155\u001b[m Second commit\r\n",
      "\u001b[33ma6f554b34f7aeaa94fcd18d093e5e1940215dad1\u001b[m This is the first commit. It adds a readme file.\r\n"
     ]
    }
   ],
   "source": [
    "!git log --pretty=oneline"
   ]
  },
  {
   "cell_type": "code",
   "execution_count": 129,
   "metadata": {},
   "outputs": [
    {
     "name": "stdout",
     "output_type": "stream",
     "text": [
      "* \u001b[31m90a32b0\u001b[m -\u001b[m\u001b[33m (\u001b[m\u001b[1;36mHEAD -> \u001b[m\u001b[1;32mmaster\u001b[m\u001b[33m)\u001b[m\u001b[m last commit \u001b[32m(31 minutes ago) \u001b[1;34m<tsiky.rakotoherisoa>\u001b[m\r\n",
      "* \u001b[31macbac75\u001b[m -\u001b[m\u001b[m Second commit \u001b[32m(2 hours ago) \u001b[1;34m<tsiky.rakotoherisoa>\u001b[m\r\n",
      "* \u001b[31ma6f554b\u001b[m -\u001b[m\u001b[m This is the first commit. It adds a readme file. \u001b[32m(3 hours ago) \u001b[1;34m<tsiky.rakotoherisoa>\u001b[m\r\n"
     ]
    }
   ],
   "source": [
    "!git log --graph --pretty='%Cred%h%Creset -%C(auto)%d%Creset %s %Cgreen(%cr) %C(bold blue)<%an>%Creset' --all"
   ]
  },
  {
   "cell_type": "markdown",
   "metadata": {
    "id": "a60621d6"
   },
   "source": [
    "* * * *\n",
    "### Exercise :\n",
    "\n",
    "1. Create 5 files in your directory with one line of content in each\n",
    "   file.\n",
    "2. Commit the files to the repository.\n",
    "3. Change 2 of the 5 files and commit them.\n",
    "4. Undo the changes in step 3.\n",
    "5. Print out the last entry in the log.\n",
    "    \n",
    "* * * *"
   ]
  },
  {
   "cell_type": "code",
   "execution_count": 139,
   "metadata": {},
   "outputs": [],
   "source": [
    "!echo \"file 1\" > file1 \n",
    "!echo \"file 2\" > file2 \n",
    "!echo \"file 3\" > file3 \n",
    "!echo \"file 4\" > file4 \n",
    "!echo \"file 5\" > file5 "
   ]
  },
  {
   "cell_type": "code",
   "execution_count": 132,
   "metadata": {},
   "outputs": [
    {
     "name": "stdout",
     "output_type": "stream",
     "text": [
      "description  file2  file4  readme.md  temp_notes\r\n",
      "file1\t     file3  file5  README.md\r\n"
     ]
    }
   ],
   "source": [
    "!ls"
   ]
  },
  {
   "cell_type": "code",
   "execution_count": 140,
   "metadata": {},
   "outputs": [],
   "source": [
    "!git add file1 file2 file3 file4 file5"
   ]
  },
  {
   "cell_type": "code",
   "execution_count": 141,
   "metadata": {},
   "outputs": [
    {
     "name": "stdout",
     "output_type": "stream",
     "text": [
      "On branch master\r\n",
      "Untracked files:\r\n",
      "  (use \"git add <file>...\" to include in what will be committed)\r\n",
      "\t\u001b[31mdescription\u001b[m\r\n",
      "\t\u001b[31mreadme.md\u001b[m\r\n",
      "\t\u001b[31mtemp_notes\u001b[m\r\n",
      "\r\n",
      "nothing added to commit but untracked files present (use \"git add\" to track)\r\n"
     ]
    }
   ],
   "source": [
    "!git status"
   ]
  },
  {
   "cell_type": "code",
   "execution_count": 134,
   "metadata": {},
   "outputs": [
    {
     "name": "stdout",
     "output_type": "stream",
     "text": [
      "[master 5e7b135] I created these files for practice.\r\n",
      " 6 files changed, 5 insertions(+)\r\n",
      " delete mode 100644 READYOU.md\r\n",
      " create mode 100644 file1\r\n",
      " create mode 100644 file2\r\n",
      " create mode 100644 file3\r\n",
      " create mode 100644 file4\r\n",
      " create mode 100644 file5\r\n"
     ]
    }
   ],
   "source": [
    "!git commit -am \"I created these files for practice.\""
   ]
  },
  {
   "cell_type": "code",
   "execution_count": 142,
   "metadata": {},
   "outputs": [
    {
     "name": "stdout",
     "output_type": "stream",
     "text": [
      "\u001b[33mcommit 5e7b135a798f723a6272317e74faf18e90141c8c\u001b[m\u001b[33m (\u001b[m\u001b[1;36mHEAD -> \u001b[m\u001b[1;32mmaster\u001b[m\u001b[33m)\u001b[m\r\n",
      "Author: tsiky.rakotoherisoa <tsiky.rakotoherisoa@aims.ac.rw>\r\n",
      "Date:   Thu Sep 26 16:04:54 2024 +0200\r\n",
      "\r\n",
      "    I created these files for practice.\r\n",
      "\r\n",
      "\u001b[33mcommit 90a32b07967edf8f5dd251b7af872e05d12bcf73\u001b[m\r\n",
      "Author: tsiky.rakotoherisoa <tsiky.rakotoherisoa@aims.ac.rw>\r\n",
      "Date:   Thu Sep 26 15:26:59 2024 +0200\r\n",
      "\r\n",
      "    last commit\r\n",
      "\r\n",
      "\u001b[33mcommit acbac75b10c1827218ef40772624a2ba0bc6e155\u001b[m\r\n",
      "Author: tsiky.rakotoherisoa <tsiky.rakotoherisoa@aims.ac.rw>\r\n",
      "Date:   Thu Sep 26 13:34:12 2024 +0200\r\n",
      "\r\n",
      "    Second commit\r\n",
      "\r\n",
      "\u001b[33mcommit a6f554b34f7aeaa94fcd18d093e5e1940215dad1\u001b[m\r\n",
      "Author: tsiky.rakotoherisoa <tsiky.rakotoherisoa@aims.ac.rw>\r\n",
      "Date:   Thu Sep 26 13:24:02 2024 +0200\r\n",
      "\r\n",
      "    This is the first commit. It adds a readme file.\r\n"
     ]
    }
   ],
   "source": [
    "!git log"
   ]
  },
  {
   "cell_type": "code",
   "execution_count": 143,
   "metadata": {},
   "outputs": [],
   "source": [
    "!gedit file1"
   ]
  },
  {
   "cell_type": "code",
   "execution_count": 144,
   "metadata": {},
   "outputs": [],
   "source": [
    "!gedit file2"
   ]
  },
  {
   "cell_type": "code",
   "execution_count": 145,
   "metadata": {},
   "outputs": [],
   "source": [
    "!git add file1 file2 file3 file4 file5"
   ]
  },
  {
   "cell_type": "code",
   "execution_count": 146,
   "metadata": {},
   "outputs": [
    {
     "name": "stdout",
     "output_type": "stream",
     "text": [
      "[master 05ea8cb] After modifying the two files, this is a new commit\r\n",
      " 2 files changed, 2 insertions(+)\r\n"
     ]
    }
   ],
   "source": [
    "!git commit -am \"After modifying the two files, this is a new commit\""
   ]
  },
  {
   "cell_type": "code",
   "execution_count": 147,
   "metadata": {},
   "outputs": [
    {
     "name": "stdout",
     "output_type": "stream",
     "text": [
      "\u001b[33mcommit 05ea8cbcb15576fbcad98d5e9297bbd634385229\u001b[m\u001b[33m (\u001b[m\u001b[1;36mHEAD -> \u001b[m\u001b[1;32mmaster\u001b[m\u001b[33m)\u001b[m\r\n",
      "Author: tsiky.rakotoherisoa <tsiky.rakotoherisoa@aims.ac.rw>\r\n",
      "Date:   Thu Sep 26 17:00:18 2024 +0200\r\n",
      "\r\n",
      "    After modifying the two files, this is a new commit\r\n",
      "\r\n",
      "\u001b[33mcommit 5e7b135a798f723a6272317e74faf18e90141c8c\u001b[m\r\n",
      "Author: tsiky.rakotoherisoa <tsiky.rakotoherisoa@aims.ac.rw>\r\n",
      "Date:   Thu Sep 26 16:04:54 2024 +0200\r\n",
      "\r\n",
      "    I created these files for practice.\r\n",
      "\r\n",
      "\u001b[33mcommit 90a32b07967edf8f5dd251b7af872e05d12bcf73\u001b[m\r\n",
      "Author: tsiky.rakotoherisoa <tsiky.rakotoherisoa@aims.ac.rw>\r\n",
      "Date:   Thu Sep 26 15:26:59 2024 +0200\r\n",
      "\r\n",
      "    last commit\r\n",
      "\r\n",
      "\u001b[33mcommit acbac75b10c1827218ef40772624a2ba0bc6e155\u001b[m\r\n",
      "Author: tsiky.rakotoherisoa <tsiky.rakotoherisoa@aims.ac.rw>\r\n",
      "Date:   Thu Sep 26 13:34:12 2024 +0200\r\n",
      "\r\n",
      "    Second commit\r\n",
      "\r\n",
      "\u001b[33mcommit a6f554b34f7aeaa94fcd18d093e5e1940215dad1\u001b[m\r\n",
      "Author: tsiky.rakotoherisoa <tsiky.rakotoherisoa@aims.ac.rw>\r\n",
      "Date:   Thu Sep 26 13:24:02 2024 +0200\r\n",
      "\r\n",
      "    This is the first commit. It adds a readme file.\r\n"
     ]
    }
   ],
   "source": [
    "!git log"
   ]
  },
  {
   "cell_type": "code",
   "execution_count": 148,
   "metadata": {},
   "outputs": [
    {
     "name": "stdout",
     "output_type": "stream",
     "text": [
      "\u001b[2B#\u001b[16\u001b[m\u001b[m\u001b[22;16H\u001b[7m[ line 1/18 (5%), col 1/61 (1%), char 0/410 (0%) ]\u001b[m\u001b[22;16H             \u001b[7m[ Justified paragraph ]\u001b[m\u001b[K\u001b[1;66H\u001b[7m*\u001b[12C\u001b[mm[ Read 17 lines ]\u001b[m\u001b[H\u001b[7m  GNU nano 5.4       /home/tsiky/simplestats/.git/COMMIT_EDITMSG                \u001b[1;79H\u001b[m"
     ]
    }
   ],
   "source": [
    "!git revert 05ea8cbcb15576fbcad98d5e9297bbd634385229"
   ]
  },
  {
   "cell_type": "markdown",
   "metadata": {
    "id": "15b9e659"
   },
   "source": [
    "## Resources\n",
    "\n",
    "1. [git book](http://git-scm.com/book) - Free and Open"
   ]
  }
 ],
 "metadata": {
  "colab": {
   "provenance": []
  },
  "kernelspec": {
   "display_name": "Python 3",
   "language": "python",
   "name": "python3"
  },
  "language_info": {
   "codemirror_mode": {
    "name": "ipython",
    "version": 3
   },
   "file_extension": ".py",
   "mimetype": "text/x-python",
   "name": "python",
   "nbconvert_exporter": "python",
   "pygments_lexer": "ipython3",
   "version": "3.9.2"
  }
 },
 "nbformat": 4,
 "nbformat_minor": 1
}
