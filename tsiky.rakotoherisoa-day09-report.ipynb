{
 "cells": [
  {
   "cell_type": "markdown",
   "id": "ed0dd10b",
   "metadata": {},
   "source": [
    "## PyPro: challenge 1"
   ]
  },
  {
   "cell_type": "markdown",
   "id": "aaa69102",
   "metadata": {},
   "source": [
    "Basic Tasks"
   ]
  },
  {
   "cell_type": "markdown",
   "id": "5bef3267",
   "metadata": {},
   "source": [
    "1. Create a function find_max() that accepts two numeric inputs and returns the greater value. Avoid using the built-in max() function."
   ]
  },
  {
   "cell_type": "code",
   "execution_count": 30,
   "id": "9fffcfa1",
   "metadata": {},
   "outputs": [],
   "source": [
    "def find_max(a,b):\n",
    "    \"\"\"This function allow the user to find the maximum between \n",
    "    two numbers. The output is the max.\"\"\"\n",
    "    out = a > b\n",
    "    if (out == True):\n",
    "        return a\n",
    "    else:\n",
    "        return b\n",
    "    "
   ]
  },
  {
   "cell_type": "code",
   "execution_count": 31,
   "id": "b27a4987",
   "metadata": {},
   "outputs": [
    {
     "data": {
      "text/plain": [
       "98"
      ]
     },
     "execution_count": 31,
     "metadata": {},
     "output_type": "execute_result"
    }
   ],
   "source": [
    "find_max(8,98)"
   ]
  },
  {
   "cell_type": "markdown",
   "id": "f79c1ec9",
   "metadata": {},
   "source": [
    "2. Develop a function find_max_of_three() to find the maximum among three given numbers."
   ]
  },
  {
   "cell_type": "code",
   "execution_count": 32,
   "id": "6cf0f344",
   "metadata": {},
   "outputs": [],
   "source": [
    "def find_max_of_three(a,b,c):\n",
    "    \"\"\"This function allow to user to find the maximum \n",
    "    between three numbers. The output is the max. \n",
    "    We use the function defined below to find the max between two numbers.\"\"\"\n",
    "    m = find_max(a,b)\n",
    "    return find_max(m,c)\n",
    "        "
   ]
  },
  {
   "cell_type": "code",
   "execution_count": 33,
   "id": "a0e586ee",
   "metadata": {},
   "outputs": [
    {
     "data": {
      "text/plain": [
       "100000"
      ]
     },
     "execution_count": 33,
     "metadata": {},
     "output_type": "execute_result"
    }
   ],
   "source": [
    "find_max_of_three(89,56,100000)"
   ]
  },
  {
   "cell_type": "markdown",
   "id": "9d27ffe1",
   "metadata": {},
   "source": [
    "3. Write a function to manually calculate the length of a given list or string without using len()."
   ]
  },
  {
   "cell_type": "code",
   "execution_count": 34,
   "id": "33e17c9e",
   "metadata": {},
   "outputs": [],
   "source": [
    "def OwnLen():\n",
    "    \"\"\"This is a function that return the length of a given string without using len()\"\"\"\n",
    "    \n",
    "    ch = input(\"Give a string: \")\n",
    "    list_ch = list(ch)\n",
    "    iterator = 0\n",
    "    for i in list_ch:\n",
    "        iterator += 1\n",
    "    return iterator"
   ]
  },
  {
   "cell_type": "code",
   "execution_count": 35,
   "id": "77d88330",
   "metadata": {},
   "outputs": [
    {
     "name": "stdout",
     "output_type": "stream",
     "text": [
      "Give a string: tsiky tafita\n"
     ]
    },
    {
     "data": {
      "text/plain": [
       "12"
      ]
     },
     "execution_count": 35,
     "metadata": {},
     "output_type": "execute_result"
    }
   ],
   "source": [
    "OwnLen()"
   ]
  },
  {
   "cell_type": "markdown",
   "id": "75726e7a",
   "metadata": {},
   "source": [
    "4. Implement a function that checks if a given character is a vowel(a, e, i, o, u)"
   ]
  },
  {
   "cell_type": "code",
   "execution_count": 2,
   "id": "155ff304",
   "metadata": {},
   "outputs": [],
   "source": [
    "def is_vowel(c):\n",
    "    \"\"\"This function return if the given character is \n",
    "    a vowel or not\"\"\"\n",
    "    \n",
    "    vowel = [\"a\", \"o\", \"i\", \"e\", \"u\", \"A\", \"O\", \"I\", \"E\", \"U\", \"Y\", \"y\"]\n",
    "    #character = input(\"Give a character that you want to test: \")\n",
    "    if (c in vowel):\n",
    "        return True\n",
    "    else:\n",
    "        return False"
   ]
  },
  {
   "cell_type": "code",
   "execution_count": 3,
   "id": "078b923e",
   "metadata": {},
   "outputs": [
    {
     "data": {
      "text/plain": [
       "False"
      ]
     },
     "execution_count": 3,
     "metadata": {},
     "output_type": "execute_result"
    }
   ],
   "source": [
    "is_vowel(\"h\")"
   ]
  },
  {
   "cell_type": "markdown",
   "id": "02ec6cd1",
   "metadata": {},
   "source": [
    "5. Write a function encode() that converts a string into “rövarspråket” (robber’s language) by doubling consonants and placing “o” in between, e.g., “hello” -> “hohelollolo”."
   ]
  },
  {
   "cell_type": "code",
   "execution_count": 62,
   "id": "de6c2f07",
   "metadata": {},
   "outputs": [
    {
     "data": {
      "text/plain": [
       "'tsikoky'"
      ]
     },
     "execution_count": 62,
     "metadata": {},
     "output_type": "execute_result"
    }
   ],
   "source": [
    "s = \"tsiky\"\n",
    "s.replace(\"k\", \"kok\")"
   ]
  },
  {
   "cell_type": "code",
   "execution_count": 8,
   "id": "aa2e5aa3",
   "metadata": {},
   "outputs": [],
   "source": [
    "def encode(string):\n",
    "    \"\"\"The function  return the \n",
    "    string in the argument into robber's language\"\"\"\n",
    "    \n",
    "    new_string = \"\"\n",
    "    for i in string:\n",
    "        if (not is_vowel(i)):\n",
    "            new_string += i+\"o\"+i\n",
    "        else:\n",
    "            new_string += i\n",
    "    return new_string\n",
    "            "
   ]
  },
  {
   "cell_type": "code",
   "execution_count": 9,
   "id": "238649d2",
   "metadata": {},
   "outputs": [
    {
     "data": {
      "text/plain": [
       "'hohelollolo'"
      ]
     },
     "execution_count": 9,
     "metadata": {},
     "output_type": "execute_result"
    }
   ],
   "source": [
    "encode(\"hello\")"
   ]
  },
  {
   "cell_type": "markdown",
   "id": "eec125b0",
   "metadata": {},
   "source": [
    "6. Create sum_elements() and product_elements() functions to sum and multiply all elements in a list, respectively."
   ]
  },
  {
   "cell_type": "code",
   "execution_count": 1,
   "id": "40dd71db",
   "metadata": {},
   "outputs": [],
   "source": [
    "def sum_elements(lists):\n",
    "    sum_list = 0\n",
    "    for i in lists:\n",
    "        sum_list += i\n",
    "    return sum_list\n",
    "        "
   ]
  },
  {
   "cell_type": "code",
   "execution_count": 2,
   "id": "e9082b41",
   "metadata": {},
   "outputs": [
    {
     "data": {
      "text/plain": [
       "10"
      ]
     },
     "execution_count": 2,
     "metadata": {},
     "output_type": "execute_result"
    }
   ],
   "source": [
    "lists = [1,2,3,4]\n",
    "sum_elements(lists)"
   ]
  },
  {
   "cell_type": "code",
   "execution_count": 3,
   "id": "d5a92d89",
   "metadata": {},
   "outputs": [],
   "source": [
    "def product_elements(lists):\n",
    "    prod_list = 1\n",
    "    for i in lists:\n",
    "        prod_list *= i\n",
    "    return prod_list"
   ]
  },
  {
   "cell_type": "code",
   "execution_count": 5,
   "id": "02bf552b",
   "metadata": {},
   "outputs": [
    {
     "data": {
      "text/plain": [
       "24"
      ]
     },
     "execution_count": 5,
     "metadata": {},
     "output_type": "execute_result"
    }
   ],
   "source": [
    "product_elements(lists)"
   ]
  },
  {
   "cell_type": "markdown",
   "id": "d9a2a2d5",
   "metadata": {},
   "source": [
    "7. Define a function reverse_string() to reverse the characters in a given string."
   ]
  },
  {
   "cell_type": "code",
   "execution_count": 6,
   "id": "d0d61bf9",
   "metadata": {},
   "outputs": [],
   "source": [
    "def reverse_string(string):\n",
    "    new = string[::-1]\n",
    "    return new"
   ]
  },
  {
   "cell_type": "code",
   "execution_count": 7,
   "id": "6f7c0110",
   "metadata": {},
   "outputs": [
    {
     "data": {
      "text/plain": [
       "'iot olleh'"
      ]
     },
     "execution_count": 7,
     "metadata": {},
     "output_type": "execute_result"
    }
   ],
   "source": [
    "reverse_string(\"hello toi\")"
   ]
  },
  {
   "cell_type": "markdown",
   "id": "53d5701f",
   "metadata": {},
   "source": [
    "8. Implement check_palindrome() to verify if a string reads the same forwards and backwards, i.e. is a palindrome."
   ]
  },
  {
   "cell_type": "code",
   "execution_count": 9,
   "id": "ccae5d6a",
   "metadata": {},
   "outputs": [],
   "source": [
    "def check_palindrome(string):\n",
    "    r = reverse_string(string)\n",
    "    if (r == string):\n",
    "        return True\n",
    "    else:\n",
    "        return False"
   ]
  },
  {
   "cell_type": "code",
   "execution_count": 10,
   "id": "d7ac3315",
   "metadata": {},
   "outputs": [
    {
     "data": {
      "text/plain": [
       "True"
      ]
     },
     "execution_count": 10,
     "metadata": {},
     "output_type": "execute_result"
    }
   ],
   "source": [
    "check_palindrome(\"civic\")"
   ]
  },
  {
   "cell_type": "markdown",
   "id": "131644f9",
   "metadata": {},
   "source": [
    "9. Develop a function check_membership() to determine if a value exists within a list."
   ]
  },
  {
   "cell_type": "code",
   "execution_count": 12,
   "id": "03b844b0",
   "metadata": {},
   "outputs": [
    {
     "data": {
      "text/plain": [
       "False"
      ]
     },
     "execution_count": 12,
     "metadata": {},
     "output_type": "execute_result"
    }
   ],
   "source": [
    "lis = [1,2,3,4]\n",
    "5 in lis"
   ]
  },
  {
   "cell_type": "code",
   "execution_count": 13,
   "id": "d5630104",
   "metadata": {},
   "outputs": [],
   "source": [
    "def check_membership(val,lis):\n",
    "    if val in lis:\n",
    "        return True\n",
    "    else:\n",
    "        return False"
   ]
  },
  {
   "cell_type": "code",
   "execution_count": 15,
   "id": "406753cc",
   "metadata": {},
   "outputs": [
    {
     "data": {
      "text/plain": [
       "False"
      ]
     },
     "execution_count": 15,
     "metadata": {},
     "output_type": "execute_result"
    }
   ],
   "source": [
    "check_membership(5,[1,2,3,4,8])"
   ]
  },
  {
   "cell_type": "markdown",
   "id": "d421c34c",
   "metadata": {},
   "source": [
    "10. Write check_overlap() to identify if two lists share any elements."
   ]
  },
  {
   "cell_type": "code",
   "execution_count": 13,
   "id": "748b334c",
   "metadata": {},
   "outputs": [],
   "source": [
    "def check_overlap(l1,l2):\n",
    "    element = []\n",
    "    for i in l1:\n",
    "        for j in l2:\n",
    "            if (i == j):\n",
    "                element.append(i)\n",
    "            else:\n",
    "                pass\n",
    "    print(f\"The element that they share is {element}\")"
   ]
  },
  {
   "cell_type": "code",
   "execution_count": 14,
   "id": "c836ea62",
   "metadata": {},
   "outputs": [
    {
     "name": "stdout",
     "output_type": "stream",
     "text": [
      "The element that they share is [3, 4, 5]\n"
     ]
    }
   ],
   "source": [
    "li1 = [1,2,3,4,5]\n",
    "li2 = [3,4,5]\n",
    "check_overlap(li1,li2)"
   ]
  },
  {
   "cell_type": "markdown",
   "id": "bc1c7e9f",
   "metadata": {},
   "source": [
    "11. Implement repeat_char() that generates a string with a specified character repeated n times."
   ]
  },
  {
   "cell_type": "code",
   "execution_count": 20,
   "id": "57efdc86",
   "metadata": {},
   "outputs": [
    {
     "data": {
      "text/plain": [
       "'i'"
      ]
     },
     "execution_count": 20,
     "metadata": {},
     "output_type": "execute_result"
    }
   ],
   "source": [
    "s = \"tsiky\"\n",
    "k = s.index(\"i\")\n",
    "s[k]"
   ]
  },
  {
   "cell_type": "code",
   "execution_count": 24,
   "id": "9c28e413",
   "metadata": {},
   "outputs": [],
   "source": [
    "def repeat_char(string,char,n):\n",
    "    ind = string.index(char)\n",
    "    new_string = string + string[ind]*n\n",
    "    return new_string"
   ]
  },
  {
   "cell_type": "code",
   "execution_count": 25,
   "id": "344b869f",
   "metadata": {},
   "outputs": [
    {
     "data": {
      "text/plain": [
       "'tsikyyyyyy'"
      ]
     },
     "execution_count": 25,
     "metadata": {},
     "output_type": "execute_result"
    }
   ],
   "source": [
    "repeat_char(\"tsiky\",\"y\",5)"
   ]
  },
  {
   "cell_type": "markdown",
   "id": "37ce3b0c",
   "metadata": {},
   "source": [
    "12. Create a function print_histogram() that takes a list of integers and prints a corresponding histogram."
   ]
  },
  {
   "cell_type": "code",
   "execution_count": 52,
   "id": "b8cd5721",
   "metadata": {},
   "outputs": [],
   "source": [
    "a = [1,2,22,22,0,3,3,3,5,5,5,5,5,5,5,5]\n"
   ]
  },
  {
   "cell_type": "code",
   "execution_count": 48,
   "id": "0e0e0e56",
   "metadata": {},
   "outputs": [],
   "source": [
    "def print_histogram(l):\n",
    "    for i in l:\n",
    "        n = l.count(i)\n",
    "        print(\"=\"*n)"
   ]
  },
  {
   "cell_type": "code",
   "execution_count": 49,
   "id": "dce75174",
   "metadata": {},
   "outputs": [
    {
     "name": "stdout",
     "output_type": "stream",
     "text": [
      "==\n",
      "==\n",
      "========\n",
      "========\n",
      "========\n",
      "========\n",
      "========\n",
      "========\n",
      "========\n",
      "========\n",
      "===\n",
      "===\n",
      "===\n",
      "=\n",
      "=\n",
      "=\n"
     ]
    }
   ],
   "source": [
    "print_histogram(a)"
   ]
  },
  {
   "cell_type": "markdown",
   "id": "ac8eaa7c",
   "metadata": {},
   "source": [
    "13. Write find_max_in_list() to identify the largest number in a list of arbitrary length."
   ]
  },
  {
   "cell_type": "code",
   "execution_count": 53,
   "id": "8d449727",
   "metadata": {},
   "outputs": [],
   "source": [
    "def find_max_in_list(l):\n",
    "    max_in = l[0]\n",
    "    for i in l:\n",
    "        if i > max_in :\n",
    "            max_in = i\n",
    "    return max_in"
   ]
  },
  {
   "cell_type": "code",
   "execution_count": 55,
   "id": "645f5f99",
   "metadata": {},
   "outputs": [
    {
     "data": {
      "text/plain": [
       "152"
      ]
     },
     "execution_count": 55,
     "metadata": {},
     "output_type": "execute_result"
    }
   ],
   "source": [
    "a = [1,2,22,22,152,3,3,3,5,5,5,5,5,5,5,5]\n",
    "find_max_in_list(a)"
   ]
  },
  {
   "cell_type": "markdown",
   "id": "14b1842f",
   "metadata": {},
   "source": [
    "14. Create a program that maps each word in a list to its length."
   ]
  },
  {
   "cell_type": "code",
   "execution_count": 81,
   "id": "27f022a0",
   "metadata": {},
   "outputs": [
    {
     "data": {
      "text/plain": [
       "152"
      ]
     },
     "execution_count": 81,
     "metadata": {},
     "output_type": "execute_result"
    }
   ],
   "source": [
    "max(a)"
   ]
  },
  {
   "cell_type": "markdown",
   "id": "4a584746",
   "metadata": {},
   "source": [
    "15. Implement longest_word() to find the longest word in a list."
   ]
  },
  {
   "cell_type": "code",
   "execution_count": 94,
   "id": "a255304a",
   "metadata": {},
   "outputs": [
    {
     "name": "stdout",
     "output_type": "stream",
     "text": [
      "13\n",
      "5\n",
      "6\n"
     ]
    }
   ],
   "source": [
    "l = [\"rakotoherisoa\",\"tsiky\", \"tafita\"]\n",
    "for i in l:\n",
    "    print(len(i))\n",
    "    "
   ]
  },
  {
   "cell_type": "code",
   "execution_count": 95,
   "id": "87ff4b18",
   "metadata": {},
   "outputs": [],
   "source": [
    "def longest_word(l):\n",
    "    count = []\n",
    "    for i in l:\n",
    "        count.append(len(i))\n",
    "        longest = max(count)\n",
    "    return longest"
   ]
  },
  {
   "cell_type": "code",
   "execution_count": 96,
   "id": "77bee319",
   "metadata": {},
   "outputs": [
    {
     "data": {
      "text/plain": [
       "13"
      ]
     },
     "execution_count": 96,
     "metadata": {},
     "output_type": "execute_result"
    }
   ],
   "source": [
    "longest_word(l)"
   ]
  },
  {
   "cell_type": "markdown",
   "id": "c34222e5",
   "metadata": {},
   "source": [
    "16. Develop filter_words() to return words longer than a specified length from a list."
   ]
  },
  {
   "cell_type": "code",
   "execution_count": 99,
   "id": "c730b371",
   "metadata": {},
   "outputs": [],
   "source": [
    "def filter_words(length,l):\n",
    "    for i in l:\n",
    "        if len(i) > length:\n",
    "            print(f\"{i} is longer than a specified length.\")\n",
    "            "
   ]
  },
  {
   "cell_type": "code",
   "execution_count": 100,
   "id": "537d5d02",
   "metadata": {},
   "outputs": [
    {
     "name": "stdout",
     "output_type": "stream",
     "text": [
      "rakotoherisoa is longer than a specified length.\n"
     ]
    }
   ],
   "source": [
    "filter_words(7, l)"
   ]
  },
  {
   "cell_type": "markdown",
   "id": "ffee847c",
   "metadata": {},
   "source": [
    "17. Enhance the palindrome recognizer to handle phrases, ignoring spaces, punctuation, and case."
   ]
  },
  {
   "cell_type": "code",
   "execution_count": null,
   "id": "5a436ce1",
   "metadata": {},
   "outputs": [],
   "source": []
  },
  {
   "cell_type": "markdown",
   "id": "e04776e6",
   "metadata": {},
   "source": [
    "18. Implement a function that checks if a given sentence is a pangram."
   ]
  },
  {
   "cell_type": "code",
   "execution_count": 124,
   "id": "37c8cd2e",
   "metadata": {},
   "outputs": [],
   "source": [
    "alph = [\"a\",\"b\",\"c\",\"d\",\"e\",\"f\",\"g\",\"h\",\"i\",\"j\",\"k\",\"l\",\"m\",\"n\",\"o\",\"p\",\"q\",\"r\",\"s\",\"t\",\"u\",\"v\",\"w\",\"x\",\"y\",\"z\"]\n",
    "string = \"The five boxing wizards jump quickly.\"\n",
    "def is_pangram(string):\n",
    "    for i in string:\n",
    "        for j in alph:\n",
    "            if j in i:\n",
    "                return True\n",
    "            else:\n",
    "                return False"
   ]
  },
  {
   "cell_type": "code",
   "execution_count": 125,
   "id": "b77a97fb",
   "metadata": {},
   "outputs": [
    {
     "data": {
      "text/plain": [
       "False"
      ]
     },
     "execution_count": 125,
     "metadata": {},
     "output_type": "execute_result"
    }
   ],
   "source": [
    "is_pangram(\"the five boxing wizards jump quickly.\")"
   ]
  },
  {
   "cell_type": "markdown",
   "id": "6cd69f03",
   "metadata": {},
   "source": [
    "Some exercises on module"
   ]
  },
  {
   "cell_type": "code",
   "execution_count": 105,
   "id": "08b437d6",
   "metadata": {},
   "outputs": [],
   "source": [
    "from math import sin \n",
    "\n",
    "from math import cos, sin, tan, pi  \n"
   ]
  },
  {
   "cell_type": "code",
   "execution_count": 106,
   "id": "ecaf422d",
   "metadata": {},
   "outputs": [
    {
     "name": "stdout",
     "output_type": "stream",
     "text": [
      "16 4.0 8886110.520507872 2.772588722239781\n"
     ]
    }
   ],
   "source": [
    "from math import *\n",
    "v = 16  \n",
    "x = sqrt(v)  \n",
    "y = exp(v)   \n",
    "z = log(v)   \n",
    "print(v, x, y, z)"
   ]
  },
  {
   "cell_type": "code",
   "execution_count": 107,
   "id": "d69fbe17",
   "metadata": {},
   "outputs": [
    {
     "name": "stdout",
     "output_type": "stream",
     "text": [
      "0.4272655782264313\n"
     ]
    }
   ],
   "source": [
    "import random\n",
    "\n",
    "x = random.random()\n",
    "print(x)\n"
   ]
  },
  {
   "cell_type": "code",
   "execution_count": null,
   "id": "bf4b252e",
   "metadata": {},
   "outputs": [],
   "source": []
  }
 ],
 "metadata": {
  "kernelspec": {
   "display_name": "Python 3",
   "language": "python",
   "name": "python3"
  },
  "language_info": {
   "codemirror_mode": {
    "name": "ipython",
    "version": 3
   },
   "file_extension": ".py",
   "mimetype": "text/x-python",
   "name": "python",
   "nbconvert_exporter": "python",
   "pygments_lexer": "ipython3",
   "version": "3.9.2"
  }
 },
 "nbformat": 4,
 "nbformat_minor": 5
}
