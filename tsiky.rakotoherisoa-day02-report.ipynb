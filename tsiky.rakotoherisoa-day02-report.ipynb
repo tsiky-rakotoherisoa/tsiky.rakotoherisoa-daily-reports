{
 "cells": [
  {
   "cell_type": "markdown",
   "metadata": {
    "colab_type": "text",
    "id": "view-in-github"
   },
   "source": [
    "<a href=\"https://colab.research.google.com/github/ai-technipreneurs/python_course_colab_notebooks/blob/main/02_Lecture02.ipynb\" target=\"_parent\"><img src=\"https://colab.research.google.com/assets/colab-badge.svg\" alt=\"Open In Colab\"/></a>"
   ]
  },
  {
   "cell_type": "markdown",
   "metadata": {
    "id": "zG2Z5XJzbzQi"
   },
   "source": [
    "<center>\n",
    "    <a href=\"https://aims-senegal.org/\" ><img src=\"images/logoaimssn.jpeg\" style=\"float:left; max-width: 650px; display: inline\" alt=\"AIMS-SN\"/> </a>\n",
    "    </center>\n",
    "\n",
    "\n",
    "\n",
    "<center>\n",
    "    \n",
    "<a href=\"https://acas-yde.org/\" ><img src=\"images/logo-ACAS.jpg\" style=\"float:right; max-width: 250px; display: inline\" alt=\"ACAS\"/></a>\n",
    "    \n",
    "</center>\n",
    "\n"
   ]
  },
  {
   "cell_type": "markdown",
   "metadata": {
    "id": "LSyl9i29bzQk"
   },
   "source": [
    "****\n",
    "\n",
    "# <center> <b> <span style=\"color:orange;\"> Python Proficiency for Scientific Computing and Data Science (PyPro-SCiDaS)  </span> </b></center>\n",
    "\n",
    "### <center> <b> <span style=\"color:green;\">An Initiation to Programming using Python (Init2Py) </span> </b></center>\n",
    "    \n"
   ]
  },
  {
   "cell_type": "markdown",
   "metadata": {
    "id": "_4TM9s29bzQk"
   },
   "source": [
    "****\n",
    "\n",
    "# <center> <b> <span style=\"color:blue;\">Lecture 2: Strings & Files</span> </b></center>\n",
    "\n",
    "<!--NAVIGATION-->\n",
    "<  [1.Variables and assignements](01.Lecture01.ipynb)| [ToC](Index.ipynb) |  [3.Iterables or containers](03.Lecture03.ipynb)>\n",
    "\n",
    "****"
   ]
  },
  {
   "cell_type": "markdown",
   "metadata": {
    "id": "8hqSU8WNbzQl"
   },
   "source": [
    "### <left> <b> <span style=\"color:brown;\">Instructeur : </span> </b></left>[Yaé Ulrich Gaba](https://github.com/gabayae)\n",
    "\n",
    "> **Summary:** This lecture aims to present `strings`, reviewing some of the most commonly encountered operations, particularly in text processing tasks. We will also examine the string class in greater detail, including how to use the `open()` function to open, read, and write to `files`.\n",
    "\n",
    "****"
   ]
  },
  {
   "cell_type": "markdown",
   "metadata": {
    "id": "3BA1ai2NbzQl"
   },
   "source": [
    "## 0. Introduction\n",
    "\n",
    "\n",
    "\n",
    "Strings in Python are not merely standalone objects; rather, they are sequences of characters that represent text data. Similar to numerical data types, which consist of sequences of digits, strings consist of sequences of characters. These sequences are fundamental in Python programming, as they are often used to construct and manipulate more complex data structures like lists, tuples, and dictionaries.\n",
    "\n",
    "Python treats strings as immutable sequences, meaning that once a string is created, its contents cannot be changed. However, various operations can be performed on strings to generate new strings or extract specific information. These operations include concatenation, slicing, formatting, and various methods for searching and transforming the text. Understanding how to effectively manipulate strings is crucial, as strings are one of the most commonly used data types in Python, especially in tasks involving data processing, file handling, and user input.\n",
    "\n",
    "Moreover, strings serve as the foundation for more advanced objects and data structures. For instance, strings can be used to represent elements within lists or tuples, and they play a critical role in tasks ranging from basic text processing to complex data analysis. As we delve deeper into Python, we will explore the extensive functionality provided by string operations and how they integrate with other Python data types.\n",
    "\n",
    "In addition to handling strings, Python provides robust support for working with files, which is essential for tasks like reading input data, storing output, or simply managing data over the course of a program's execution. Python uses the `open()` function to handle files, allowing you to open, read, write, and close them efficiently.\n",
    "\n",
    "The `open()` function is versatile, enabling you to open a file in various modes, such as reading ('r'), writing ('w'), appending ('a'), or even reading and writing in binary mode ('rb', 'wb'). Once a file is opened, you can perform operations like reading the entire file content into a string, reading it line by line, or writing data back into the file. After completing these operations, it is important to close the file using the `close()` method to free up system resources and ensure data integrity.\n",
    "\n",
    "Understanding how to work with files in Python is critical, especially when dealing with real-world data that often needs to be read from or written to external files. This capability, combined with string manipulation techniques, forms the backbone of many Python programs, enabling efficient data processing, storage, and retrieval.\n"
   ]
  },
  {
   "cell_type": "markdown",
   "metadata": {
    "id": "WzZtLpUabzQl"
   },
   "source": [
    "## 1. Strings\n",
    "\n",
    "### 1.0. Definition of a string variable\n",
    "\n",
    "A string variable is defined in the traditional manner by direct assignment using the equality symbol (as discussed in the section on variable creation). The only distinction between string variables and numerical variables is that the values of string variables must be enclosed in quotation marks during assignment. The three examples below illustrate this."
   ]
  },
  {
   "cell_type": "code",
   "execution_count": 2,
   "metadata": {
    "id": "Dc61g12cbzQl"
   },
   "outputs": [
    {
     "name": "stdout",
     "output_type": "stream",
     "text": [
      "Will you be at the meeting tonight?\n",
      "================================================\n",
      "\t\n",
      "\"Yes,\" he replies.\n",
      "================================================\n",
      "\t\n",
      "Alright, I would appreciate it.\n",
      "================================================\n",
      "\t\n",
      "This sentence is a long string containing all types of quotes: \" ' « » as well as many special characters.\n"
     ]
    }
   ],
   "source": [
    "ch1 = 'Will you be at the meeting tonight?'\n",
    "ch2 = '\"Yes,\" he replies.'\n",
    "ch3 = \"Alright, I would appreciate it.\"\n",
    "ch4 = \"\"\"This sentence is a long string containing all types of quotes: \" ' « » as well as many special characters.\"\"\"\n",
    "\n",
    "print(ch1)\n",
    "print(\"================================================\")\n",
    "print('\\t')\n",
    "\n",
    "print(ch2)\n",
    "print(\"================================================\")\n",
    "print('\\t')\n",
    "\n",
    "print(ch3)\n",
    "print(\"================================================\")\n",
    "print('\\t')\n",
    "\n",
    "print(ch4)\n"
   ]
  },
  {
   "cell_type": "markdown",
   "metadata": {
    "id": "9gwwT7WrbzQm"
   },
   "source": [
    "These four examples demonstrate different uses of quotation marks when defining a string variable.\n",
    "\n",
    "- In the first example (`ch1`), single quotes are used because there is no issue with the string specified. Double quotes could also be used.\n",
    "- In the second example (`ch2`), single quotes are used because the specified string already contains double quotes as values.\n",
    "- In the third example (`ch3`), double quotes are used because the text contains apostrophes, which are actually single quotes.\n",
    "- In the fourth example (`ch4`), triple quotes are used because the text contains not only single quotes, apostrophes, and double quotes but also spans multiple lines. In this case, triple quotes are necessary."
   ]
  },
  {
   "cell_type": "markdown",
   "metadata": {
    "id": "beqpEgS1bzQn"
   },
   "source": [
    "### 1.1. Indexing strings and slicing\n",
    "\n",
    "A string is a sequence of ordered and indexed values. This means you can access each element in the sequence by specifying its index, similar to lists. Portions of a string can also be extracted using slices, with the general notation `[start=0]:[stop=len][:step=1]`. Indexing in Python starts at 0: the 1st element of a list is at index 0, the 2nd is at index 1, and so on. Thus, the n elements of a list are indexed from *0* to *n-1*. The examples below illustrate this.\n",
    "\n",
    "\n",
    "**Indexing:**\n",
    "\n",
    "To access a specific character in a string, you use the index inside square brackets. For example:\n",
    "- `ch[0]` returns the first character of the string `ch`.\n",
    "- `ch[2]` returns the third character.\n",
    "- `ch[-1]` returns the last character of the string.\n",
    "\n",
    "**Slicing:**\n",
    "\n",
    "Slicing allows you to extract a portion of the string. The syntax for slicing is `[start:stop:step]`, where:\n",
    "- `start` is the index of the first character you want to include in the slice.\n",
    "- `stop` is the index of the character just after the last character you want to include.\n",
    "- `step` specifies the interval between characters in the slice (optional; default is 1).\n",
    "\n",
    "Examples of slicing:\n",
    "- `ch[:6]` returns a substring from the beginning of `ch` up to, but not including, index 6.\n",
    "- `ch[6:]` returns a substring from index 6 to the end of the string.\n",
    "- `ch[0:10:2]` returns every second character from index 0 to 10.\n",
    "\n",
    "**Examples:**\n",
    "\n",
    "```python\n",
    "ch = \"Christelle\"\n",
    "print(ch[0])    # Returns 'C'\n",
    "print(ch[2])    # Returns 'r'\n",
    "print(ch[-1])   # Returns 'e', the last character\n",
    "print(ch[:6])   # Returns 'Christ'\n",
    "print(ch[6:])   # Returns 'elle'\n",
    "print(ch[0:10:2]) # Returns 'Crsel'\n",
    "```\n",
    "\n",
    "These operations make it easy to manipulate and extract data from strings, which is crucial for text processing and data manipulation in Python.\n",
    "\n",
    "---"
   ]
  },
  {
   "cell_type": "code",
   "execution_count": 3,
   "metadata": {
    "id": "qep1OySobzQn"
   },
   "outputs": [
    {
     "name": "stdout",
     "output_type": "stream",
     "text": [
      "C\n",
      "r\n",
      "e\n",
      "Christ\n",
      "elle\n",
      "Crsel\n"
     ]
    }
   ],
   "source": [
    "ch=\"Christelle\"\n",
    "print(ch[0]) # returns 'C'\n",
    "print(ch[2]) # returns 'r'\n",
    "print(ch[-1]) # returns 'e', the last element of ch\n",
    "print(ch[:6]) # returns 'Christ'\n",
    "print(ch[6 :]) # returns 'elle'\n",
    "print(ch[0:10:2]) # returns 'Crsel'"
   ]
  },
  {
   "cell_type": "code",
   "execution_count": 4,
   "metadata": {},
   "outputs": [
    {
     "data": {
      "text/plain": [
       "' first na'"
      ]
     },
     "execution_count": 4,
     "metadata": {},
     "output_type": "execute_result"
    }
   ],
   "source": [
    "message = \"My first name is Tsiky Tafita\"\n",
    "message[2:11:1]"
   ]
  },
  {
   "cell_type": "markdown",
   "metadata": {
    "id": "BfF-C4p0bzQn"
   },
   "source": [
    "The elements of a string are not defined by words separated by spaces but by the characters that make up the string. In fact, even if the string consists of a sentence with multiple words, indexing is done solely based on the individual characters that form the entire string."
   ]
  },
  {
   "cell_type": "markdown",
   "metadata": {
    "id": "MGHiw49xbzQn"
   },
   "source": [
    "<left> <b> <span style=\"color:brown;\">You can manipulate a string (and generally any sequence) using functions (procedural concept) or methods (object-oriented concept). We will discuss this further below.</span> </b></left>"
   ]
  },
  {
   "cell_type": "markdown",
   "metadata": {
    "id": "0vLW_zbSbzQn"
   },
   "source": [
    "### 1.2.  Length of a string**\n",
    "\n",
    "To determine the length of a string, the `len()` function is used."
   ]
  },
  {
   "cell_type": "code",
   "execution_count": 5,
   "metadata": {
    "id": "5BIEuoc6bzQn"
   },
   "outputs": [
    {
     "name": "stdout",
     "output_type": "stream",
     "text": [
      "37\n",
      "29\n"
     ]
    }
   ],
   "source": [
    "ch = \"Ceci est une chaîne de plusieurs mots\"\n",
    "print(len(ch))  # returns 37; The string 'ch' consists of 37 characters, including spaces.\n",
    "print(len(message))"
   ]
  },
  {
   "cell_type": "markdown",
   "metadata": {
    "id": "9GnDYMTVbzQo"
   },
   "source": [
    "### 1.3. Addition of strings (**Concatenation**)\n",
    "\n",
    "String addition refers to the process of placing strings together, one after the other, to form a single string. This operation is known as **concatenation**. To perform concatenation, the `+` symbol is used between the string variable names. The resulting string is then assigned to a new variable. Examples:\n",
    "\n",
    "```python\n",
    "str1 = \"Hello\"\n",
    "str2 = \"World\"\n",
    "result = str1 + \" \" + str2  # Concatenates 'Hello' and 'World' with a space in between\n",
    "print(result)  # Outputs: Hello World\n",
    "```"
   ]
  },
  {
   "cell_type": "code",
   "execution_count": 6,
   "metadata": {
    "id": "Pm13mJEibzQo"
   },
   "outputs": [
    {
     "name": "stdout",
     "output_type": "stream",
     "text": [
      "Un petit pas pour l'homme, un grand pas pour l'humanité\n"
     ]
    }
   ],
   "source": [
    "x = \"Un petit pas pour l'homme,\"\n",
    "y = \"un grand pas pour l'humanité\"\n",
    "z = x + \" \" + y  # Concatenates the two strings with a space in between\n",
    "print(z)  # Outputs: 'Un petit pas pour l'homme, un grand pas pour l'humanité'\n"
   ]
  },
  {
   "cell_type": "code",
   "execution_count": 7,
   "metadata": {},
   "outputs": [
    {
     "data": {
      "text/plain": [
       "\"Un petit pas pour l'homme, un grand pas pour l'humanité. My first name is Tsiky Tafita\""
      ]
     },
     "execution_count": 7,
     "metadata": {},
     "output_type": "execute_result"
    }
   ],
   "source": [
    "new_sentence = z + \". \" + message\n",
    "new_sentence"
   ]
  },
  {
   "cell_type": "markdown",
   "metadata": {
    "id": "cMLw3KdgbzQo"
   },
   "source": [
    "Be cautious when using the concatenation operator to combine a numeric value with a string to form a single string. For example:\n",
    "\n",
    "```python\n",
    "x = 'Le prix du stylo est'\n",
    "y = 5\n",
    "z = 'euros'\n",
    "```\n",
    "\n",
    "If you want to concatenate `x`, `y`, and `z` to obtain the sentence 'Le prix du stylo est 5 euros', you can't directly do `x + y + z` because `y` is a numeric type. You need to first convert `y` to a string using the `str()` function. Here's how it should be done:\n",
    "\n",
    "```python\n",
    "result = x + \" \" + str(y) + \" \" + z\n",
    "print(result)  # Outputs: 'Le prix du stylo est 5 euros'\n",
    "```"
   ]
  },
  {
   "cell_type": "code",
   "execution_count": 8,
   "metadata": {
    "id": "h1UMUWznbzQo"
   },
   "outputs": [
    {
     "name": "stdout",
     "output_type": "stream",
     "text": [
      "Le prix du stylo est 5 euros\n"
     ]
    }
   ],
   "source": [
    "x = 'Le prix du stylo est'\n",
    "y = 5\n",
    "z = 'euros'\n",
    "ch = x + \" \"+ str(y) + \" \" + z\n",
    "print(ch) # returns 'Le prix du stylo est5euros'"
   ]
  },
  {
   "cell_type": "markdown",
   "metadata": {
    "id": "ZbqQo0ASbzQo"
   },
   "source": [
    "### 1.4.  Methods\n",
    "\n",
    "Strings come with [numerous features](https://docs.python.org/2/library/stdtypes.html#string-methods)—referred to as `methods` in Object-Oriented Programming (OOP)—that facilitate their manipulation. The `dir()` function lists all available methods for strings. Among these, the most commonly used are `upper()`, `lower()`, `capitalize()`, `find()`, `replace()`, `count()`, `startswith()`, `endswith()`, and the `in` keyword.\n",
    "\n",
    "These methods allow for operations such as converting text to different cases, searching for and replacing substrings, and checking string content for specific patterns. They are crucial for text processing and data manipulation tasks, enabling efficient handling and transformation of string data. Understanding and utilizing these methods effectively can greatly enhance the capability to work with and analyze text-based information in Python."
   ]
  },
  {
   "cell_type": "code",
   "execution_count": 9,
   "metadata": {
    "id": "26e7nvbqbzQo"
   },
   "outputs": [
    {
     "name": "stdout",
     "output_type": "stream",
     "text": [
      "Help on built-in function replace:\n",
      "\n",
      "replace(old, new, count=-1, /) method of builtins.str instance\n",
      "    Return a copy with all occurrences of substring old replaced by new.\n",
      "    \n",
      "      count\n",
      "        Maximum number of occurrences to replace.\n",
      "        -1 (the default value) means replace all occurrences.\n",
      "    \n",
      "    If the optional argument count is given, only the first count occurrences are\n",
      "    replaced.\n",
      "\n"
     ]
    }
   ],
   "source": [
    "title = \"Python course\"\n",
    "help(title.replace)"
   ]
  },
  {
   "cell_type": "code",
   "execution_count": 10,
   "metadata": {},
   "outputs": [
    {
     "data": {
      "text/plain": [
       "'new'"
      ]
     },
     "execution_count": 10,
     "metadata": {},
     "output_type": "execute_result"
    }
   ],
   "source": [
    "sms = \"true\" \n",
    "\n",
    "sms.replace(\"true\", \"new\")"
   ]
  },
  {
   "cell_type": "code",
   "execution_count": 11,
   "metadata": {},
   "outputs": [
    {
     "data": {
      "text/plain": [
       "False"
      ]
     },
     "execution_count": 11,
     "metadata": {},
     "output_type": "execute_result"
    }
   ],
   "source": [
    "# when we apply a method to a string, this method doesn't change the value in the variable \n",
    "sms.isdigit()"
   ]
  },
  {
   "cell_type": "code",
   "execution_count": 12,
   "metadata": {},
   "outputs": [
    {
     "data": {
      "text/plain": [
       "' '"
      ]
     },
     "execution_count": 12,
     "metadata": {},
     "output_type": "execute_result"
    }
   ],
   "source": [
    "sms1 = \" \"\n",
    "sms1.capitalize()"
   ]
  },
  {
   "cell_type": "code",
   "execution_count": 13,
   "metadata": {},
   "outputs": [
    {
     "data": {
      "text/plain": [
       "'True'"
      ]
     },
     "execution_count": 13,
     "metadata": {},
     "output_type": "execute_result"
    }
   ],
   "source": [
    "sms.capitalize()"
   ]
  },
  {
   "cell_type": "code",
   "execution_count": 14,
   "metadata": {},
   "outputs": [
    {
     "name": "stdout",
     "output_type": "stream",
     "text": [
      "Help on built-in function count:\n",
      "\n",
      "count(...) method of builtins.str instance\n",
      "    S.count(sub[, start[, end]]) -> int\n",
      "    \n",
      "    Return the number of non-overlapping occurrences of substring sub in\n",
      "    string S[start:end].  Optional arguments start and end are\n",
      "    interpreted as in slice notation.\n",
      "\n"
     ]
    }
   ],
   "source": [
    "help(sms.count)"
   ]
  },
  {
   "cell_type": "code",
   "execution_count": 15,
   "metadata": {},
   "outputs": [
    {
     "data": {
      "text/plain": [
       "1"
      ]
     },
     "execution_count": 15,
     "metadata": {},
     "output_type": "execute_result"
    }
   ],
   "source": [
    "sms.count('u')"
   ]
  },
  {
   "cell_type": "code",
   "execution_count": 16,
   "metadata": {},
   "outputs": [
    {
     "data": {
      "text/plain": [
       "'tmy workrmy workumy worke'"
      ]
     },
     "execution_count": 16,
     "metadata": {},
     "output_type": "execute_result"
    }
   ],
   "source": [
    "duty = \"my work\"\n",
    "duty.join(sms)"
   ]
  },
  {
   "cell_type": "code",
   "execution_count": 17,
   "metadata": {},
   "outputs": [
    {
     "name": "stdout",
     "output_type": "stream",
     "text": [
      "Help on built-in function split:\n",
      "\n",
      "split(sep=None, maxsplit=-1) method of builtins.str instance\n",
      "    Return a list of the substrings in the string, using sep as the separator string.\n",
      "    \n",
      "      sep\n",
      "        The separator used to split the string.\n",
      "    \n",
      "        When set to None (the default value), will split on any whitespace\n",
      "        character (including \\\\n \\\\r \\\\t \\\\f and spaces) and will discard\n",
      "        empty strings from the result.\n",
      "      maxsplit\n",
      "        Maximum number of splits (starting from the left).\n",
      "        -1 (the default value) means no limit.\n",
      "    \n",
      "    Note, str.split() is mainly useful for data that has been intentionally\n",
      "    delimited.  With natural text that includes punctuation, consider using\n",
      "    the regular expression module.\n",
      "\n"
     ]
    }
   ],
   "source": [
    "help(duty.split)"
   ]
  },
  {
   "cell_type": "code",
   "execution_count": 18,
   "metadata": {},
   "outputs": [
    {
     "data": {
      "text/plain": [
       "['my', 'work']"
      ]
     },
     "execution_count": 18,
     "metadata": {},
     "output_type": "execute_result"
    }
   ],
   "source": [
    "duty.split()"
   ]
  },
  {
   "cell_type": "code",
   "execution_count": 19,
   "metadata": {},
   "outputs": [
    {
     "name": "stdout",
     "output_type": "stream",
     "text": [
      "Help on built-in function casefold:\n",
      "\n",
      "casefold() method of builtins.str instance\n",
      "    Return a version of the string suitable for caseless comparisons.\n",
      "\n"
     ]
    }
   ],
   "source": [
    "help(duty.casefold)"
   ]
  },
  {
   "cell_type": "code",
   "execution_count": 20,
   "metadata": {},
   "outputs": [
    {
     "data": {
      "text/plain": [
       "b'my work'"
      ]
     },
     "execution_count": 20,
     "metadata": {},
     "output_type": "execute_result"
    }
   ],
   "source": [
    "duty.encode()"
   ]
  },
  {
   "cell_type": "code",
   "execution_count": 21,
   "metadata": {
    "scrolled": true
   },
   "outputs": [
    {
     "name": "stdout",
     "output_type": "stream",
     "text": [
      "Help on built-in function encode:\n",
      "\n",
      "encode(encoding='utf-8', errors='strict') method of builtins.str instance\n",
      "    Encode the string using the codec registered for encoding.\n",
      "    \n",
      "    encoding\n",
      "      The encoding in which to encode the string.\n",
      "    errors\n",
      "      The error handling scheme to use for encoding errors.\n",
      "      The default is 'strict' meaning that encoding errors raise a\n",
      "      UnicodeEncodeError.  Other possible values are 'ignore', 'replace' and\n",
      "      'xmlcharrefreplace' as well as any other name registered with\n",
      "      codecs.register_error that can handle UnicodeEncodeErrors.\n",
      "\n"
     ]
    }
   ],
   "source": [
    "help(duty.encode)"
   ]
  },
  {
   "cell_type": "code",
   "execution_count": 22,
   "metadata": {
    "id": "zsLRGvxZbzQp"
   },
   "outputs": [
    {
     "name": "stdout",
     "output_type": "stream",
     "text": [
      "Calvin et Hobbes\n",
      "================================================\n",
      "\t\n",
      "Calvin & Hobbes\n",
      "================================================\n",
      "\t\n",
      "Calvin & Hobbes\n",
      "================================================\n",
      "\t\n",
      "True\n",
      "================================================\n",
      "\t\n",
      "10\n",
      "-------Calvin et Hobbes-------\n"
     ]
    },
    {
     "data": {
      "text/plain": [
       "['__add__',\n",
       " '__class__',\n",
       " '__contains__',\n",
       " '__delattr__',\n",
       " '__dir__',\n",
       " '__doc__',\n",
       " '__eq__',\n",
       " '__format__',\n",
       " '__ge__',\n",
       " '__getattribute__',\n",
       " '__getitem__',\n",
       " '__getnewargs__',\n",
       " '__getstate__',\n",
       " '__gt__',\n",
       " '__hash__',\n",
       " '__init__',\n",
       " '__init_subclass__',\n",
       " '__iter__',\n",
       " '__le__',\n",
       " '__len__',\n",
       " '__lt__',\n",
       " '__mod__',\n",
       " '__mul__',\n",
       " '__ne__',\n",
       " '__new__',\n",
       " '__reduce__',\n",
       " '__reduce_ex__',\n",
       " '__repr__',\n",
       " '__rmod__',\n",
       " '__rmul__',\n",
       " '__setattr__',\n",
       " '__sizeof__',\n",
       " '__str__',\n",
       " '__subclasshook__',\n",
       " 'capitalize',\n",
       " 'casefold',\n",
       " 'center',\n",
       " 'count',\n",
       " 'encode',\n",
       " 'endswith',\n",
       " 'expandtabs',\n",
       " 'find',\n",
       " 'format',\n",
       " 'format_map',\n",
       " 'index',\n",
       " 'isalnum',\n",
       " 'isalpha',\n",
       " 'isascii',\n",
       " 'isdecimal',\n",
       " 'isdigit',\n",
       " 'isidentifier',\n",
       " 'islower',\n",
       " 'isnumeric',\n",
       " 'isprintable',\n",
       " 'isspace',\n",
       " 'istitle',\n",
       " 'isupper',\n",
       " 'join',\n",
       " 'ljust',\n",
       " 'lower',\n",
       " 'lstrip',\n",
       " 'maketrans',\n",
       " 'partition',\n",
       " 'removeprefix',\n",
       " 'removesuffix',\n",
       " 'replace',\n",
       " 'rfind',\n",
       " 'rindex',\n",
       " 'rjust',\n",
       " 'rpartition',\n",
       " 'rsplit',\n",
       " 'rstrip',\n",
       " 'split',\n",
       " 'splitlines',\n",
       " 'startswith',\n",
       " 'strip',\n",
       " 'swapcase',\n",
       " 'title',\n",
       " 'translate',\n",
       " 'upper',\n",
       " 'zfill']"
      ]
     },
     "execution_count": 22,
     "metadata": {},
     "output_type": "execute_result"
    }
   ],
   "source": [
    "enfant, peluche = \"Calvin\", 'Hobbes'  # Multiple assignment\n",
    "\n",
    "titre = enfant + ' et ' + peluche  # +: String concatenation\n",
    "print(titre)\n",
    "print(\"================================================\")\n",
    "print('\\t')\n",
    "\n",
    "print(titre.replace('et', '&'))  # Substring replacement: 'Calvin & Hobbes'\n",
    "print(\"================================================\")\n",
    "print('\\t')\n",
    "\n",
    "print(' & '.join(titre.split(' et ')))  # Splitting and joining\n",
    "print(\"================================================\")\n",
    "print('\\t')\n",
    "\n",
    "print('Hobbes' in titre)  # in: Inclusion test\n",
    "print(\"================================================\")\n",
    "print('\\t')\n",
    "\n",
    "print(titre.find(\"Hobbes\"))  # str.find: Substring search\n",
    "\n",
    "print(titre.center(30, '-'))  # '-------Calvin et Hobbes-------'\n",
    "\n",
    "dir(str)  # Lists all string methods\n"
   ]
  },
  {
   "cell_type": "markdown",
   "metadata": {
    "id": "O72LkoKtbzQp"
   },
   "source": [
    "###  1.5. Formatting\n",
    "\n",
    "It is often necessary to retrieve the value of a variable and incorporate it into a string to form a new, usable string for other purposes. For instance, consider a variable `prix` defined as follows:\n",
    "\n",
    "```python\n",
    "prix = 2\n",
    "```\n",
    "\n",
    "We want to display a message like `\"The price of the pen is 2 euros\"`.\n",
    "\n",
    "The goal of formatting is to embed the value of a variable within a string. There are three primary methods to achieve this:\n",
    "\n",
    "- Using the concatenation operator `+`\n",
    "- Using the formatting operator `%`\n",
    "- Using the `str.format()` method\n",
    "\n",
    "We will illustrate just one example using the `str.format()` method. The formatting system allows for precise control over the conversion of variables into strings. It primarily relies on the `str.format()` method, which enables detailed specification of how variables should be inserted and formatted within a string. For more information, you can refer to the [formatting documentation](https://docs.python.org/2/library/string.html#formatstrings)."
   ]
  },
  {
   "cell_type": "code",
   "execution_count": 23,
   "metadata": {
    "id": "qJKACrQBbzQp"
   },
   "outputs": [
    {
     "name": "stdout",
     "output_type": "stream",
     "text": [
      "Calvin a 6 ans\n",
      "================================================\n",
      "\t\n",
      "Calvin a 6 ans\n",
      "================================================\n",
      "\t\n",
      "3.141593 3.14 3141592653.589793 3.14159e+09\n"
     ]
    }
   ],
   "source": [
    "print(\"{nom} a {age} ans\".format(nom='Calvin', age=6)) # 'Calvin a 6 ans'\n",
    "print(\"================================================\")\n",
    "print('\\t')\n",
    "\n",
    "print(\"{} a {} ans\".format('Calvin', 6)) # Shortcut 'Calvin a 6 ans'\n",
    "print(\"================================================\")\n",
    "print('\\t')\n",
    "\n",
    "pi = 3.1415926535897931\n",
    "print(\"{x:f} {x:.2f} {y:f} {y:g}\".format(x=pi, y=pi*1e9)) # '3.141593 3.14 3141592653.589793 3.14159e+09'\n"
   ]
  },
  {
   "cell_type": "code",
   "execution_count": 24,
   "metadata": {},
   "outputs": [
    {
     "name": "stdout",
     "output_type": "stream",
     "text": [
      "Help on built-in function format:\n",
      "\n",
      "format(...) method of builtins.str instance\n",
      "    S.format(*args, **kwargs) -> str\n",
      "    \n",
      "    Return a formatted version of S, using substitutions from args and kwargs.\n",
      "    The substitutions are identified by braces ('{' and '}').\n",
      "\n"
     ]
    }
   ],
   "source": [
    "help(duty.format)"
   ]
  },
  {
   "cell_type": "code",
   "execution_count": 25,
   "metadata": {},
   "outputs": [
    {
     "name": "stdout",
     "output_type": "stream",
     "text": [
      "your work\n",
      "not a duty\n"
     ]
    }
   ],
   "source": [
    "print(\"{yours}\".format(yours='your work'))\n",
    "print(\"{duty}\".format(duty='not a duty'))"
   ]
  },
  {
   "cell_type": "markdown",
   "metadata": {
    "id": "3XJ4rHzqbzQp"
   },
   "source": [
    "\n",
    "\n",
    "**Explanation:**\n",
    "\n",
    "- **Named Fields**: In the first example, `\"{nom} a {age} ans\".format(nom='Calvin', age=6)` uses named fields in the format string. The placeholders `{nom}` and `{age}` are replaced by the values provided in the `format` method.\n",
    "\n",
    "- **Positional Fields**: The second example, `\"{} a {} ans\".format('Calvin', 6)`, uses positional placeholders `{}`. The values are inserted in the order they appear in the `format` method.\n",
    "\n",
    "- **Formatting Numbers**: The third example demonstrates formatting numerical values. `\"{x:f} {x:.2f} {y:f} {y:g}\".format(x=pi, y=pi*1e9)` formats the floating-point number `pi` in various ways:\n",
    "  - `{x:f}` displays `pi` with six decimal places.\n",
    "  - `{x:.2f}` formats `pi` to two decimal places.\n",
    "  - `{y:f}` shows `pi*1e9` with six decimal places.\n",
    "  - `{y:g}` formats `pi*1e9` in a more compact form using scientific notation."
   ]
  },
  {
   "cell_type": "code",
   "execution_count": 26,
   "metadata": {
    "id": "PB3XPZ-dbzQp"
   },
   "outputs": [
    {
     "name": "stdout",
     "output_type": "stream",
     "text": [
      "Calvin and Hobbes\n",
      "Scientific progress goes 'boink'\n"
     ]
    }
   ],
   "source": [
    "print(\"Calvin and Hobbes\\nScientific progress goes 'boink'\") # Calvin and Hobbes Scientific progress goes 'boink'"
   ]
  },
  {
   "cell_type": "code",
   "execution_count": 27,
   "metadata": {
    "id": "TIEwtGmHbzQp"
   },
   "outputs": [
    {
     "name": "stdout",
     "output_type": "stream",
     "text": [
      "3 fois 4 font 12\n"
     ]
    }
   ],
   "source": [
    "print(\"{0} fois {1} font {2}\".format(3, 4, 3*4)) # Formatting and display\n",
    "# Output: 3 fois 4 font 12\n",
    "# A small exercise in this section is to display a multiplication table."
   ]
  },
  {
   "cell_type": "markdown",
   "metadata": {
    "id": "fj7WgHwRbzQp"
   },
   "source": [
    "**Explanation:**\n",
    "\n",
    "- **Indexed Fields**: In the example `\"{0} fois {1} font {2}\".format(3, 4, 3*4)`, the `{0}`, `{1}`, and `{2}` are positional placeholders. They are replaced by the values `3`, `4`, and `3*4` (which evaluates to `12`) respectively. This results in the output: `3 fois 4 font 12`.\n",
    "\n",
    "- **Multiplication Table Exercise**: The comment suggests a small exercise where one can display a multiplication table, which would involve iterating through numbers and formatting them into a table structure using similar formatting techniques."
   ]
  },
  {
   "cell_type": "markdown",
   "metadata": {
    "id": "bHaAow-bbzQq"
   },
   "source": [
    "In concluding this section, we mention the study of regular expressions (regex or `re`), which will not be discussed in this course. As a guide, we can say that regular expressions are extensions of the `str()` function that allow for more complex pattern-matching operations than what the `str()` functions alone can achieve."
   ]
  },
  {
   "cell_type": "markdown",
   "metadata": {
    "id": "PA23RbPDbzQq"
   },
   "source": [
    "**Practical**\n",
    "\n",
    "Explore the functions:\n",
    "\n",
    " 1. [`upper()`, `lower()`, and `capitalize()`](https://docs.python.org/3/library/stdtypes.html#str.upper)\n",
    "                                               \n",
    "                                               \n",
    " 2. [`find()`](https://docs.python.org/3/library/stdtypes.html#str.find)\n",
    " 3. [`replace()`](https://docs.python.org/3/library/stdtypes.html#str.replace)\n",
    " 4. [`count()`](https://docs.python.org/3/library/stdtypes.html#str.count)\n",
    " 5. [`split()`](https://docs.python.org/3/library/stdtypes.html#str.split)\n",
    " 6. [`startswith()` and `endswith()`](https://docs.python.org/3/library/stdtypes.html#str.startswith)\n",
    " 7. [`islower()` and `isupper()`](https://docs.python.org/3/library/stdtypes.html#str.islower)\n",
    " 8. [`istitle()`](https://docs.python.org/3/library/stdtypes.html#str.istitle)\n",
    " 9. [`isalpha()` and `isalnum()`](https://docs.python.org/3/library/stdtypes.html#str.isalpha)\n",
    "10.[`isdigit()`](https://docs.python.org/3/library/stdtypes.html#str.isdigit)"
   ]
  },
  {
   "cell_type": "code",
   "execution_count": 28,
   "metadata": {},
   "outputs": [
    {
     "data": {
      "text/plain": [
       "'MAURICE IS MY BROTHER'"
      ]
     },
     "execution_count": 28,
     "metadata": {},
     "output_type": "execute_result"
    }
   ],
   "source": [
    "name = \"Maurice is my Brother\"\n",
    "name.upper()"
   ]
  },
  {
   "cell_type": "code",
   "execution_count": 29,
   "metadata": {},
   "outputs": [
    {
     "data": {
      "text/plain": [
       "'maurice is my brother'"
      ]
     },
     "execution_count": 29,
     "metadata": {},
     "output_type": "execute_result"
    }
   ],
   "source": [
    "name.lower()"
   ]
  },
  {
   "cell_type": "code",
   "execution_count": 30,
   "metadata": {},
   "outputs": [
    {
     "data": {
      "text/plain": [
       "'Maurice is my brother'"
      ]
     },
     "execution_count": 30,
     "metadata": {},
     "output_type": "execute_result"
    }
   ],
   "source": [
    "name.capitalize()"
   ]
  },
  {
   "cell_type": "code",
   "execution_count": 31,
   "metadata": {},
   "outputs": [
    {
     "data": {
      "text/plain": [
       "6"
      ]
     },
     "execution_count": 31,
     "metadata": {},
     "output_type": "execute_result"
    }
   ],
   "source": [
    "name.find('e')"
   ]
  },
  {
   "cell_type": "code",
   "execution_count": 32,
   "metadata": {},
   "outputs": [
    {
     "data": {
      "text/plain": [
       "2"
      ]
     },
     "execution_count": 32,
     "metadata": {},
     "output_type": "execute_result"
    }
   ],
   "source": [
    "name.count('e')"
   ]
  },
  {
   "cell_type": "code",
   "execution_count": 33,
   "metadata": {},
   "outputs": [
    {
     "data": {
      "text/plain": [
       "['Maurice', 'is', 'my', 'Brother']"
      ]
     },
     "execution_count": 33,
     "metadata": {},
     "output_type": "execute_result"
    }
   ],
   "source": [
    "name.split()"
   ]
  },
  {
   "cell_type": "code",
   "execution_count": 34,
   "metadata": {},
   "outputs": [
    {
     "data": {
      "text/plain": [
       "True"
      ]
     },
     "execution_count": 34,
     "metadata": {},
     "output_type": "execute_result"
    }
   ],
   "source": [
    "name.startswith('M')"
   ]
  },
  {
   "cell_type": "code",
   "execution_count": 35,
   "metadata": {},
   "outputs": [
    {
     "data": {
      "text/plain": [
       "False"
      ]
     },
     "execution_count": 35,
     "metadata": {},
     "output_type": "execute_result"
    }
   ],
   "source": [
    "name.islower()"
   ]
  },
  {
   "cell_type": "code",
   "execution_count": 36,
   "metadata": {},
   "outputs": [
    {
     "data": {
      "text/plain": [
       "False"
      ]
     },
     "execution_count": 36,
     "metadata": {},
     "output_type": "execute_result"
    }
   ],
   "source": [
    "name.istitle()"
   ]
  },
  {
   "cell_type": "code",
   "execution_count": 37,
   "metadata": {},
   "outputs": [
    {
     "data": {
      "text/plain": [
       "False"
      ]
     },
     "execution_count": 37,
     "metadata": {},
     "output_type": "execute_result"
    }
   ],
   "source": [
    "name.isdigit()"
   ]
  },
  {
   "cell_type": "code",
   "execution_count": 38,
   "metadata": {},
   "outputs": [
    {
     "data": {
      "text/plain": [
       "True"
      ]
     },
     "execution_count": 38,
     "metadata": {},
     "output_type": "execute_result"
    }
   ],
   "source": [
    "x = \"6\"\n",
    "x.isdigit()"
   ]
  },
  {
   "cell_type": "code",
   "execution_count": 39,
   "metadata": {},
   "outputs": [
    {
     "data": {
      "text/plain": [
       "False"
      ]
     },
     "execution_count": 39,
     "metadata": {},
     "output_type": "execute_result"
    }
   ],
   "source": [
    "y = \"noun\"\n",
    "y.isdigit()"
   ]
  },
  {
   "cell_type": "markdown",
   "metadata": {
    "id": "hgk6720lbzQq"
   },
   "source": [
    "**Note:** It is important to distinguish between a character value and an alphabetical value. An alphabetical value is always a string, whereas a string is not necessarily an alphabetical value. In Python, a character value is always enclosed in quotes (single, double, or triple), while a numeric value is expressed without quotes. There are two main types of data: numeric data and character data. It is worth noting that a numeric value enclosed in quotes is automatically treated as a character value, even if it is not alphabetical. Keeping these details in mind is crucial when handling sequences of values in Python (see the example below):\n",
    "\n",
    "```python\n",
    "x = 12 # x is a numeric variable\n",
    "y = \"12\" # y is a string formed by digits\n",
    "z = \"mon texte\" # z is a string formed by alphabetical values\n",
    "k = \"Ce stylo coûte 5 euros\" # k is a string formed by alphanumeric values\n",
    "```"
   ]
  },
  {
   "cell_type": "markdown",
   "metadata": {
    "id": "ObzqaEPEbzQq"
   },
   "source": [
    "For more details on string processing, refer to [this page](http://www.tutorialspoint.com/python/python_strings.htm)."
   ]
  },
  {
   "cell_type": "markdown",
   "metadata": {
    "id": "h3RWlVJfbzQq"
   },
   "source": [
    "## 2. File I/O\n",
    "\n",
    "File I/O (Input/Output) in Python involves reading from and writing to files. Python provides several built-in functions and methods to handle files. The primary function for file manipulation is `open()`, which allows you to open a file and returns a file object. This file object provides methods for reading and writing data. Here's a detailed overview with various examples:\n",
    "\n",
    "### Basic File Operations\n",
    "\n",
    "1. **Opening and Closing a File**\n",
    "   - To open a file, use the `open()` function. The basic syntax is `open(filename, mode)`, where `filename` is the name of the file and `mode` is the mode of operation (`'r'` for read, `'w'` for write, `'a'` for append, etc.).\n",
    "   - To close a file, use the `close()` method of the file object.\n",
    "\n",
    "   ```python\n",
    "   # Opening a file in read mode\n",
    "   file = open('example.txt', 'r')\n",
    "   # Perform operations on the file\n",
    "   file.close()\n",
    "   ```\n",
    "\n",
    "2. **Reading from a File**\n",
    "   - **Read the entire file**: `read()` method reads the entire content of the file.\n",
    "   - **Read line by line**: `readline()` method reads a single line from the file, and `readlines()` method reads all lines into a list.\n",
    "\n",
    "   ```python\n",
    "   # Read entire file\n",
    "   file = open('example.txt', 'r')\n",
    "   content = file.read()\n",
    "   print(content)\n",
    "   file.close()\n",
    "\n",
    "   # Read line by line\n",
    "   file = open('example.txt', 'r')\n",
    "   line = file.readline()\n",
    "   while line:\n",
    "       print(line, end='')\n",
    "       line = file.readline()\n",
    "   file.close()\n",
    "\n",
    "   # Read all lines into a list\n",
    "   file = open('example.txt', 'r')\n",
    "   lines = file.readlines()\n",
    "   print(lines)\n",
    "   file.close()\n",
    "   ```\n",
    "\n",
    "3. **Writing to a File**\n",
    "   - **Write a string**: `write()` method writes a string to the file.\n",
    "   - **Write multiple lines**: `writelines()` method writes a list of strings to the file.\n",
    "\n",
    "   ```python\n",
    "   # Write a string to a file\n",
    "   file = open('example.txt', 'w')\n",
    "   file.write('Hello, World!')\n",
    "   file.close()\n",
    "\n",
    "   # Write multiple lines to a file\n",
    "   lines = ['First line\\n', 'Second line\\n', 'Third line\\n']\n",
    "   file = open('example.txt', 'w')\n",
    "   file.writelines(lines)\n",
    "   file.close()\n",
    "   ```\n",
    "\n",
    "4. **Appending to a File**\n",
    "   - To append data to an existing file, open the file in append mode (`'a'`).\n",
    "\n",
    "   ```python\n",
    "   file = open('example.txt', 'a')\n",
    "   file.write('This is an appended line.\\n')\n",
    "   file.close()\n",
    "   ```\n",
    "\n",
    "5. **Using `with` Statement**\n",
    "   - The `with` statement is used for resource management. It ensures that the file is properly closed after its suite finishes, even if an exception is raised.\n",
    "\n",
    "   ```python\n",
    "   # Reading a file using with statement\n",
    "   with open('example.txt', 'r') as file:\n",
    "       content = file.read()\n",
    "       print(content)\n",
    "\n",
    "   # Writing to a file using with statement\n",
    "   with open('example.txt', 'w') as file:\n",
    "       file.write('This is a new content.')\n",
    "   ```\n",
    "\n",
    "6. **File Modes**\n",
    "   - `'r'`: Read (default mode, opens the file for reading)\n",
    "   - `'w'`: Write (creates a new file or truncates an existing file)\n",
    "   - `'a'`: Append (opens the file for appending)\n",
    "   - `'b'`: Binary (reads or writes in binary mode, e.g., `'rb'` or `'wb'`)\n",
    "   - `'t'`: Text (default mode, opens the file in text mode, e.g., `'rt'` or `'wt'`)\n",
    "\n",
    "   ```python\n",
    "   # Binary mode example\n",
    "   with open('example.jpg', 'rb') as file:\n",
    "       content = file.read()\n",
    "       # Process binary data\n",
    "   ```\n",
    "\n",
    "7. **File Positioning**\n",
    "   - `seek(offset, whence)`: Moves the file pointer to a specific position.\n",
    "   - `tell()`: Returns the current file pointer position.\n",
    "\n",
    "   ```python\n",
    "   with open('example.txt', 'r') as file:\n",
    "       file.seek(10)  # Move to the 10th byte\n",
    "       print(file.tell())  # Print the current file pointer position\n",
    "       content = file.read(20)  # Read 20 bytes from the current position\n",
    "       print(content)\n",
    "   ```\n",
    "\n",
    "8. **Working with File Paths**\n",
    "   - Use the `os` and `pathlib` modules to handle file paths.\n",
    "\n",
    "   ```python\n",
    "   import os\n",
    "   from pathlib import Path\n",
    "\n",
    "   # Get current working directory\n",
    "   print(os.getcwd())\n",
    "\n",
    "   # Join paths\n",
    "   file_path = os.path.join('folder', 'example.txt')\n",
    "\n",
    "   # Using pathlib\n",
    "   path = Path('folder') / 'example.txt'\n",
    "   ```\n",
    "\n",
    "9. **Handling File Exceptions**\n",
    "   - Use `try` and `except` blocks to handle file-related exceptions.\n",
    "\n",
    "   ```python\n",
    "   try:\n",
    "       with open('example.txt', 'r') as file:\n",
    "           content = file.read()\n",
    "   except FileNotFoundError:\n",
    "       print('File not found.')\n",
    "   except IOError:\n",
    "       print('An IOError occurred.')\n",
    "   ```\n",
    "\n",
    "These examples cover a wide range of file operations in Python. Whether you are reading from, writing to, or managing files, Python’s file I/O capabilities provide a flexible and powerful way to handle file data."
   ]
  },
  {
   "cell_type": "markdown",
   "metadata": {
    "id": "5yGfifA5bzQq"
   },
   "source": [
    "The help information for open is below:"
   ]
  },
  {
   "cell_type": "code",
   "execution_count": 40,
   "metadata": {
    "id": "aurFUpR8bzQr"
   },
   "outputs": [
    {
     "name": "stdout",
     "output_type": "stream",
     "text": [
      "Help on built-in function open in module io:\n",
      "\n",
      "open(file, mode='r', buffering=-1, encoding=None, errors=None, newline=None, closefd=True, opener=None)\n",
      "    Open file and return a stream.  Raise OSError upon failure.\n",
      "    \n",
      "    file is either a text or byte string giving the name (and the path\n",
      "    if the file isn't in the current working directory) of the file to\n",
      "    be opened or an integer file descriptor of the file to be\n",
      "    wrapped. (If a file descriptor is given, it is closed when the\n",
      "    returned I/O object is closed, unless closefd is set to False.)\n",
      "    \n",
      "    mode is an optional string that specifies the mode in which the file\n",
      "    is opened. It defaults to 'r' which means open for reading in text\n",
      "    mode.  Other common values are 'w' for writing (truncating the file if\n",
      "    it already exists), 'x' for creating and writing to a new file, and\n",
      "    'a' for appending (which on some Unix systems, means that all writes\n",
      "    append to the end of the file regardless of the current seek position).\n",
      "    In text mode, if encoding is not specified the encoding used is platform\n",
      "    dependent: locale.getencoding() is called to get the current locale encoding.\n",
      "    (For reading and writing raw bytes use binary mode and leave encoding\n",
      "    unspecified.) The available modes are:\n",
      "    \n",
      "    ========= ===============================================================\n",
      "    Character Meaning\n",
      "    --------- ---------------------------------------------------------------\n",
      "    'r'       open for reading (default)\n",
      "    'w'       open for writing, truncating the file first\n",
      "    'x'       create a new file and open it for writing\n",
      "    'a'       open for writing, appending to the end of the file if it exists\n",
      "    'b'       binary mode\n",
      "    't'       text mode (default)\n",
      "    '+'       open a disk file for updating (reading and writing)\n",
      "    ========= ===============================================================\n",
      "    \n",
      "    The default mode is 'rt' (open for reading text). For binary random\n",
      "    access, the mode 'w+b' opens and truncates the file to 0 bytes, while\n",
      "    'r+b' opens the file without truncation. The 'x' mode implies 'w' and\n",
      "    raises an `FileExistsError` if the file already exists.\n",
      "    \n",
      "    Python distinguishes between files opened in binary and text modes,\n",
      "    even when the underlying operating system doesn't. Files opened in\n",
      "    binary mode (appending 'b' to the mode argument) return contents as\n",
      "    bytes objects without any decoding. In text mode (the default, or when\n",
      "    't' is appended to the mode argument), the contents of the file are\n",
      "    returned as strings, the bytes having been first decoded using a\n",
      "    platform-dependent encoding or using the specified encoding if given.\n",
      "    \n",
      "    buffering is an optional integer used to set the buffering policy.\n",
      "    Pass 0 to switch buffering off (only allowed in binary mode), 1 to select\n",
      "    line buffering (only usable in text mode), and an integer > 1 to indicate\n",
      "    the size of a fixed-size chunk buffer.  When no buffering argument is\n",
      "    given, the default buffering policy works as follows:\n",
      "    \n",
      "    * Binary files are buffered in fixed-size chunks; the size of the buffer\n",
      "      is chosen using a heuristic trying to determine the underlying device's\n",
      "      \"block size\" and falling back on `io.DEFAULT_BUFFER_SIZE`.\n",
      "      On many systems, the buffer will typically be 4096 or 8192 bytes long.\n",
      "    \n",
      "    * \"Interactive\" text files (files for which isatty() returns True)\n",
      "      use line buffering.  Other text files use the policy described above\n",
      "      for binary files.\n",
      "    \n",
      "    encoding is the name of the encoding used to decode or encode the\n",
      "    file. This should only be used in text mode. The default encoding is\n",
      "    platform dependent, but any encoding supported by Python can be\n",
      "    passed.  See the codecs module for the list of supported encodings.\n",
      "    \n",
      "    errors is an optional string that specifies how encoding errors are to\n",
      "    be handled---this argument should not be used in binary mode. Pass\n",
      "    'strict' to raise a ValueError exception if there is an encoding error\n",
      "    (the default of None has the same effect), or pass 'ignore' to ignore\n",
      "    errors. (Note that ignoring encoding errors can lead to data loss.)\n",
      "    See the documentation for codecs.register or run 'help(codecs.Codec)'\n",
      "    for a list of the permitted encoding error strings.\n",
      "    \n",
      "    newline controls how universal newlines works (it only applies to text\n",
      "    mode). It can be None, '', '\\n', '\\r', and '\\r\\n'.  It works as\n",
      "    follows:\n",
      "    \n",
      "    * On input, if newline is None, universal newlines mode is\n",
      "      enabled. Lines in the input can end in '\\n', '\\r', or '\\r\\n', and\n",
      "      these are translated into '\\n' before being returned to the\n",
      "      caller. If it is '', universal newline mode is enabled, but line\n",
      "      endings are returned to the caller untranslated. If it has any of\n",
      "      the other legal values, input lines are only terminated by the given\n",
      "      string, and the line ending is returned to the caller untranslated.\n",
      "    \n",
      "    * On output, if newline is None, any '\\n' characters written are\n",
      "      translated to the system default line separator, os.linesep. If\n",
      "      newline is '' or '\\n', no translation takes place. If newline is any\n",
      "      of the other legal values, any '\\n' characters written are translated\n",
      "      to the given string.\n",
      "    \n",
      "    If closefd is False, the underlying file descriptor will be kept open\n",
      "    when the file is closed. This does not work when a file name is given\n",
      "    and must be True in that case.\n",
      "    \n",
      "    A custom opener can be used by passing a callable as *opener*. The\n",
      "    underlying file descriptor for the file object is then obtained by\n",
      "    calling *opener* with (*file*, *flags*). *opener* must return an open\n",
      "    file descriptor (passing os.open as *opener* results in functionality\n",
      "    similar to passing None).\n",
      "    \n",
      "    open() returns a file object whose type depends on the mode, and\n",
      "    through which the standard file operations such as reading and writing\n",
      "    are performed. When open() is used to open a file in a text mode ('w',\n",
      "    'r', 'wt', 'rt', etc.), it returns a TextIOWrapper. When used to open\n",
      "    a file in a binary mode, the returned class varies: in read binary\n",
      "    mode, it returns a BufferedReader; in write binary and append binary\n",
      "    modes, it returns a BufferedWriter, and in read/write mode, it returns\n",
      "    a BufferedRandom.\n",
      "    \n",
      "    It is also possible to use a string or bytearray as a file for both\n",
      "    reading and writing. For strings StringIO can be used like a file\n",
      "    opened in a text mode, and for bytes a BytesIO can be used like a file\n",
      "    opened in a binary mode.\n",
      "\n"
     ]
    }
   ],
   "source": [
    "help(open)"
   ]
  },
  {
   "cell_type": "markdown",
   "metadata": {
    "id": "QinS6_ECbzQr"
   },
   "source": [
    "In the code below, I've opened a file\n",
    "that contains one line:\n",
    "\n",
    "    $ cat testfile.txt\n",
    "    abcde\n",
    "    fghij\n",
    "    aims class\n",
    "    senagal 2024\n",
    "    this is really cool\n",
    "\n",
    "Now let's open this file in Python:"
   ]
  },
  {
   "cell_type": "code",
   "execution_count": 58,
   "metadata": {
    "id": "BR4RduysbzQr"
   },
   "outputs": [],
   "source": [
    "f = open('testfile.txt','r')"
   ]
  },
  {
   "cell_type": "code",
   "execution_count": 48,
   "metadata": {},
   "outputs": [],
   "source": [
    "f = open('testfile.txt', 'w')\n",
    "f.write('This is a new word!')\n",
    "f.close()"
   ]
  },
  {
   "cell_type": "code",
   "execution_count": 49,
   "metadata": {},
   "outputs": [
    {
     "name": "stdout",
     "output_type": "stream",
     "text": [
      "/home/tsiky/Documents/AIMS/bloc2/week1/python_course_colab_notebooks\n"
     ]
    }
   ],
   "source": [
    "import os\n",
    "from pathlib import Path\n",
    "\n",
    "print(os.getcwd())\n",
    "\n"
   ]
  },
  {
   "cell_type": "code",
   "execution_count": 54,
   "metadata": {
    "id": "oiaEuH3ubzQr"
   },
   "outputs": [
    {
     "name": "stdout",
     "output_type": "stream",
     "text": [
      "This is a new word!\n"
     ]
    }
   ],
   "source": [
    "with open ('testfile.txt', 'r') as file:\n",
    "    content = file.read()\n",
    "print(content)"
   ]
  },
  {
   "cell_type": "code",
   "execution_count": 63,
   "metadata": {},
   "outputs": [
    {
     "name": "stdout",
     "output_type": "stream",
     "text": [
      "Help on built-in function tell:\n",
      "\n",
      "tell() method of _io.TextIOWrapper instance\n",
      "    Return current stream position.\n",
      "\n"
     ]
    }
   ],
   "source": [
    "help(f.tell)"
   ]
  },
  {
   "cell_type": "markdown",
   "metadata": {
    "id": "z02i-jOMbzQr"
   },
   "source": [
    "We read the first three characters, where each character is a byte long.\n",
    "We can see that the file handle points to the 4th byte (index number 3)\n",
    "in the file:"
   ]
  },
  {
   "cell_type": "code",
   "execution_count": 75,
   "metadata": {
    "id": "HBOlU2mEbzQr"
   },
   "outputs": [
    {
     "data": {
      "text/plain": [
       "19"
      ]
     },
     "execution_count": 75,
     "metadata": {},
     "output_type": "execute_result"
    }
   ],
   "source": [
    "f.tell()"
   ]
  },
  {
   "cell_type": "code",
   "execution_count": 76,
   "metadata": {
    "id": "DNl_-BqQbzQr"
   },
   "outputs": [
    {
     "data": {
      "text/plain": [
       "''"
      ]
     },
     "execution_count": 76,
     "metadata": {},
     "output_type": "execute_result"
    }
   ],
   "source": [
    "f.read(0)"
   ]
  },
  {
   "cell_type": "code",
   "execution_count": 77,
   "metadata": {
    "id": "8mzyH0uZbzQr"
   },
   "outputs": [],
   "source": [
    "f.close() # close the old handle"
   ]
  },
  {
   "cell_type": "code",
   "execution_count": null,
   "metadata": {},
   "outputs": [],
   "source": [
    "f.read()  # can't read anymore because the file is closed."
   ]
  },
  {
   "cell_type": "code",
   "execution_count": 81,
   "metadata": {
    "id": "qu44U8D0bzQr"
   },
   "outputs": [],
   "source": [
    "# right answer\n",
    "\n",
    "file = open('testfile.txt', 'r')\n",
    "file.read()  \n",
    "file.close()"
   ]
  },
  {
   "cell_type": "markdown",
   "metadata": {
    "id": "tjW8oqbjbzQr"
   },
   "source": [
    "The file we are using is a long series of characters, but two of the characters are new line characters. If we looked at the file in sequence, it would look like \"abcdenfghijn\". Separating a file into lines is popular enough that there are two ways to read whole lines in a file. The first is to use the `readlines()` method:"
   ]
  },
  {
   "cell_type": "code",
   "execution_count": 82,
   "metadata": {
    "id": "IPvV8gFAbzQr"
   },
   "outputs": [
    {
     "name": "stdout",
     "output_type": "stream",
     "text": [
      "[]\n"
     ]
    }
   ],
   "source": [
    "f = open('testfile.txt','r')\n",
    "lines = f.readlines()\n",
    "print(lines)\n",
    "f.close()  # Always close the file when you are done with it"
   ]
  },
  {
   "cell_type": "markdown",
   "metadata": {
    "id": "4DAVVP1vbzQt"
   },
   "source": [
    "A very important point about the readline method is that it *keeps* the\n",
    "newline character at the end of each line. You can use the strip()\n",
    "method to get rid of the string.\n",
    "\n",
    "File handles are also iterable, which means we can use them in for loops\n",
    "or list extensions:"
   ]
  },
  {
   "cell_type": "code",
   "execution_count": 83,
   "metadata": {
    "id": "VfF20oSEbzQt"
   },
   "outputs": [
    {
     "name": "stdout",
     "output_type": "stream",
     "text": [
      "[]\n"
     ]
    }
   ],
   "source": [
    "f = open('testfile.txt','r')\n",
    "lines = [line.strip() for line in f]\n",
    "f.close()\n",
    "print(lines)"
   ]
  },
  {
   "cell_type": "code",
   "execution_count": 84,
   "metadata": {
    "id": "6ShNeyXYbzQt"
   },
   "outputs": [
    {
     "name": "stdout",
     "output_type": "stream",
     "text": [
      "[]\n"
     ]
    }
   ],
   "source": [
    "lines = []\n",
    "f = open('testfile.txt','r')\n",
    "for line in f:\n",
    "    lines.append(line.strip())\n",
    "f.close()\n",
    "print(lines)"
   ]
  },
  {
   "cell_type": "markdown",
   "metadata": {
    "id": "y7o6580pbzQt"
   },
   "source": [
    "These are equivalent operations. It's often best to handle a file one line at a time, particularly when the file is so large it might not fit in memory.\n",
    "\n",
    "The other half of the story is writing output to files. We'll talk about two techniques: writing to the shell and writing to files directly.\n",
    "\n",
    "If your program only creates one stream of output, it's often a good idea to write to the shell using the print function. There are several advantages to this strategy, including the fact that it allows the user to select where they want to store the output without worrying about any command line flags. You can use `\\>` to direct the output of your program to a file or use `|` to pipe it to another program.\n",
    "\n",
    "Sometimes, you need to direct your output directly to a file handle. For instance, if your program produces two output streams, you may want to assign two open file handles. Opening a file for reading simply requires changing the second option from `r` to `w` or `a`.\n",
    "\n",
    "*Caution!* Opening a file with the 'w' option means start writing *at the beginning*, which may overwrite old material. If you want to append to the file without losing what is already there, open it with 'a'.\n",
    "\n",
    "Writing to a file uses the `write()` command, which accepts a string."
   ]
  },
  {
   "cell_type": "code",
   "execution_count": 85,
   "metadata": {
    "id": "FVvhoLZIbzQt"
   },
   "outputs": [],
   "source": [
    "outfile = open('outfile.txt','w')\n",
    "outfile.write('This is the first line!')\n",
    "outfile.close()"
   ]
  },
  {
   "cell_type": "markdown",
   "metadata": {
    "id": "wAKDfTdubzQt"
   },
   "source": [
    "Another way to write to a file is to use `writelines()`, which accepts a\n",
    "list of strings and writes them in order. *Caution!* `writelines` does not\n",
    "append newlines. If you really want to write a newline at the end of\n",
    "each string in the list, add it yourself."
   ]
  },
  {
   "cell_type": "markdown",
   "metadata": {
    "id": "dPvqfWsvbzQt"
   },
   "source": [
    "<!--NAVIGATION-->\n",
    "<  [1. Variables et Affectations](01_Lecture01.ipynb)| [Sommaire](Index.ipynb) |  [3. Objets itérables ou conteneurs](03_Lecture03.ipynb) >\n"
   ]
  },
  {
   "cell_type": "markdown",
   "metadata": {},
   "source": [
    "# PRACTICE_2: STRING AND FILES"
   ]
  },
  {
   "cell_type": "markdown",
   "metadata": {},
   "source": [
    "Exercice 1"
   ]
  },
  {
   "cell_type": "code",
   "execution_count": 86,
   "metadata": {},
   "outputs": [
    {
     "data": {
      "text/plain": [
       "'Python is amazing'"
      ]
     },
     "execution_count": 86,
     "metadata": {},
     "output_type": "execute_result"
    }
   ],
   "source": [
    "text = \"Python is amazing\"\n",
    "text"
   ]
  },
  {
   "cell_type": "markdown",
   "metadata": {},
   "source": [
    "Exercice 2"
   ]
  },
  {
   "cell_type": "code",
   "execution_count": 88,
   "metadata": {},
   "outputs": [
    {
     "data": {
      "text/plain": [
       "12"
      ]
     },
     "execution_count": 88,
     "metadata": {},
     "output_type": "execute_result"
    }
   ],
   "source": [
    "length = \"Hello, Word!\"\n",
    "len(length)"
   ]
  },
  {
   "cell_type": "markdown",
   "metadata": {},
   "source": [
    "Exercice 3"
   ]
  },
  {
   "cell_type": "code",
   "execution_count": 89,
   "metadata": {},
   "outputs": [
    {
     "data": {
      "text/plain": [
       "'PYTHON IS AMAZING'"
      ]
     },
     "execution_count": 89,
     "metadata": {},
     "output_type": "execute_result"
    }
   ],
   "source": [
    "upper_text = text.upper()\n",
    "upper_text"
   ]
  },
  {
   "cell_type": "markdown",
   "metadata": {},
   "source": [
    "Exercice 4"
   ]
  },
  {
   "cell_type": "code",
   "execution_count": 91,
   "metadata": {},
   "outputs": [
    {
     "data": {
      "text/plain": [
       "'Artif'"
      ]
     },
     "execution_count": 91,
     "metadata": {},
     "output_type": "execute_result"
    }
   ],
   "source": [
    "name = \"Artificial Intelligence\"\n",
    "name[:5]"
   ]
  },
  {
   "cell_type": "markdown",
   "metadata": {},
   "source": [
    "Exercice 5"
   ]
  },
  {
   "cell_type": "code",
   "execution_count": 94,
   "metadata": {},
   "outputs": [
    {
     "name": "stdout",
     "output_type": "stream",
     "text": [
      "Hello World\n"
     ]
    }
   ],
   "source": [
    "hello = \"Hello\"\n",
    "world = \"World\"\n",
    "concatenation = hello + \" \" + world\n",
    "print(concatenation)"
   ]
  },
  {
   "cell_type": "markdown",
   "metadata": {},
   "source": [
    "Exercice 6"
   ]
  },
  {
   "cell_type": "code",
   "execution_count": 95,
   "metadata": {},
   "outputs": [
    {
     "data": {
      "text/plain": [
       "'The quick brown cat jumps over the lazy cat.'"
      ]
     },
     "execution_count": 95,
     "metadata": {},
     "output_type": "execute_result"
    }
   ],
   "source": [
    "string = \"The quick brown dog jumps over the lazy dog.\"\n",
    "string.replace(\"dog\", \"cat\")"
   ]
  },
  {
   "cell_type": "markdown",
   "metadata": {},
   "source": [
    "Exercice 7"
   ]
  },
  {
   "cell_type": "code",
   "execution_count": 102,
   "metadata": {},
   "outputs": [
    {
     "data": {
      "text/plain": [
       "['apple', 'banana', 'orange']"
      ]
     },
     "execution_count": 102,
     "metadata": {},
     "output_type": "execute_result"
    }
   ],
   "source": [
    "fruits_list = \"apple,banana,orange\"\n",
    "fruits_list.split(\",\")"
   ]
  },
  {
   "cell_type": "markdown",
   "metadata": {},
   "source": [
    "Exercice 8"
   ]
  },
  {
   "cell_type": "code",
   "execution_count": 103,
   "metadata": {},
   "outputs": [
    {
     "name": "stdout",
     "output_type": "stream",
     "text": [
      "My name is Alice and I am 25 years old.\n"
     ]
    }
   ],
   "source": [
    "print(\"My name is {name} and I am {age} years old.\".format(name='Alice', age='25'))"
   ]
  },
  {
   "cell_type": "markdown",
   "metadata": {},
   "source": [
    "Exercice 9"
   ]
  },
  {
   "cell_type": "code",
   "execution_count": 106,
   "metadata": {},
   "outputs": [
    {
     "data": {
      "text/plain": [
       "True"
      ]
     },
     "execution_count": 106,
     "metadata": {},
     "output_type": "execute_result"
    }
   ],
   "source": [
    "sentence = \"I love python programming\"\n",
    "'python' in sentence"
   ]
  },
  {
   "cell_type": "markdown",
   "metadata": {},
   "source": [
    "Exercice 10"
   ]
  },
  {
   "cell_type": "code",
   "execution_count": 109,
   "metadata": {},
   "outputs": [
    {
     "data": {
      "text/plain": [
       "3"
      ]
     },
     "execution_count": 109,
     "metadata": {},
     "output_type": "execute_result"
    }
   ],
   "source": [
    "s = \"Elephant is an elegant animal\"\n",
    "s.count('e')"
   ]
  },
  {
   "cell_type": "markdown",
   "metadata": {},
   "source": [
    "Exercice 11"
   ]
  },
  {
   "cell_type": "code",
   "execution_count": 112,
   "metadata": {},
   "outputs": [
    {
     "data": {
      "text/plain": [
       "'Data Science'"
      ]
     },
     "execution_count": 112,
     "metadata": {},
     "output_type": "execute_result"
    }
   ],
   "source": [
    "data = \" Data Science \"\n",
    "data.strip()"
   ]
  },
  {
   "cell_type": "markdown",
   "metadata": {},
   "source": [
    "Exercice 12"
   ]
  },
  {
   "cell_type": "code",
   "execution_count": 114,
   "metadata": {},
   "outputs": [
    {
     "data": {
      "text/plain": [
       "int"
      ]
     },
     "execution_count": 114,
     "metadata": {},
     "output_type": "execute_result"
    }
   ],
   "source": [
    "int_value = int(str(100))\n",
    "type(int_value)"
   ]
  },
  {
   "cell_type": "markdown",
   "metadata": {},
   "source": [
    "Exercice 13"
   ]
  },
  {
   "cell_type": "code",
   "execution_count": 117,
   "metadata": {},
   "outputs": [
    {
     "data": {
      "text/plain": [
       "'pro'"
      ]
     },
     "execution_count": 117,
     "metadata": {},
     "output_type": "execute_result"
    }
   ],
   "source": [
    "programming = \"programming\"\n",
    "programming[:3]"
   ]
  },
  {
   "cell_type": "markdown",
   "metadata": {},
   "source": [
    "Exercice 14"
   ]
  },
  {
   "cell_type": "code",
   "execution_count": 121,
   "metadata": {},
   "outputs": [
    {
     "data": {
      "text/plain": [
       "True"
      ]
     },
     "execution_count": 121,
     "metadata": {},
     "output_type": "execute_result"
    }
   ],
   "source": [
    "data = \"data\"\n",
    "data.endswith('ta')\n"
   ]
  },
  {
   "cell_type": "code",
   "execution_count": 122,
   "metadata": {},
   "outputs": [
    {
     "data": {
      "text/plain": [
       "True"
      ]
     },
     "execution_count": 122,
     "metadata": {},
     "output_type": "execute_result"
    }
   ],
   "source": [
    "data.startswith('da')"
   ]
  },
  {
   "cell_type": "markdown",
   "metadata": {},
   "source": [
    "Exercice 15"
   ]
  },
  {
   "cell_type": "code",
   "execution_count": 139,
   "metadata": {},
   "outputs": [
    {
     "data": {
      "text/plain": [
       "'gninrael enihcam'"
      ]
     },
     "execution_count": 139,
     "metadata": {},
     "output_type": "execute_result"
    }
   ],
   "source": [
    "ml = \"machine learning\"\n",
    "reversed_text = ml[::-1]\n",
    "reversed_text"
   ]
  },
  {
   "cell_type": "markdown",
   "metadata": {},
   "source": [
    "Exercice 16"
   ]
  },
  {
   "cell_type": "code",
   "execution_count": 141,
   "metadata": {},
   "outputs": [
    {
     "data": {
      "text/plain": [
       "'Machine Learning Is Fun'"
      ]
     },
     "execution_count": 141,
     "metadata": {},
     "output_type": "execute_result"
    }
   ],
   "source": [
    "ml = \"machine learning is fun\"\n",
    "ml.title()"
   ]
  },
  {
   "cell_type": "markdown",
   "metadata": {},
   "source": [
    "Exercice 17"
   ]
  },
  {
   "cell_type": "code",
   "execution_count": 143,
   "metadata": {},
   "outputs": [
    {
     "data": {
      "text/plain": [
       "'This is my poem for you \\n God has a plan for you. '"
      ]
     },
     "execution_count": 143,
     "metadata": {},
     "output_type": "execute_result"
    }
   ],
   "source": [
    "poem = \"\"\"This is my poem for you \\n God has a plan for you. \"\"\"\n",
    "poem"
   ]
  },
  {
   "cell_type": "markdown",
   "metadata": {},
   "source": [
    "Exercice 18"
   ]
  },
  {
   "cell_type": "code",
   "execution_count": 163,
   "metadata": {},
   "outputs": [],
   "source": [
    "file = open('output.txt','w')\n"
   ]
  },
  {
   "cell_type": "code",
   "execution_count": 164,
   "metadata": {},
   "outputs": [],
   "source": [
    "file.write(\"This is a string\")\n",
    "file.close()"
   ]
  },
  {
   "cell_type": "markdown",
   "metadata": {},
   "source": [
    "Exercice 19"
   ]
  },
  {
   "cell_type": "code",
   "execution_count": 172,
   "metadata": {},
   "outputs": [],
   "source": [
    "data = open('data.txt', 'w')\n",
    "data.write(\"data 1 \\n data 2 \\n data 3\")\n",
    "data.close()"
   ]
  },
  {
   "cell_type": "code",
   "execution_count": 173,
   "metadata": {},
   "outputs": [],
   "source": [
    "file = open('data.txt', 'r')\n",
    "file.readlines()\n",
    "file.close()"
   ]
  },
  {
   "cell_type": "markdown",
   "metadata": {},
   "source": [
    "Exercice 20"
   ]
  },
  {
   "cell_type": "code",
   "execution_count": 178,
   "metadata": {},
   "outputs": [
    {
     "name": "stdout",
     "output_type": "stream",
     "text": [
      "error\n"
     ]
    }
   ],
   "source": [
    "try:\n",
    "    with open('example.txt','r') as file:\n",
    "        content = file.read()\n",
    "except FileNotFoundError :\n",
    "        print(\"error\")"
   ]
  },
  {
   "cell_type": "markdown",
   "metadata": {},
   "source": [
    "Exercice 21"
   ]
  },
  {
   "cell_type": "code",
   "execution_count": 184,
   "metadata": {},
   "outputs": [],
   "source": [
    "file = open('notes.txt','w')\n",
    "file.write('This is a note')\n",
    "file.writelines('This is a new line')\n",
    "file = open('notes.txt','r')\n",
    "file.read()\n",
    "file.close()"
   ]
  },
  {
   "cell_type": "markdown",
   "metadata": {},
   "source": [
    "Exercice 22"
   ]
  },
  {
   "cell_type": "code",
   "execution_count": 192,
   "metadata": {},
   "outputs": [],
   "source": [
    "log = open('log.txt','w')\n",
    "log.write(\"line1 \\n line2 \\n line3\")\n",
    "log = open('log.txt','r')\n",
    "content = log.read()\n",
    "log_lines = content.split()\n",
    "log_lines\n",
    "log.close()"
   ]
  },
  {
   "cell_type": "markdown",
   "metadata": {},
   "source": [
    "Exercice 23"
   ]
  },
  {
   "cell_type": "code",
   "execution_count": 194,
   "metadata": {},
   "outputs": [],
   "source": [
    "report = open('report.txt','w')\n",
    "report.write(\"Data analysis report\")\n",
    "report.close()"
   ]
  }
 ],
 "metadata": {
  "colab": {
   "include_colab_link": true,
   "provenance": []
  },
  "kernelspec": {
   "display_name": "Python 3 (ipykernel)",
   "language": "python",
   "name": "python3"
  },
  "language_info": {
   "codemirror_mode": {
    "name": "ipython",
    "version": 3
   },
   "file_extension": ".py",
   "mimetype": "text/x-python",
   "name": "python",
   "nbconvert_exporter": "python",
   "pygments_lexer": "ipython3",
   "version": "3.11.2"
  }
 },
 "nbformat": 4,
 "nbformat_minor": 1
}
