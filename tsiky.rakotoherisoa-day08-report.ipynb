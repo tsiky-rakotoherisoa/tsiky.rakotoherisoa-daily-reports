{
 "cells": [
  {
   "cell_type": "markdown",
   "id": "ed0dd10b",
   "metadata": {},
   "source": [
    "## PyPro: challenge 1"
   ]
  },
  {
   "cell_type": "markdown",
   "id": "aaa69102",
   "metadata": {},
   "source": [
    "Basic Tasks"
   ]
  },
  {
   "cell_type": "markdown",
   "id": "5bef3267",
   "metadata": {},
   "source": [
    "1. Create a function find_max() that accepts two numeric inputs and returns the greater value. Avoid using the built-in max() function."
   ]
  },
  {
   "cell_type": "code",
   "execution_count": 30,
   "id": "9fffcfa1",
   "metadata": {},
   "outputs": [],
   "source": [
    "def find_max(a,b):\n",
    "    \"\"\"This function allow the user to find the maximum between \n",
    "    two numbers. The output is the max.\"\"\"\n",
    "    out = a > b\n",
    "    if (out == True):\n",
    "        return a\n",
    "    else:\n",
    "        return b\n",
    "    "
   ]
  },
  {
   "cell_type": "code",
   "execution_count": 31,
   "id": "b27a4987",
   "metadata": {},
   "outputs": [
    {
     "data": {
      "text/plain": [
       "98"
      ]
     },
     "execution_count": 31,
     "metadata": {},
     "output_type": "execute_result"
    }
   ],
   "source": [
    "find_max(8,98)"
   ]
  },
  {
   "cell_type": "markdown",
   "id": "f79c1ec9",
   "metadata": {},
   "source": [
    "2. Develop a function find_max_of_three() to find the maximum among three given numbers."
   ]
  },
  {
   "cell_type": "code",
   "execution_count": 32,
   "id": "6cf0f344",
   "metadata": {},
   "outputs": [],
   "source": [
    "def find_max_of_three(a,b,c):\n",
    "    \"\"\"This function allow to user to find the maximum \n",
    "    between three numbers. The output is the max. \n",
    "    We use the function defined below to find the max between two numbers.\"\"\"\n",
    "    m = find_max(a,b)\n",
    "    return find_max(m,c)\n",
    "        "
   ]
  },
  {
   "cell_type": "code",
   "execution_count": 33,
   "id": "a0e586ee",
   "metadata": {},
   "outputs": [
    {
     "data": {
      "text/plain": [
       "100000"
      ]
     },
     "execution_count": 33,
     "metadata": {},
     "output_type": "execute_result"
    }
   ],
   "source": [
    "find_max_of_three(89,56,100000)"
   ]
  },
  {
   "cell_type": "markdown",
   "id": "9d27ffe1",
   "metadata": {},
   "source": [
    "3. Write a function to manually calculate the length of a given list or string without using len()."
   ]
  },
  {
   "cell_type": "code",
   "execution_count": 34,
   "id": "33e17c9e",
   "metadata": {},
   "outputs": [],
   "source": [
    "def OwnLen():\n",
    "    \"\"\"This is a function that return the length of a given string without using len()\"\"\"\n",
    "    \n",
    "    ch = input(\"Give a string: \")\n",
    "    list_ch = list(ch)\n",
    "    iterator = 0\n",
    "    for i in list_ch:\n",
    "        iterator += 1\n",
    "    return iterator"
   ]
  },
  {
   "cell_type": "code",
   "execution_count": 35,
   "id": "77d88330",
   "metadata": {},
   "outputs": [
    {
     "name": "stdout",
     "output_type": "stream",
     "text": [
      "Give a string: tsiky tafita\n"
     ]
    },
    {
     "data": {
      "text/plain": [
       "12"
      ]
     },
     "execution_count": 35,
     "metadata": {},
     "output_type": "execute_result"
    }
   ],
   "source": [
    "OwnLen()"
   ]
  },
  {
   "cell_type": "markdown",
   "id": "75726e7a",
   "metadata": {},
   "source": [
    "4. Implement a function that checks if a given character is a vowel(a, e, i, o, u)"
   ]
  },
  {
   "cell_type": "code",
   "execution_count": 2,
   "id": "155ff304",
   "metadata": {},
   "outputs": [],
   "source": [
    "def is_vowel(c):\n",
    "    \"\"\"This function return if the given character is \n",
    "    a vowel or not\"\"\"\n",
    "    \n",
    "    vowel = [\"a\", \"o\", \"i\", \"e\", \"u\", \"A\", \"O\", \"I\", \"E\", \"U\", \"Y\", \"y\"]\n",
    "    #character = input(\"Give a character that you want to test: \")\n",
    "    if (c in vowel):\n",
    "        return True\n",
    "    else:\n",
    "        return False"
   ]
  },
  {
   "cell_type": "code",
   "execution_count": 3,
   "id": "078b923e",
   "metadata": {},
   "outputs": [
    {
     "data": {
      "text/plain": [
       "False"
      ]
     },
     "execution_count": 3,
     "metadata": {},
     "output_type": "execute_result"
    }
   ],
   "source": [
    "is_vowel(\"h\")"
   ]
  },
  {
   "cell_type": "markdown",
   "id": "02ec6cd1",
   "metadata": {},
   "source": [
    "5. Write a function encode() that converts a string into “rövarspråket” (robber’s language) by doubling consonants and placing “o” in between, e.g., “hello” -> “hohelollolo”."
   ]
  },
  {
   "cell_type": "code",
   "execution_count": 62,
   "id": "de6c2f07",
   "metadata": {},
   "outputs": [
    {
     "data": {
      "text/plain": [
       "'tsikoky'"
      ]
     },
     "execution_count": 62,
     "metadata": {},
     "output_type": "execute_result"
    }
   ],
   "source": [
    "s = \"tsiky\"\n",
    "s.replace(\"k\", \"kok\")"
   ]
  },
  {
   "cell_type": "code",
   "execution_count": 8,
   "id": "aa2e5aa3",
   "metadata": {},
   "outputs": [],
   "source": [
    "def encode(string):\n",
    "    \"\"\"The function  return the \n",
    "    string in the argument into robber's language\"\"\"\n",
    "    \n",
    "    new_string = \"\"\n",
    "    for i in string:\n",
    "        if (not is_vowel(i)):\n",
    "            new_string += i+\"o\"+i\n",
    "        else:\n",
    "            new_string += i\n",
    "    return new_string\n",
    "            "
   ]
  },
  {
   "cell_type": "code",
   "execution_count": 9,
   "id": "238649d2",
   "metadata": {},
   "outputs": [
    {
     "data": {
      "text/plain": [
       "'hohelollolo'"
      ]
     },
     "execution_count": 9,
     "metadata": {},
     "output_type": "execute_result"
    }
   ],
   "source": [
    "encode(\"hello\")"
   ]
  },
  {
   "cell_type": "markdown",
   "id": "eec125b0",
   "metadata": {},
   "source": [
    "6. Create sum_elements() and product_elements() functions to sum and multiply all elements in a list, respectively."
   ]
  },
  {
   "cell_type": "code",
   "execution_count": 1,
   "id": "40dd71db",
   "metadata": {},
   "outputs": [],
   "source": [
    "def sum_elements(lists):\n",
    "    sum_list = 0\n",
    "    for i in lists:\n",
    "        sum_list += i\n",
    "    return sum_list\n",
    "        "
   ]
  },
  {
   "cell_type": "code",
   "execution_count": 2,
   "id": "e9082b41",
   "metadata": {},
   "outputs": [
    {
     "data": {
      "text/plain": [
       "10"
      ]
     },
     "execution_count": 2,
     "metadata": {},
     "output_type": "execute_result"
    }
   ],
   "source": [
    "lists = [1,2,3,4]\n",
    "sum_elements(lists)"
   ]
  },
  {
   "cell_type": "code",
   "execution_count": 3,
   "id": "d5a92d89",
   "metadata": {},
   "outputs": [],
   "source": [
    "def product_elements(lists):\n",
    "    prod_list = 1\n",
    "    for i in lists:\n",
    "        prod_list *= i\n",
    "    return prod_list"
   ]
  },
  {
   "cell_type": "code",
   "execution_count": 5,
   "id": "02bf552b",
   "metadata": {},
   "outputs": [
    {
     "data": {
      "text/plain": [
       "24"
      ]
     },
     "execution_count": 5,
     "metadata": {},
     "output_type": "execute_result"
    }
   ],
   "source": [
    "product_elements(lists)"
   ]
  },
  {
   "cell_type": "markdown",
   "id": "d9a2a2d5",
   "metadata": {},
   "source": [
    "7. Define a function reverse_string() to reverse the characters in a given string."
   ]
  },
  {
   "cell_type": "code",
   "execution_count": 6,
   "id": "d0d61bf9",
   "metadata": {},
   "outputs": [],
   "source": [
    "def reverse_string(string):\n",
    "    new = string[::-1]\n",
    "    return new"
   ]
  },
  {
   "cell_type": "code",
   "execution_count": 7,
   "id": "6f7c0110",
   "metadata": {},
   "outputs": [
    {
     "data": {
      "text/plain": [
       "'iot olleh'"
      ]
     },
     "execution_count": 7,
     "metadata": {},
     "output_type": "execute_result"
    }
   ],
   "source": [
    "reverse_string(\"hello toi\")"
   ]
  },
  {
   "cell_type": "markdown",
   "id": "53d5701f",
   "metadata": {},
   "source": [
    "8. Implement check_palindrome() to verify if a string reads the same forwards and backwards, i.e. is a palindrome."
   ]
  },
  {
   "cell_type": "code",
   "execution_count": 9,
   "id": "ccae5d6a",
   "metadata": {},
   "outputs": [],
   "source": [
    "def check_palindrome(string):\n",
    "    r = reverse_string(string)\n",
    "    if (r == string):\n",
    "        return True\n",
    "    else:\n",
    "        return False"
   ]
  },
  {
   "cell_type": "code",
   "execution_count": 10,
   "id": "d7ac3315",
   "metadata": {},
   "outputs": [
    {
     "data": {
      "text/plain": [
       "True"
      ]
     },
     "execution_count": 10,
     "metadata": {},
     "output_type": "execute_result"
    }
   ],
   "source": [
    "check_palindrome(\"civic\")"
   ]
  },
  {
   "cell_type": "markdown",
   "id": "131644f9",
   "metadata": {},
   "source": [
    "9. Develop a function check_membership() to determine if a value exists within a list."
   ]
  },
  {
   "cell_type": "code",
   "execution_count": 12,
   "id": "03b844b0",
   "metadata": {},
   "outputs": [
    {
     "data": {
      "text/plain": [
       "False"
      ]
     },
     "execution_count": 12,
     "metadata": {},
     "output_type": "execute_result"
    }
   ],
   "source": [
    "lis = [1,2,3,4]\n",
    "5 in lis"
   ]
  },
  {
   "cell_type": "code",
   "execution_count": 13,
   "id": "d5630104",
   "metadata": {},
   "outputs": [],
   "source": [
    "def check_membership(val,lis):\n",
    "    if val in lis:\n",
    "        return True\n",
    "    else:\n",
    "        return False"
   ]
  },
  {
   "cell_type": "code",
   "execution_count": 15,
   "id": "406753cc",
   "metadata": {},
   "outputs": [
    {
     "data": {
      "text/plain": [
       "False"
      ]
     },
     "execution_count": 15,
     "metadata": {},
     "output_type": "execute_result"
    }
   ],
   "source": [
    "check_membership(5,[1,2,3,4,8])"
   ]
  },
  {
   "cell_type": "markdown",
   "id": "d421c34c",
   "metadata": {},
   "source": [
    "10. Write check_overlap() to identify if two lists share any elements."
   ]
  },
  {
   "cell_type": "code",
   "execution_count": null,
   "id": "748b334c",
   "metadata": {},
   "outputs": [],
   "source": [
    "\n",
    "    "
   ]
  }
 ],
 "metadata": {
  "kernelspec": {
   "display_name": "Python 3",
   "language": "python",
   "name": "python3"
  },
  "language_info": {
   "codemirror_mode": {
    "name": "ipython",
    "version": 3
   },
   "file_extension": ".py",
   "mimetype": "text/x-python",
   "name": "python",
   "nbconvert_exporter": "python",
   "pygments_lexer": "ipython3",
   "version": "3.9.2"
  }
 },
 "nbformat": 4,
 "nbformat_minor": 5
}
